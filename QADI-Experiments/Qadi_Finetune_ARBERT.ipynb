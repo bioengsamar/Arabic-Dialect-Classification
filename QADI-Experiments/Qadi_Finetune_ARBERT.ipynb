{
  "cells": [
    {
      "cell_type": "markdown",
      "metadata": {
        "id": "view-in-github",
        "colab_type": "text"
      },
      "source": [
        "<a href=\"https://colab.research.google.com/github/Salma-Jamal/Arabic-Dialect-Identification/blob/main/QADI-Experiments/Qadi_Finetune_ARBERT.ipynb\" target=\"_parent\"><img src=\"https://colab.research.google.com/assets/colab-badge.svg\" alt=\"Open In Colab\"/></a>"
      ]
    },
    {
      "cell_type": "markdown",
      "metadata": {
        "id": "1x7Cv9BSLzWa"
      },
      "source": [
        "#Imports"
      ]
    },
    {
      "cell_type": "code",
      "execution_count": null,
      "metadata": {
        "id": "jc8wjuqz2Tx3"
      },
      "outputs": [],
      "source": [
        "import pandas as pd\n",
        "import numpy as np\n",
        "from sklearn.metrics import precision_recall_fscore_support, accuracy_score\n",
        "!pip install -q transformers\n",
        "!pip install -q datasets\n",
        "import torch\n",
        "from torch.utils.data import Dataset, DataLoader\n",
        "from sklearn.model_selection import train_test_split\n",
        "import transformers\n",
        "from transformers import AutoModel, BertTokenizerFast, AutoModelForSequenceClassification, Trainer, TrainingArguments\n",
        "import numpy as np\n",
        "from transformers import TrainerCallback\n",
        "from copy import deepcopy\n",
        "from datasets import load_metric\n",
        "import seaborn as sns\n",
        "from matplotlib.pyplot import figure\n",
        "import matplotlib.pyplot as plt \n",
        "import plotly.graph_objs as go \n",
        "import os\n",
        "import warnings\n",
        "import matplotlib.pyplot as plt\n",
        "import numpy as np        \n",
        "warnings.filterwarnings(\"ignore\")\n",
        "plt.style.use('ggplot')\n",
        "import pandas as pd\n",
        "from PIL import Image\n",
        "import random\n",
        "from sklearn.metrics import accuracy_score\n",
        "from sklearn.metrics import f1_score\n",
        "from sklearn.metrics import confusion_matrix, classification_report\n",
        "\n"
      ]
    },
    {
      "cell_type": "markdown",
      "metadata": {
        "id": "rsdYgHrNLtRa"
      },
      "source": [
        "#Download Data"
      ]
    },
    {
      "cell_type": "code",
      "source": [
        "!gdown https://drive.google.com/uc?id=1L52IF87VWMepCgeu1GejE_AhE1x6PSXT"
      ],
      "metadata": {
        "id": "0wx9cO2OixVI",
        "colab": {
          "base_uri": "https://localhost:8080/"
        },
        "outputId": "4e1c9e12-d419-42ca-dafa-c8147434fdb0"
      },
      "execution_count": null,
      "outputs": [
        {
          "output_type": "stream",
          "name": "stdout",
          "text": [
            "Downloading...\n",
            "From: https://drive.google.com/uc?id=1L52IF87VWMepCgeu1GejE_AhE1x6PSXT\n",
            "To: /content/sample.csv\n",
            "\r  0% 0.00/11.4M [00:00<?, ?B/s]\r100% 11.4M/11.4M [00:00<00:00, 175MB/s]\n"
          ]
        }
      ]
    },
    {
      "cell_type": "markdown",
      "source": [
        "# Read Data"
      ],
      "metadata": {
        "id": "gO0KUcWgNYhN"
      }
    },
    {
      "cell_type": "code",
      "source": [
        "df = pd.read_csv('/content/sample.csv')"
      ],
      "metadata": {
        "id": "3SmZ-J5t60on"
      },
      "execution_count": null,
      "outputs": []
    },
    {
      "cell_type": "code",
      "source": [
        "def seed_everything(seed=1234):\n",
        "  random.seed(seed)\n",
        "  os.environ['PYTHONHASHSEED'] = str(seed)\n",
        "  np.random.seed(seed)\n",
        "  torch.manual_seed(seed)\n",
        "  torch.cuda.manual_seed(seed)\n",
        "  torch.backends.cudnn.deterministic = True\n",
        "seed_everything()"
      ],
      "metadata": {
        "id": "WkI8oHtsNdM5"
      },
      "execution_count": null,
      "outputs": []
    },
    {
      "cell_type": "code",
      "source": [
        "X_train, X_test, y_train, y_test = train_test_split(df['text'], df['dialect'], test_size=0.2, random_state=42)\n",
        "X_train, X_val, y_train, y_val = train_test_split(X_train, y_train, test_size=0.1, random_state=42)"
      ],
      "metadata": {
        "id": "2jCio7IQ64oQ"
      },
      "execution_count": null,
      "outputs": []
    },
    {
      "cell_type": "code",
      "source": [
        "df_train = pd.DataFrame({'tweet':X_train,'dialect':y_train})\n",
        "df_test = pd.DataFrame({'tweet':X_test,'dialect':y_test})\n",
        "df_val = pd.DataFrame({'tweet':X_val,'dialect':y_val})"
      ],
      "metadata": {
        "id": "OA2NQLnI8Ujm"
      },
      "execution_count": null,
      "outputs": []
    },
    {
      "cell_type": "code",
      "source": [
        "df_train.head()"
      ],
      "metadata": {
        "colab": {
          "base_uri": "https://localhost:8080/",
          "height": 206
        },
        "id": "n8vmEXJjgUNF",
        "outputId": "db1282c9-cb38-4635-e756-f7c3cba91a8e"
      },
      "execution_count": null,
      "outputs": [
        {
          "output_type": "execute_result",
          "data": {
            "text/plain": [
              "                                                   tweet dialect\n",
              "96586  سندرلاند الاخير والفريق قيمه اسعار اللاعبين ما...      KW\n",
              "57784                        اللوغه العرابيه تفصصلك بعيد      LY\n",
              "17345  اكييد التقوااس التقوااس التقوااس شاء الله شي ه...      MA\n",
              "15954  اعياد بيروت كلنا نعرف مين منظمو ليش نحكي تونس ...      LB\n",
              "85258                                 تامري امر اقل واجب      YE"
            ],
            "text/html": [
              "\n",
              "  <div id=\"df-428ef924-a2e0-4316-b241-cf9da08bccbf\">\n",
              "    <div class=\"colab-df-container\">\n",
              "      <div>\n",
              "<style scoped>\n",
              "    .dataframe tbody tr th:only-of-type {\n",
              "        vertical-align: middle;\n",
              "    }\n",
              "\n",
              "    .dataframe tbody tr th {\n",
              "        vertical-align: top;\n",
              "    }\n",
              "\n",
              "    .dataframe thead th {\n",
              "        text-align: right;\n",
              "    }\n",
              "</style>\n",
              "<table border=\"1\" class=\"dataframe\">\n",
              "  <thead>\n",
              "    <tr style=\"text-align: right;\">\n",
              "      <th></th>\n",
              "      <th>tweet</th>\n",
              "      <th>dialect</th>\n",
              "    </tr>\n",
              "  </thead>\n",
              "  <tbody>\n",
              "    <tr>\n",
              "      <th>96586</th>\n",
              "      <td>سندرلاند الاخير والفريق قيمه اسعار اللاعبين ما...</td>\n",
              "      <td>KW</td>\n",
              "    </tr>\n",
              "    <tr>\n",
              "      <th>57784</th>\n",
              "      <td>اللوغه العرابيه تفصصلك بعيد</td>\n",
              "      <td>LY</td>\n",
              "    </tr>\n",
              "    <tr>\n",
              "      <th>17345</th>\n",
              "      <td>اكييد التقوااس التقوااس التقوااس شاء الله شي ه...</td>\n",
              "      <td>MA</td>\n",
              "    </tr>\n",
              "    <tr>\n",
              "      <th>15954</th>\n",
              "      <td>اعياد بيروت كلنا نعرف مين منظمو ليش نحكي تونس ...</td>\n",
              "      <td>LB</td>\n",
              "    </tr>\n",
              "    <tr>\n",
              "      <th>85258</th>\n",
              "      <td>تامري امر اقل واجب</td>\n",
              "      <td>YE</td>\n",
              "    </tr>\n",
              "  </tbody>\n",
              "</table>\n",
              "</div>\n",
              "      <button class=\"colab-df-convert\" onclick=\"convertToInteractive('df-428ef924-a2e0-4316-b241-cf9da08bccbf')\"\n",
              "              title=\"Convert this dataframe to an interactive table.\"\n",
              "              style=\"display:none;\">\n",
              "        \n",
              "  <svg xmlns=\"http://www.w3.org/2000/svg\" height=\"24px\"viewBox=\"0 0 24 24\"\n",
              "       width=\"24px\">\n",
              "    <path d=\"M0 0h24v24H0V0z\" fill=\"none\"/>\n",
              "    <path d=\"M18.56 5.44l.94 2.06.94-2.06 2.06-.94-2.06-.94-.94-2.06-.94 2.06-2.06.94zm-11 1L8.5 8.5l.94-2.06 2.06-.94-2.06-.94L8.5 2.5l-.94 2.06-2.06.94zm10 10l.94 2.06.94-2.06 2.06-.94-2.06-.94-.94-2.06-.94 2.06-2.06.94z\"/><path d=\"M17.41 7.96l-1.37-1.37c-.4-.4-.92-.59-1.43-.59-.52 0-1.04.2-1.43.59L10.3 9.45l-7.72 7.72c-.78.78-.78 2.05 0 2.83L4 21.41c.39.39.9.59 1.41.59.51 0 1.02-.2 1.41-.59l7.78-7.78 2.81-2.81c.8-.78.8-2.07 0-2.86zM5.41 20L4 18.59l7.72-7.72 1.47 1.35L5.41 20z\"/>\n",
              "  </svg>\n",
              "      </button>\n",
              "      \n",
              "  <style>\n",
              "    .colab-df-container {\n",
              "      display:flex;\n",
              "      flex-wrap:wrap;\n",
              "      gap: 12px;\n",
              "    }\n",
              "\n",
              "    .colab-df-convert {\n",
              "      background-color: #E8F0FE;\n",
              "      border: none;\n",
              "      border-radius: 50%;\n",
              "      cursor: pointer;\n",
              "      display: none;\n",
              "      fill: #1967D2;\n",
              "      height: 32px;\n",
              "      padding: 0 0 0 0;\n",
              "      width: 32px;\n",
              "    }\n",
              "\n",
              "    .colab-df-convert:hover {\n",
              "      background-color: #E2EBFA;\n",
              "      box-shadow: 0px 1px 2px rgba(60, 64, 67, 0.3), 0px 1px 3px 1px rgba(60, 64, 67, 0.15);\n",
              "      fill: #174EA6;\n",
              "    }\n",
              "\n",
              "    [theme=dark] .colab-df-convert {\n",
              "      background-color: #3B4455;\n",
              "      fill: #D2E3FC;\n",
              "    }\n",
              "\n",
              "    [theme=dark] .colab-df-convert:hover {\n",
              "      background-color: #434B5C;\n",
              "      box-shadow: 0px 1px 3px 1px rgba(0, 0, 0, 0.15);\n",
              "      filter: drop-shadow(0px 1px 2px rgba(0, 0, 0, 0.3));\n",
              "      fill: #FFFFFF;\n",
              "    }\n",
              "  </style>\n",
              "\n",
              "      <script>\n",
              "        const buttonEl =\n",
              "          document.querySelector('#df-428ef924-a2e0-4316-b241-cf9da08bccbf button.colab-df-convert');\n",
              "        buttonEl.style.display =\n",
              "          google.colab.kernel.accessAllowed ? 'block' : 'none';\n",
              "\n",
              "        async function convertToInteractive(key) {\n",
              "          const element = document.querySelector('#df-428ef924-a2e0-4316-b241-cf9da08bccbf');\n",
              "          const dataTable =\n",
              "            await google.colab.kernel.invokeFunction('convertToInteractive',\n",
              "                                                     [key], {});\n",
              "          if (!dataTable) return;\n",
              "\n",
              "          const docLinkHtml = 'Like what you see? Visit the ' +\n",
              "            '<a target=\"_blank\" href=https://colab.research.google.com/notebooks/data_table.ipynb>data table notebook</a>'\n",
              "            + ' to learn more about interactive tables.';\n",
              "          element.innerHTML = '';\n",
              "          dataTable['output_type'] = 'display_data';\n",
              "          await google.colab.output.renderOutput(dataTable, element);\n",
              "          const docLink = document.createElement('div');\n",
              "          docLink.innerHTML = docLinkHtml;\n",
              "          element.appendChild(docLink);\n",
              "        }\n",
              "      </script>\n",
              "    </div>\n",
              "  </div>\n",
              "  "
            ]
          },
          "metadata": {},
          "execution_count": 7
        }
      ]
    },
    {
      "cell_type": "code",
      "source": [
        "df_val.head()"
      ],
      "metadata": {
        "colab": {
          "base_uri": "https://localhost:8080/",
          "height": 206
        },
        "id": "0o_TvM1KgWvA",
        "outputId": "c86a6fbc-f6d3-4cce-8ada-50f73e843c4c"
      },
      "execution_count": null,
      "outputs": [
        {
          "output_type": "execute_result",
          "data": {
            "text/plain": [
              "                                                   tweet dialect\n",
              "94532  اعرف شخص يتحدث تخصصه العملي يقول تشوف اللي يصي...      AE\n",
              "18306                                        تطلع اشاعات      QA\n",
              "22250  اين شخص شخصه يغرد علي موضوع العلاقات والارتباط...      LY\n",
              "25757         عجباك الاجازه هيك عندك صرت جزء ديكور البيت      PL\n",
              "4650                            للاسف حاولت وللحين مارجع      SA"
            ],
            "text/html": [
              "\n",
              "  <div id=\"df-9fd89a68-f11b-4b00-b694-965d802e5950\">\n",
              "    <div class=\"colab-df-container\">\n",
              "      <div>\n",
              "<style scoped>\n",
              "    .dataframe tbody tr th:only-of-type {\n",
              "        vertical-align: middle;\n",
              "    }\n",
              "\n",
              "    .dataframe tbody tr th {\n",
              "        vertical-align: top;\n",
              "    }\n",
              "\n",
              "    .dataframe thead th {\n",
              "        text-align: right;\n",
              "    }\n",
              "</style>\n",
              "<table border=\"1\" class=\"dataframe\">\n",
              "  <thead>\n",
              "    <tr style=\"text-align: right;\">\n",
              "      <th></th>\n",
              "      <th>tweet</th>\n",
              "      <th>dialect</th>\n",
              "    </tr>\n",
              "  </thead>\n",
              "  <tbody>\n",
              "    <tr>\n",
              "      <th>94532</th>\n",
              "      <td>اعرف شخص يتحدث تخصصه العملي يقول تشوف اللي يصي...</td>\n",
              "      <td>AE</td>\n",
              "    </tr>\n",
              "    <tr>\n",
              "      <th>18306</th>\n",
              "      <td>تطلع اشاعات</td>\n",
              "      <td>QA</td>\n",
              "    </tr>\n",
              "    <tr>\n",
              "      <th>22250</th>\n",
              "      <td>اين شخص شخصه يغرد علي موضوع العلاقات والارتباط...</td>\n",
              "      <td>LY</td>\n",
              "    </tr>\n",
              "    <tr>\n",
              "      <th>25757</th>\n",
              "      <td>عجباك الاجازه هيك عندك صرت جزء ديكور البيت</td>\n",
              "      <td>PL</td>\n",
              "    </tr>\n",
              "    <tr>\n",
              "      <th>4650</th>\n",
              "      <td>للاسف حاولت وللحين مارجع</td>\n",
              "      <td>SA</td>\n",
              "    </tr>\n",
              "  </tbody>\n",
              "</table>\n",
              "</div>\n",
              "      <button class=\"colab-df-convert\" onclick=\"convertToInteractive('df-9fd89a68-f11b-4b00-b694-965d802e5950')\"\n",
              "              title=\"Convert this dataframe to an interactive table.\"\n",
              "              style=\"display:none;\">\n",
              "        \n",
              "  <svg xmlns=\"http://www.w3.org/2000/svg\" height=\"24px\"viewBox=\"0 0 24 24\"\n",
              "       width=\"24px\">\n",
              "    <path d=\"M0 0h24v24H0V0z\" fill=\"none\"/>\n",
              "    <path d=\"M18.56 5.44l.94 2.06.94-2.06 2.06-.94-2.06-.94-.94-2.06-.94 2.06-2.06.94zm-11 1L8.5 8.5l.94-2.06 2.06-.94-2.06-.94L8.5 2.5l-.94 2.06-2.06.94zm10 10l.94 2.06.94-2.06 2.06-.94-2.06-.94-.94-2.06-.94 2.06-2.06.94z\"/><path d=\"M17.41 7.96l-1.37-1.37c-.4-.4-.92-.59-1.43-.59-.52 0-1.04.2-1.43.59L10.3 9.45l-7.72 7.72c-.78.78-.78 2.05 0 2.83L4 21.41c.39.39.9.59 1.41.59.51 0 1.02-.2 1.41-.59l7.78-7.78 2.81-2.81c.8-.78.8-2.07 0-2.86zM5.41 20L4 18.59l7.72-7.72 1.47 1.35L5.41 20z\"/>\n",
              "  </svg>\n",
              "      </button>\n",
              "      \n",
              "  <style>\n",
              "    .colab-df-container {\n",
              "      display:flex;\n",
              "      flex-wrap:wrap;\n",
              "      gap: 12px;\n",
              "    }\n",
              "\n",
              "    .colab-df-convert {\n",
              "      background-color: #E8F0FE;\n",
              "      border: none;\n",
              "      border-radius: 50%;\n",
              "      cursor: pointer;\n",
              "      display: none;\n",
              "      fill: #1967D2;\n",
              "      height: 32px;\n",
              "      padding: 0 0 0 0;\n",
              "      width: 32px;\n",
              "    }\n",
              "\n",
              "    .colab-df-convert:hover {\n",
              "      background-color: #E2EBFA;\n",
              "      box-shadow: 0px 1px 2px rgba(60, 64, 67, 0.3), 0px 1px 3px 1px rgba(60, 64, 67, 0.15);\n",
              "      fill: #174EA6;\n",
              "    }\n",
              "\n",
              "    [theme=dark] .colab-df-convert {\n",
              "      background-color: #3B4455;\n",
              "      fill: #D2E3FC;\n",
              "    }\n",
              "\n",
              "    [theme=dark] .colab-df-convert:hover {\n",
              "      background-color: #434B5C;\n",
              "      box-shadow: 0px 1px 3px 1px rgba(0, 0, 0, 0.15);\n",
              "      filter: drop-shadow(0px 1px 2px rgba(0, 0, 0, 0.3));\n",
              "      fill: #FFFFFF;\n",
              "    }\n",
              "  </style>\n",
              "\n",
              "      <script>\n",
              "        const buttonEl =\n",
              "          document.querySelector('#df-9fd89a68-f11b-4b00-b694-965d802e5950 button.colab-df-convert');\n",
              "        buttonEl.style.display =\n",
              "          google.colab.kernel.accessAllowed ? 'block' : 'none';\n",
              "\n",
              "        async function convertToInteractive(key) {\n",
              "          const element = document.querySelector('#df-9fd89a68-f11b-4b00-b694-965d802e5950');\n",
              "          const dataTable =\n",
              "            await google.colab.kernel.invokeFunction('convertToInteractive',\n",
              "                                                     [key], {});\n",
              "          if (!dataTable) return;\n",
              "\n",
              "          const docLinkHtml = 'Like what you see? Visit the ' +\n",
              "            '<a target=\"_blank\" href=https://colab.research.google.com/notebooks/data_table.ipynb>data table notebook</a>'\n",
              "            + ' to learn more about interactive tables.';\n",
              "          element.innerHTML = '';\n",
              "          dataTable['output_type'] = 'display_data';\n",
              "          await google.colab.output.renderOutput(dataTable, element);\n",
              "          const docLink = document.createElement('div');\n",
              "          docLink.innerHTML = docLinkHtml;\n",
              "          element.appendChild(docLink);\n",
              "        }\n",
              "      </script>\n",
              "    </div>\n",
              "  </div>\n",
              "  "
            ]
          },
          "metadata": {},
          "execution_count": 8
        }
      ]
    },
    {
      "cell_type": "code",
      "source": [
        "len(df_train) , len(df_val) , len(df_test)"
      ],
      "metadata": {
        "colab": {
          "base_uri": "https://localhost:8080/"
        },
        "id": "XmNS4jsuOn_b",
        "outputId": "402d4407-02d5-432c-8cef-bca508f7ed73"
      },
      "execution_count": null,
      "outputs": [
        {
          "output_type": "execute_result",
          "data": {
            "text/plain": [
              "(72000, 8000, 20000)"
            ]
          },
          "metadata": {},
          "execution_count": 9
        }
      ]
    },
    {
      "cell_type": "markdown",
      "metadata": {
        "id": "Qlm6uCAFOehF"
      },
      "source": [
        "#Preparing data and model"
      ]
    },
    {
      "cell_type": "code",
      "execution_count": null,
      "metadata": {
        "colab": {
          "base_uri": "https://localhost:8080/"
        },
        "id": "b8qxUJ7_PQcU",
        "outputId": "3e408860-21ed-4569-961c-e9d30dae0608"
      },
      "outputs": [
        {
          "output_type": "execute_result",
          "data": {
            "text/plain": [
              "array(['KW', 'LY', 'MA', 'LB', 'YE', 'EG', 'QA', 'JO', 'OM', 'AE', 'IQ',\n",
              "       'BH', 'PL', 'DZ', 'SA', 'SD', 'TN', 'SY'], dtype=object)"
            ]
          },
          "metadata": {},
          "execution_count": 10
        }
      ],
      "source": [
        "df_train['dialect'].unique()"
      ]
    },
    {
      "cell_type": "code",
      "source": [
        "class_name = ['KW', 'LY', 'MA', 'LB', 'YE', 'EG', 'QA', 'JO', 'OM', 'AE', 'IQ',\n",
        "       'BH', 'PL', 'DZ', 'SA', 'SD', 'TN', 'SY']\n",
        "\n",
        "def show_confusion_matrix(confusion_matrix):\n",
        "  plt.figure(figsize=(14, 10))\n",
        "  hmap = sns.heatmap(confusion_matrix, annot=True, fmt=\"d\", cmap=\"twilight\",cbar=False)\n",
        "  hmap.yaxis.set_ticklabels(hmap.yaxis.get_ticklabels(), rotation=0, ha='right')\n",
        "  hmap.xaxis.set_ticklabels(hmap.xaxis.get_ticklabels(), rotation=30, ha='right')\n",
        "  plt.ylabel('True Dialect')\n",
        "  plt.xlabel('Predicted Dialect');\n",
        "  plt.title('Confusion Matrix of Predictions')"
      ],
      "metadata": {
        "id": "QWd2wwx3E6kt"
      },
      "execution_count": null,
      "outputs": []
    },
    {
      "cell_type": "code",
      "execution_count": null,
      "metadata": {
        "id": "z05aELcHO9Z3"
      },
      "outputs": [],
      "source": [
        "encode_labels = {d: i for i, d in enumerate(df_train['dialect'].unique())}"
      ]
    },
    {
      "cell_type": "code",
      "execution_count": null,
      "metadata": {
        "id": "Gc7y8WR4UY89"
      },
      "outputs": [],
      "source": [
        "df_train['dialect'] = df_train['dialect'].map(encode_labels)\n",
        "df_val['dialect'] = df_val['dialect'].map(encode_labels)\n",
        "df_test['dialect'] = df_test['dialect'].map(encode_labels)"
      ]
    },
    {
      "cell_type": "code",
      "execution_count": null,
      "metadata": {
        "id": "hE8IoARrPoK9"
      },
      "outputs": [],
      "source": [
        "model = AutoModelForSequenceClassification.from_pretrained(\"aubmindlab/bert-base-arabert\", num_labels=len(df_train['dialect'].unique()))\n",
        "tokenizer = BertTokenizerFast.from_pretrained('aubmindlab/bert-base-arabert')"
      ]
    },
    {
      "cell_type": "code",
      "execution_count": null,
      "metadata": {
        "id": "QKoxthk3P9-S"
      },
      "outputs": [],
      "source": [
        "sequence = []\n",
        "for i in df_train['tweet'].tolist():\n",
        "  sequence.append(len(tokenizer.encode(i)))\n",
        "max_seq_len = max(sequence)"
      ]
    },
    {
      "cell_type": "code",
      "source": [
        "plt.hist(sequence);"
      ],
      "metadata": {
        "colab": {
          "base_uri": "https://localhost:8080/",
          "height": 265
        },
        "id": "u3Nit8q2JEFk",
        "outputId": "39cff6ac-cd26-4428-b74c-aa229d6ac929"
      },
      "execution_count": null,
      "outputs": [
        {
          "output_type": "display_data",
          "data": {
            "text/plain": [
              "<Figure size 432x288 with 1 Axes>"
            ],
            "image/png": "[encoded data removed]"
          },
          "metadata": {}
        }
      ]
    },
    {
      "cell_type": "code",
      "source": [
        "max_seq_len = 80"
      ],
      "metadata": {
        "id": "aJ0SHzwa95xl"
      },
      "execution_count": null,
      "outputs": []
    },
    {
      "cell_type": "code",
      "execution_count": null,
      "metadata": {
        "id": "RdIukFkhUBOE"
      },
      "outputs": [],
      "source": [
        "train = tokenizer(df_train['tweet'].to_list(), truncation=True, padding=True, max_length=max_seq_len)\n",
        "val = tokenizer(df_val['tweet'].to_list(), truncation=True, padding=True, max_length=max_seq_len)\n",
        "test = tokenizer(df_test['tweet'].to_list(), truncation=True, padding=True, max_length=max_seq_len)"
      ]
    },
    {
      "cell_type": "code",
      "execution_count": null,
      "metadata": {
        "id": "5BOt8LMnVbA2"
      },
      "outputs": [],
      "source": [
        "train_labels = df_train['dialect']\n",
        "val_labels = df_val['dialect']\n",
        "test_labels = df_test['dialect']"
      ]
    },
    {
      "cell_type": "code",
      "execution_count": null,
      "metadata": {
        "id": "H2lzLTGgUxgp"
      },
      "outputs": [],
      "source": [
        "class NADIDataset(Dataset):\n",
        "  def __init__(self, encodings, labels):\n",
        "      self.encodings = encodings\n",
        "      self.labels = labels.to_list()\n",
        "\n",
        "  def __getitem__(self, idx):\n",
        "      item = {key: torch.tensor(val[idx]) for key, val in self.encodings.items()}\n",
        "      item['labels'] = torch.tensor(self.labels[idx])\n",
        "      return item\n",
        "\n",
        "  def __len__(self):\n",
        "      return len(self.labels)\n"
      ]
    },
    {
      "cell_type": "code",
      "execution_count": null,
      "metadata": {
        "id": "HZ0Q8eMjBv60"
      },
      "outputs": [],
      "source": [
        "ds_train = NADIDataset(train, train_labels)\n",
        "ds_val =  NADIDataset(val, val_labels)\n",
        "ds_test =  NADIDataset(test, test_labels)"
      ]
    },
    {
      "cell_type": "code",
      "source": [
        "def compute_metrics(eval_pred):\n",
        "  logits, labels = eval_pred\n",
        "  predictions = np.argmax(logits, axis=-1)\n",
        "  f1 = f1_score(labels, predictions, average='macro')\n",
        "  acc = accuracy_score(labels, predictions)\n",
        "  return {\n",
        "      'accuracy': acc,\n",
        "  }"
      ],
      "metadata": {
        "id": "S-z9RW5MqabS"
      },
      "execution_count": null,
      "outputs": []
    },
    {
      "cell_type": "code",
      "source": [
        "training_args = TrainingArguments(\n",
        "    output_dir='./results',          \n",
        "    num_train_epochs=6,              \n",
        "    per_device_train_batch_size=64, \n",
        "    per_device_eval_batch_size=32,   \n",
        "    warmup_steps=500,                \n",
        "    weight_decay=0.01,      \n",
        "    evaluation_strategy = \"epoch\",        \n",
        "    save_strategy = 'epoch',\n",
        "    )\n",
        "\n",
        "trainer = Trainer(\n",
        "    model=model,                         \n",
        "    args=training_args,                 \n",
        "    train_dataset=ds_train,\n",
        "    eval_dataset=ds_val,                       \n",
        "    compute_metrics=compute_metrics\n",
        ")"
      ],
      "metadata": {
        "id": "EGsQ9hxHSYhl"
      },
      "execution_count": null,
      "outputs": []
    },
    {
      "cell_type": "markdown",
      "source": [
        "#Training"
      ],
      "metadata": {
        "id": "TpTc6Q75U5eX"
      }
    },
    {
      "cell_type": "code",
      "execution_count": null,
      "metadata": {
        "id": "JUe4n5GSWBZ4",
        "colab": {
          "base_uri": "https://localhost:8080/",
          "height": 1000
        },
        "outputId": "7e17145a-eebc-4756-979f-e658cba052c5"
      },
      "outputs": [
        {
          "output_type": "stream",
          "name": "stderr",
          "text": [
            "***** Running training *****\n",
            "  Num examples = 72000\n",
            "  Num Epochs = 6\n",
            "  Instantaneous batch size per device = 64\n",
            "  Total train batch size (w. parallel, distributed & accumulation) = 64\n",
            "  Gradient Accumulation steps = 1\n",
            "  Total optimization steps = 6750\n",
            "  Number of trainable parameters = 135207186\n"
          ]
        },
        {
          "output_type": "display_data",
          "data": {
            "text/plain": [
              "<IPython.core.display.HTML object>"
            ],
            "text/html": [
              "\n",
              "    <div>\n",
              "      \n",
              "      <progress value='6750' max='6750' style='width:300px; height:20px; vertical-align: middle;'></progress>\n",
              "      [6750/6750 1:30:23, Epoch 6/6]\n",
              "    </div>\n",
              "    <table border=\"1\" class=\"dataframe\">\n",
              "  <thead>\n",
              " <tr style=\"text-align: left;\">\n",
              "      <th>Epoch</th>\n",
              "      <th>Training Loss</th>\n",
              "      <th>Validation Loss</th>\n",
              "      <th>Accuracy</th>\n",
              "    </tr>\n",
              "  </thead>\n",
              "  <tbody>\n",
              "    <tr>\n",
              "      <td>1</td>\n",
              "      <td>2.164600</td>\n",
              "      <td>1.945352</td>\n",
              "      <td>0.373500</td>\n",
              "    </tr>\n",
              "    <tr>\n",
              "      <td>2</td>\n",
              "      <td>1.785600</td>\n",
              "      <td>1.781949</td>\n",
              "      <td>0.429125</td>\n",
              "    </tr>\n",
              "    <tr>\n",
              "      <td>3</td>\n",
              "      <td>1.424800</td>\n",
              "      <td>1.730634</td>\n",
              "      <td>0.467625</td>\n",
              "    </tr>\n",
              "    <tr>\n",
              "      <td>4</td>\n",
              "      <td>1.072500</td>\n",
              "      <td>1.789347</td>\n",
              "      <td>0.484000</td>\n",
              "    </tr>\n",
              "    <tr>\n",
              "      <td>5</td>\n",
              "      <td>0.798600</td>\n",
              "      <td>1.903877</td>\n",
              "      <td>0.495375</td>\n",
              "    </tr>\n",
              "    <tr>\n",
              "      <td>6</td>\n",
              "      <td>0.607600</td>\n",
              "      <td>1.992997</td>\n",
              "      <td>0.495250</td>\n",
              "    </tr>\n",
              "  </tbody>\n",
              "</table><p>"
            ]
          },
          "metadata": {}
        },
        {
          "output_type": "stream",
          "name": "stderr",
          "text": [
            "***** Running Evaluation *****\n",
            "  Num examples = 8000\n",
            "  Batch size = 32\n",
            "Saving model checkpoint to ./results/checkpoint-1125\n",
            "Configuration saved in ./results/checkpoint-1125/config.json\n",
            "Model weights saved in ./results/checkpoint-1125/pytorch_model.bin\n",
            "***** Running Evaluation *****\n",
            "  Num examples = 8000\n",
            "  Batch size = 32\n",
            "Saving model checkpoint to ./results/checkpoint-2250\n",
            "Configuration saved in ./results/checkpoint-2250/config.json\n",
            "Model weights saved in ./results/checkpoint-2250/pytorch_model.bin\n",
            "***** Running Evaluation *****\n",
            "  Num examples = 8000\n",
            "  Batch size = 32\n",
            "Saving model checkpoint to ./results/checkpoint-3375\n",
            "Configuration saved in ./results/checkpoint-3375/config.json\n",
            "Model weights saved in ./results/checkpoint-3375/pytorch_model.bin\n",
            "***** Running Evaluation *****\n",
            "  Num examples = 8000\n",
            "  Batch size = 32\n",
            "Saving model checkpoint to ./results/checkpoint-4500\n",
            "Configuration saved in ./results/checkpoint-4500/config.json\n",
            "Model weights saved in ./results/checkpoint-4500/pytorch_model.bin\n",
            "***** Running Evaluation *****\n",
            "  Num examples = 8000\n",
            "  Batch size = 32\n",
            "Saving model checkpoint to ./results/checkpoint-5625\n",
            "Configuration saved in ./results/checkpoint-5625/config.json\n",
            "Model weights saved in ./results/checkpoint-5625/pytorch_model.bin\n",
            "***** Running Evaluation *****\n",
            "  Num examples = 8000\n",
            "  Batch size = 32\n",
            "Saving model checkpoint to ./results/checkpoint-6750\n",
            "Configuration saved in ./results/checkpoint-6750/config.json\n",
            "Model weights saved in ./results/checkpoint-6750/pytorch_model.bin\n",
            "\n",
            "\n",
            "Training completed. Do not forget to share your model on huggingface.co/models =)\n",
            "\n",
            "\n"
          ]
        },
        {
          "output_type": "execute_result",
          "data": {
            "text/plain": [
              "TrainOutput(global_step=6750, training_loss=1.339705157244647, metrics={'train_runtime': 5427.0995, 'train_samples_per_second': 79.601, 'train_steps_per_second': 1.244, 'total_flos': 1.776254759424e+16, 'train_loss': 1.339705157244647, 'epoch': 6.0})"
            ]
          },
          "metadata": {},
          "execution_count": 24
        }
      ],
      "source": [
        "trainer.train()"
      ]
    },
    {
      "cell_type": "markdown",
      "source": [
        "# Testing"
      ],
      "metadata": {
        "id": "fCpu2Xp1Rdj4"
      }
    },
    {
      "cell_type": "code",
      "execution_count": null,
      "metadata": {
        "id": "GzYkNRtrpN5P",
        "colab": {
          "base_uri": "https://localhost:8080/",
          "height": 72
        },
        "outputId": "97c5595c-66f6-453c-d896-16cf8ee0e4e6"
      },
      "outputs": [
        {
          "output_type": "stream",
          "name": "stderr",
          "text": [
            "***** Running Prediction *****\n",
            "  Num examples = 20000\n",
            "  Batch size = 32\n"
          ]
        },
        {
          "output_type": "display_data",
          "data": {
            "text/plain": [
              "<IPython.core.display.HTML object>"
            ],
            "text/html": []
          },
          "metadata": {}
        }
      ],
      "source": [
        "preds = trainer.predict(ds_test)"
      ]
    },
    {
      "cell_type": "code",
      "execution_count": null,
      "metadata": {
        "id": "RhIRXXlmLKBH"
      },
      "outputs": [],
      "source": [
        "y_pred = [ np.argmax(i, axis=-1) for i  in preds[0]]\n",
        "y_test = ds_test.labels"
      ]
    },
    {
      "cell_type": "code",
      "source": [
        "accuracy_score(y_test, y_pred)"
      ],
      "metadata": {
        "id": "DHw4O-xat3bp",
        "colab": {
          "base_uri": "https://localhost:8080/"
        },
        "outputId": "866d4b56-85d5-4d0c-fa3a-6119df3fc5d2"
      },
      "execution_count": null,
      "outputs": [
        {
          "output_type": "execute_result",
          "data": {
            "text/plain": [
              "0.5028"
            ]
          },
          "metadata": {},
          "execution_count": 32
        }
      ]
    },
    {
      "cell_type": "code",
      "source": [
        "f1_score(y_test, y_pred, average='macro')"
      ],
      "metadata": {
        "id": "5dfoCcRbtzsf",
        "colab": {
          "base_uri": "https://localhost:8080/"
        },
        "outputId": "712056d8-cc51-4f94-97cc-e971656eb4c6"
      },
      "execution_count": null,
      "outputs": [
        {
          "output_type": "execute_result",
          "data": {
            "text/plain": [
              "0.46907241651607695"
            ]
          },
          "metadata": {},
          "execution_count": 33
        }
      ]
    },
    {
      "cell_type": "code",
      "source": [
        "cm = confusion_matrix(y_test, y_pred)\n",
        "df_cm = pd.DataFrame(cm, index=class_name, columns=class_name)\n",
        "show_confusion_matrix(df_cm)"
      ],
      "metadata": {
        "id": "XleB6K3cvi_j",
        "colab": {
          "base_uri": "https://localhost:8080/",
          "height": 632
        },
        "outputId": "328b9d27-3e49-4183-975c-2b916eb22c6b"
      },
      "execution_count": null,
      "outputs": [
        {
          "output_type": "display_data",
          "data": {
            "text/plain": [
              "<Figure size 1008x720 with 1 Axes>"
            ],
            "image/png": "[encoded data removed]"
          },
          "metadata": {}
        }
      ]
    },
    {
      "cell_type": "markdown",
      "metadata": {
        "id": "zyj3t7ifK8Ws"
      },
      "source": [
        "## Save model checkpoint"
      ]
    },
    {
      "cell_type": "code",
      "source": [
        "from google.colab import drive\n",
        "drive.mount('/content/drive')"
      ],
      "metadata": {
        "id": "yw8A0aT5VWj7",
        "colab": {
          "base_uri": "https://localhost:8080/"
        },
        "outputId": "d12ed9f6-21e2-4929-8abc-2cdfcad8bcca"
      },
      "execution_count": null,
      "outputs": [
        {
          "output_type": "stream",
          "name": "stdout",
          "text": [
            "Mounted at /content/drive\n"
          ]
        }
      ]
    },
    {
      "cell_type": "code",
      "source": [
        "trainer.save_model('./Qadi-Finetune-ARBERT')"
      ],
      "metadata": {
        "id": "0fov8YWpVc-J",
        "colab": {
          "base_uri": "https://localhost:8080/"
        },
        "outputId": "ff348e15-116e-4896-e61b-e9a4dc9e673f"
      },
      "execution_count": null,
      "outputs": [
        {
          "output_type": "stream",
          "name": "stderr",
          "text": [
            "Saving model checkpoint to ./Qadi-Finetune-ARBERT\n",
            "Configuration saved in ./Qadi-Finetune-ARBERT/config.json\n",
            "Model weights saved in ./Qadi-Finetune-ARBERT/pytorch_model.bin\n"
          ]
        }
      ]
    },
    {
      "cell_type": "code",
      "source": [
        "!cp -r /content/Qadi-Finetune-ARBERT /content/drive/MyDrive/Qadi-Finetune-ARBERT"
      ],
      "metadata": {
        "id": "P7u2RFQIVeRW"
      },
      "execution_count": null,
      "outputs": []
    },
    {
      "cell_type": "markdown",
      "metadata": {
        "id": "Wk2fFuqqLz0-"
      },
      "source": [
        "#Inference"
      ]
    },
    {
      "cell_type": "code",
      "source": [
        "from google.colab import drive\n",
        "drive.mount('/content/drive')"
      ],
      "metadata": {
        "id": "g_CyCdSDUGDb"
      },
      "execution_count": null,
      "outputs": []
    },
    {
      "cell_type": "code",
      "source": [
        "tokenizer = BertTokenizerFast.from_pretrained(\"aubmindlab/bert-base-arabert\")"
      ],
      "metadata": {
        "id": "x5XszYjlTqzj"
      },
      "execution_count": null,
      "outputs": []
    },
    {
      "cell_type": "code",
      "execution_count": null,
      "metadata": {
        "id": "bpeJqQgGL3J-",
        "colab": {
          "base_uri": "https://localhost:8080/",
          "height": 17
        },
        "outputId": "2dcce429-8e38-4016-cccd-213ac650d644"
      },
      "outputs": [
        {
          "output_type": "display_data",
          "data": {
            "text/plain": [
              "<IPython.core.display.HTML object>"
            ],
            "text/html": []
          },
          "metadata": {}
        }
      ],
      "source": [
        "inf_model = AutoModelForSequenceClassification.from_pretrained(\"/content/Qadi-Finetune-ARBERT\")\n",
        "inf_trainer = Trainer(\n",
        "    model=inf_model,                       \n",
        "    args=training_args,                 \n",
        "    train_dataset=ds_train,                     \n",
        "    compute_metrics=compute_metrics\n",
        ")\n",
        "inf_preds = inf_trainer.predict(ds_test)"
      ]
    },
    {
      "cell_type": "code",
      "source": [
        "y_pred = [ np.argmax(i, axis=-1) for i  in inf_preds[0]]\n",
        "y_test = ds_test.labels"
      ],
      "metadata": {
        "id": "oHXs1LjveBuo"
      },
      "execution_count": null,
      "outputs": []
    },
    {
      "cell_type": "code",
      "source": [
        "print('F1-Score =  ',f1_score(y_test, y_pred, average='macro')*100,\"%\")\n",
        "print('Accuracy = ',accuracy_score(y_test, y_pred)*100,\"%\")"
      ],
      "metadata": {
        "colab": {
          "base_uri": "https://localhost:8080/"
        },
        "id": "z6WxMk0meGYE",
        "outputId": "9f177fb5-7520-4f37-fcf4-ae97ce125ed7"
      },
      "execution_count": null,
      "outputs": [
        {
          "output_type": "stream",
          "name": "stdout",
          "text": [
            "F1-Score =   46.9072416516077 %\n",
            "Accuracy =  50.28 %\n"
          ]
        }
      ]
    },
    {
      "cell_type": "code",
      "source": [
        "def predict(Trainer,tokenizer,sentence):\n",
        "  data = [[0, sentence]]\n",
        "  inf_df = pd.DataFrame(data, columns = ['dialect', 'text'])\n",
        "  test_labels = inf_df['dialect']\n",
        "  test_encodings = tokenizer(inf_df['text'].to_list(), truncation=True, padding=True, max_length=max_seq_len)\n",
        "  test_dataset = NADIDataset(test_encodings, test_labels)\n",
        "  pred = Trainer.predict(test_dataset)\n",
        "  pred = np.argmax(pred[0],axis=-1)\n",
        "  return list(encode_labels.keys())[list(encode_labels.values()).index(pred[0])]"
      ],
      "metadata": {
        "id": "Udb_toLpySVN"
      },
      "execution_count": null,
      "outputs": []
    },
    {
      "cell_type": "code",
      "source": [
        "predict(inf_trainer,tokenizer,\"والنبي انتي عسل ودمك زي السكر\")"
      ],
      "metadata": {
        "colab": {
          "base_uri": "https://localhost:8080/",
          "height": 91
        },
        "id": "OnH4wmU5WuNN",
        "outputId": "db3eebbc-70b7-4069-b680-0b84e0dcd7f4"
      },
      "execution_count": null,
      "outputs": [
        {
          "output_type": "stream",
          "name": "stderr",
          "text": [
            "***** Running Prediction *****\n",
            "  Num examples = 1\n",
            "  Batch size = 32\n"
          ]
        },
        {
          "output_type": "display_data",
          "data": {
            "text/plain": [
              "<IPython.core.display.HTML object>"
            ],
            "text/html": []
          },
          "metadata": {}
        },
        {
          "output_type": "execute_result",
          "data": {
            "text/plain": [
              "'EG'"
            ],
            "application/vnd.google.colaboratory.intrinsic+json": {
              "type": "string"
            }
          },
          "metadata": {},
          "execution_count": 43
        }
      ]
    },
    {
      "cell_type": "code",
      "source": [
        "predict(inf_trainer,tokenizer,\"شكله زي هيك\")"
      ],
      "metadata": {
        "colab": {
          "base_uri": "https://localhost:8080/",
          "height": 91
        },
        "id": "F0Ms7jRyXvs1",
        "outputId": "bb8a7efc-e328-42cd-fc0f-b42fb00e0bf9"
      },
      "execution_count": null,
      "outputs": [
        {
          "output_type": "stream",
          "name": "stderr",
          "text": [
            "***** Running Prediction *****\n",
            "  Num examples = 1\n",
            "  Batch size = 32\n"
          ]
        },
        {
          "output_type": "display_data",
          "data": {
            "text/plain": [
              "<IPython.core.display.HTML object>"
            ],
            "text/html": []
          },
          "metadata": {}
        },
        {
          "output_type": "execute_result",
          "data": {
            "text/plain": [
              "'PL'"
            ],
            "application/vnd.google.colaboratory.intrinsic+json": {
              "type": "string"
            }
          },
          "metadata": {},
          "execution_count": 44
        }
      ]
    }
  ],
  "metadata": {
    "accelerator": "GPU",
    "colab": {
      "provenance": [],
      "include_colab_link": true
    },
    "kernelspec": {
      "display_name": "Python 3",
      "name": "python3"
    },
    "language_info": {
      "name": "python"
    }
  },
  "nbformat": 4,
  "nbformat_minor": 0
}