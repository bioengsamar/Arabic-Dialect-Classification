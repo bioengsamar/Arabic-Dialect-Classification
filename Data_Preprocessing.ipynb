{
  "nbformat": 4,
  "nbformat_minor": 0,
  "metadata": {
    "colab": {
      "provenance": []
    },
    "kernelspec": {
      "name": "python3",
      "display_name": "Python 3"
    },
    "language_info": {
      "name": "python"
    }
  },
  "cells": [
    {
      "cell_type": "code",
      "source": [
        "!pip install emoji"
      ],
      "metadata": {
        "colab": {
          "base_uri": "https://localhost:8080/"
        },
        "id": "k9gJrn8D3IKH",
        "outputId": "c09bb875-d8f3-4884-f346-ace94fb4906b"
      },
      "execution_count": 1,
      "outputs": [
        {
          "output_type": "stream",
          "name": "stdout",
          "text": [
            "Looking in indexes: https://pypi.org/simple, https://us-python.pkg.dev/colab-wheels/public/simple/\n",
            "Requirement already satisfied: emoji in /usr/local/lib/python3.8/dist-packages (2.2.0)\n"
          ]
        }
      ]
    },
    {
      "cell_type": "code",
      "execution_count": 21,
      "metadata": {
        "colab": {
          "base_uri": "https://localhost:8080/"
        },
        "id": "bDk8dvvGqa6D",
        "outputId": "346401d7-ef35-4b1c-86c2-6969fe4967c1"
      },
      "outputs": [
        {
          "output_type": "stream",
          "name": "stderr",
          "text": [
            "[nltk_data] Downloading package stopwords to /root/nltk_data...\n",
            "[nltk_data]   Package stopwords is already up-to-date!\n",
            "[nltk_data] Downloading package punkt to /root/nltk_data...\n",
            "[nltk_data]   Unzipping tokenizers/punkt.zip.\n"
          ]
        }
      ],
      "source": [
        "import pandas as pd\n",
        "import numpy as np\n",
        "import nltk\n",
        "nltk.download('stopwords')\n",
        "nltk.download('punkt')\n",
        "from nltk.corpus import stopwords\n",
        "import os\n",
        "import warnings\n",
        "from pathlib import Path\n",
        "import matplotlib.pyplot as plt\n",
        "import seaborn as sns\n",
        "import emoji  #pip install emoji\n",
        "import re\n",
        "# If you set the display.max_colwidth option, the information will be displayed fully\n",
        "pd.set_option('display.max_colwidth', None)"
      ]
    },
    {
      "cell_type": "markdown",
      "source": [
        "# **Data Understanding**"
      ],
      "metadata": {
        "id": "w_ioD5R4z2OU"
      }
    },
    {
      "cell_type": "code",
      "source": [
        "def load_data(sample=False, n =9246):\n",
        "  paths = Path('/content/drive/MyDrive/task_aim/data').glob('**/*.csv')\n",
        "  all_data = []\n",
        "  for path in paths:\n",
        "    data = pd.read_csv(path)\n",
        "    if sample:\n",
        "      data = data.sample(n=n)\n",
        "    all_data.append(data)\n",
        "  data_all = pd.concat(all_data)\n",
        "  return data_all\n",
        "\n",
        "def countplot(df, feature):\n",
        "  plt.figure(figsize=(12,5))\n",
        "  ax = sns.countplot(x=feature, data=df, palette='plasma', order=df[feature].value_counts().index)\n",
        "  for p in ax.patches:\n",
        "      x = p.get_bbox().get_points()[:, 0]\n",
        "      y = p.get_bbox().get_points()[1, 1]\n",
        "      #ax.annotate(''.format(y), (x.mean(), y), ha='center', va='bottom')\n",
        "      ax.annotate('{}'.format(int(y)), (x.mean(), y), ha='center', va='bottom')\n",
        "  ax.set(ylabel = 'Count')\n",
        "  plt.savefig('out.png', bbox_inches='tight')\n",
        "  plt.show()"
      ],
      "metadata": {
        "id": "9KFFMhxr1AFd"
      },
      "execution_count": 8,
      "outputs": []
    },
    {
      "cell_type": "code",
      "source": [
        "data_all = load_data()\n",
        "data_all"
      ],
      "metadata": {
        "colab": {
          "base_uri": "https://localhost:8080/",
          "height": 423
        },
        "id": "HvabyztF1MiM",
        "outputId": "1ead066b-bea8-47a2-f725-0623d08b98f2"
      },
      "execution_count": 9,
      "outputs": [
        {
          "output_type": "execute_result",
          "data": {
            "text/plain": [
              "                                                                                                                                                   text  \\\n",
              "0      #ناس_بكري_قالوا\\n\\nطيح وشوف شكون يوقف معاك غيب وشوف شكون يسأل عليك و بعد غربل و صفي...!\\n#مثل_شعبي_تونسي\\n#تونس_المزيانة https://t.co/RZdrOzoCUi   \n",
              "1                                                                                            @dalaaalmoufti تهبل والله .. فنانة مبدعة انت ماشاء الله 😍❤   \n",
              "2                                                                                                                    @MocJaber الله يبارك فيك ... يعيشك   \n",
              "3                                                                                                          @dalaaalmoufti عيدكم مبروك وسنين دايمة دلوع❤   \n",
              "4                                                     @dalaaalmoufti الله يسلمك دلوع الغالية ويمتعك بالصحة والعافية يا اجمل قلب ❤ \\nتوحشتك برشااااااااا   \n",
              "...                                                                                                                                                 ...   \n",
              "40451                                                                                                                      الله يحفظ #السعوودية واهلهاا   \n",
              "40452                                                           @AL_GHFRANI والله هالاشخاص من الصعب انا نلاقيهم ومن الصعب وجودهم اصلاا كلهم #نفسي #نفسي   \n",
              "40453                                                                                                                      @fatmanehad ع ايش شكرا حمااس   \n",
              "40454                                                                                          انا حياتي ورقة وحدة يعني لحد يغلط ويقول نفتح صفحة جديدة.   \n",
              "40455                                 احلى #قعدة مع احلى شباب\\nالغواليAshraf Amra Mosa EL Blbessy\\nاهلا وسهلا فيكم في بيتكو.. 😍 https://t.co/KLB43GvZZR   \n",
              "\n",
              "      dialect  \n",
              "0          TN  \n",
              "1          TN  \n",
              "2          TN  \n",
              "3          TN  \n",
              "4          TN  \n",
              "...       ...  \n",
              "40451      PL  \n",
              "40452      PL  \n",
              "40453      PL  \n",
              "40454      PL  \n",
              "40455      PL  \n",
              "\n",
              "[454911 rows x 2 columns]"
            ],
            "text/html": [
              "\n",
              "  <div id=\"df-c16d3fac-4fba-4d11-8a98-43fcbb0e140c\">\n",
              "    <div class=\"colab-df-container\">\n",
              "      <div>\n",
              "<style scoped>\n",
              "    .dataframe tbody tr th:only-of-type {\n",
              "        vertical-align: middle;\n",
              "    }\n",
              "\n",
              "    .dataframe tbody tr th {\n",
              "        vertical-align: top;\n",
              "    }\n",
              "\n",
              "    .dataframe thead th {\n",
              "        text-align: right;\n",
              "    }\n",
              "</style>\n",
              "<table border=\"1\" class=\"dataframe\">\n",
              "  <thead>\n",
              "    <tr style=\"text-align: right;\">\n",
              "      <th></th>\n",
              "      <th>text</th>\n",
              "      <th>dialect</th>\n",
              "    </tr>\n",
              "  </thead>\n",
              "  <tbody>\n",
              "    <tr>\n",
              "      <th>0</th>\n",
              "      <td>#ناس_بكري_قالوا\\n\\nطيح وشوف شكون يوقف معاك غيب وشوف شكون يسأل عليك و بعد غربل و صفي...!\\n#مثل_شعبي_تونسي\\n#تونس_المزيانة https://t.co/RZdrOzoCUi</td>\n",
              "      <td>TN</td>\n",
              "    </tr>\n",
              "    <tr>\n",
              "      <th>1</th>\n",
              "      <td>@dalaaalmoufti تهبل والله .. فنانة مبدعة انت ماشاء الله 😍❤</td>\n",
              "      <td>TN</td>\n",
              "    </tr>\n",
              "    <tr>\n",
              "      <th>2</th>\n",
              "      <td>@MocJaber الله يبارك فيك ... يعيشك</td>\n",
              "      <td>TN</td>\n",
              "    </tr>\n",
              "    <tr>\n",
              "      <th>3</th>\n",
              "      <td>@dalaaalmoufti عيدكم مبروك وسنين دايمة دلوع❤</td>\n",
              "      <td>TN</td>\n",
              "    </tr>\n",
              "    <tr>\n",
              "      <th>4</th>\n",
              "      <td>@dalaaalmoufti الله يسلمك دلوع الغالية ويمتعك بالصحة والعافية يا اجمل قلب ❤ \\nتوحشتك برشااااااااا</td>\n",
              "      <td>TN</td>\n",
              "    </tr>\n",
              "    <tr>\n",
              "      <th>...</th>\n",
              "      <td>...</td>\n",
              "      <td>...</td>\n",
              "    </tr>\n",
              "    <tr>\n",
              "      <th>40451</th>\n",
              "      <td>الله يحفظ #السعوودية واهلهاا</td>\n",
              "      <td>PL</td>\n",
              "    </tr>\n",
              "    <tr>\n",
              "      <th>40452</th>\n",
              "      <td>@AL_GHFRANI والله هالاشخاص من الصعب انا نلاقيهم ومن الصعب وجودهم اصلاا كلهم #نفسي #نفسي</td>\n",
              "      <td>PL</td>\n",
              "    </tr>\n",
              "    <tr>\n",
              "      <th>40453</th>\n",
              "      <td>@fatmanehad ع ايش شكرا حمااس</td>\n",
              "      <td>PL</td>\n",
              "    </tr>\n",
              "    <tr>\n",
              "      <th>40454</th>\n",
              "      <td>انا حياتي ورقة وحدة يعني لحد يغلط ويقول نفتح صفحة جديدة.</td>\n",
              "      <td>PL</td>\n",
              "    </tr>\n",
              "    <tr>\n",
              "      <th>40455</th>\n",
              "      <td>احلى #قعدة مع احلى شباب\\nالغواليAshraf Amra Mosa EL Blbessy\\nاهلا وسهلا فيكم في بيتكو.. 😍 https://t.co/KLB43GvZZR</td>\n",
              "      <td>PL</td>\n",
              "    </tr>\n",
              "  </tbody>\n",
              "</table>\n",
              "<p>454911 rows × 2 columns</p>\n",
              "</div>\n",
              "      <button class=\"colab-df-convert\" onclick=\"convertToInteractive('df-c16d3fac-4fba-4d11-8a98-43fcbb0e140c')\"\n",
              "              title=\"Convert this dataframe to an interactive table.\"\n",
              "              style=\"display:none;\">\n",
              "        \n",
              "  <svg xmlns=\"http://www.w3.org/2000/svg\" height=\"24px\"viewBox=\"0 0 24 24\"\n",
              "       width=\"24px\">\n",
              "    <path d=\"M0 0h24v24H0V0z\" fill=\"none\"/>\n",
              "    <path d=\"M18.56 5.44l.94 2.06.94-2.06 2.06-.94-2.06-.94-.94-2.06-.94 2.06-2.06.94zm-11 1L8.5 8.5l.94-2.06 2.06-.94-2.06-.94L8.5 2.5l-.94 2.06-2.06.94zm10 10l.94 2.06.94-2.06 2.06-.94-2.06-.94-.94-2.06-.94 2.06-2.06.94z\"/><path d=\"M17.41 7.96l-1.37-1.37c-.4-.4-.92-.59-1.43-.59-.52 0-1.04.2-1.43.59L10.3 9.45l-7.72 7.72c-.78.78-.78 2.05 0 2.83L4 21.41c.39.39.9.59 1.41.59.51 0 1.02-.2 1.41-.59l7.78-7.78 2.81-2.81c.8-.78.8-2.07 0-2.86zM5.41 20L4 18.59l7.72-7.72 1.47 1.35L5.41 20z\"/>\n",
              "  </svg>\n",
              "      </button>\n",
              "      \n",
              "  <style>\n",
              "    .colab-df-container {\n",
              "      display:flex;\n",
              "      flex-wrap:wrap;\n",
              "      gap: 12px;\n",
              "    }\n",
              "\n",
              "    .colab-df-convert {\n",
              "      background-color: #E8F0FE;\n",
              "      border: none;\n",
              "      border-radius: 50%;\n",
              "      cursor: pointer;\n",
              "      display: none;\n",
              "      fill: #1967D2;\n",
              "      height: 32px;\n",
              "      padding: 0 0 0 0;\n",
              "      width: 32px;\n",
              "    }\n",
              "\n",
              "    .colab-df-convert:hover {\n",
              "      background-color: #E2EBFA;\n",
              "      box-shadow: 0px 1px 2px rgba(60, 64, 67, 0.3), 0px 1px 3px 1px rgba(60, 64, 67, 0.15);\n",
              "      fill: #174EA6;\n",
              "    }\n",
              "\n",
              "    [theme=dark] .colab-df-convert {\n",
              "      background-color: #3B4455;\n",
              "      fill: #D2E3FC;\n",
              "    }\n",
              "\n",
              "    [theme=dark] .colab-df-convert:hover {\n",
              "      background-color: #434B5C;\n",
              "      box-shadow: 0px 1px 3px 1px rgba(0, 0, 0, 0.15);\n",
              "      filter: drop-shadow(0px 1px 2px rgba(0, 0, 0, 0.3));\n",
              "      fill: #FFFFFF;\n",
              "    }\n",
              "  </style>\n",
              "\n",
              "      <script>\n",
              "        const buttonEl =\n",
              "          document.querySelector('#df-c16d3fac-4fba-4d11-8a98-43fcbb0e140c button.colab-df-convert');\n",
              "        buttonEl.style.display =\n",
              "          google.colab.kernel.accessAllowed ? 'block' : 'none';\n",
              "\n",
              "        async function convertToInteractive(key) {\n",
              "          const element = document.querySelector('#df-c16d3fac-4fba-4d11-8a98-43fcbb0e140c');\n",
              "          const dataTable =\n",
              "            await google.colab.kernel.invokeFunction('convertToInteractive',\n",
              "                                                     [key], {});\n",
              "          if (!dataTable) return;\n",
              "\n",
              "          const docLinkHtml = 'Like what you see? Visit the ' +\n",
              "            '<a target=\"_blank\" href=https://colab.research.google.com/notebooks/data_table.ipynb>data table notebook</a>'\n",
              "            + ' to learn more about interactive tables.';\n",
              "          element.innerHTML = '';\n",
              "          dataTable['output_type'] = 'display_data';\n",
              "          await google.colab.output.renderOutput(dataTable, element);\n",
              "          const docLink = document.createElement('div');\n",
              "          docLink.innerHTML = docLinkHtml;\n",
              "          element.appendChild(docLink);\n",
              "        }\n",
              "      </script>\n",
              "    </div>\n",
              "  </div>\n",
              "  "
            ]
          },
          "metadata": {},
          "execution_count": 9
        }
      ]
    },
    {
      "cell_type": "code",
      "source": [
        "countplot(data_all, 'dialect')"
      ],
      "metadata": {
        "colab": {
          "base_uri": "https://localhost:8080/",
          "height": 335
        },
        "id": "LUU-UIXG1vTN",
        "outputId": "9ffc5063-8082-49ea-de32-8da4ad138777"
      },
      "execution_count": 10,
      "outputs": [
        {
          "output_type": "display_data",
          "data": {
            "text/plain": [
              "<Figure size 864x360 with 1 Axes>"
            ],
            "image/png": "[encoded data removed]"
          },
          "metadata": {
            "needs_background": "light"
          }
        }
      ]
    },
    {
      "cell_type": "code",
      "source": [
        "#Stats about Text\n",
        "def avg_word(sentence):\n",
        "    words = sentence.split()\n",
        "    if len(words) == 0:\n",
        "        return 0\n",
        "    return (sum(len(word) for word in words)/len(words))\n",
        "\n",
        "def emoji_counter(sentence):\n",
        "    return emoji.emoji_count(sentence)\n",
        "\n",
        "def hyperlinks_counter(sentence):\n",
        "\t# findall() has been used\n",
        "\t# with valid conditions for urls in string\n",
        "\tregex = r\"(?i)\\b((?:https?://|www\\d{0,3}[.]|[a-z0-9.\\-]+[.][a-z]{2,4}/)(?:[^\\s()<>]+|\\(([^\\s()<>]+|(\\([^\\s()<>]+\\)))*\\))+(?:\\(([^\\s()<>]+|(\\([^\\s()<>]+\\)))*\\)|[^\\s`!()\\[\\]{};:'\\\".,<>?«»“”‘’]))\"\n",
        "\turl = re.findall(regex, sentence)\n",
        "\treturn len(url)\n",
        "\n",
        "data_all['word_count'] = data_all['text'].apply(lambda x: len(str(x).split(\" \")))\n",
        "data_all['char_count'] = data_all['text'].str.len() ## this also includes spaces\n",
        "data_all['avg_char_per_word'] = data_all['text'].apply(lambda x: avg_word(x))\n",
        "stop = stopwords.words('arabic')\n",
        "data_all['stopwords'] = data_all['text'].apply(lambda x: len([x for x in x.split() if x in stop]))\n",
        "data_all['emoji_count'] = data_all['text'].apply(lambda x: emoji_counter(x))\n",
        "data_all['hyperlinks_count'] = data_all['text'].apply(lambda x: hyperlinks_counter(x))\n",
        "data_all.sort_values(by='word_count',ascending=[0]).head()"
      ],
      "metadata": {
        "colab": {
          "base_uri": "https://localhost:8080/",
          "height": 319
        },
        "id": "rjj5860s14Hx",
        "outputId": "27c3fea3-11bc-4598-c1a3-4b1444ea06bb"
      },
      "execution_count": 12,
      "outputs": [
        {
          "output_type": "execute_result",
          "data": {
            "text/plain": [
              "                                                                                                                                                                                                                                                                              text  \\\n",
              "27585                                             نبيه بري                                                نبيه بري                                               نبيه بري                                               #نحو_السابعة                                       انشالله   \n",
              "26053        ٭     .       .        .       ٭    .         ٭ .      .       .      ٭ \\nالنــاس فـــﮯ وشـــگ مـرأيـــہ\\nو فـــﮯ ظهـــرگ مـليـون حگـايـــہ👌😉💙 !       \\n         .        .      .          ٭     . .     .         ٭.     .         . \\n.       .•    •      •    •   \n",
              "7727   السلام عليكم.                                                   ادري طلبي مضحك شوي.                                   بس تكفى تكفى اسىل متابعينك وين احصل مثل شماغ هذا                                                 يرسلي اسم المحل اوً اللوكيشن https://t.co/s9QOpA4Plg   \n",
              "2579                                                                   نفســيتك محتاجه ؟؟ \\n\\n            👰           📚            ✈            🎓               \\n           زواج         نجاح         سفر         تخرج           \\n\\n      💑حب            💍خطوبة            فلوس💰   \n",
              "52801                                   كنت دايما بسأل إزاي اخشع في الصلاه أو عالاقل مسرحش 😱                                                                                                                           لقيت معظم الناس بتقولي اقرأي سور... https://t.co/B80Cy2tk7U   \n",
              "\n",
              "      dialect  word_count  char_count  avg_char_per_word  stopwords  \\\n",
              "27585      LB         185         224           5.000000          0   \n",
              "26053      JO         166         257           2.444444          1   \n",
              "7727       QA         154         267           5.181818          3   \n",
              "2579       JO         145         198           3.500000          0   \n",
              "52801      EG         140         234           5.277778          2   \n",
              "\n",
              "       emoji_count  hyperlinks_count  \n",
              "27585            0                 0  \n",
              "26053            3                 0  \n",
              "7727             0                 1  \n",
              "2579             7                 0  \n",
              "52801            1                 1  "
            ],
            "text/html": [
              "\n",
              "  <div id=\"df-bda93338-6e9c-493a-840c-042051cd7072\">\n",
              "    <div class=\"colab-df-container\">\n",
              "      <div>\n",
              "<style scoped>\n",
              "    .dataframe tbody tr th:only-of-type {\n",
              "        vertical-align: middle;\n",
              "    }\n",
              "\n",
              "    .dataframe tbody tr th {\n",
              "        vertical-align: top;\n",
              "    }\n",
              "\n",
              "    .dataframe thead th {\n",
              "        text-align: right;\n",
              "    }\n",
              "</style>\n",
              "<table border=\"1\" class=\"dataframe\">\n",
              "  <thead>\n",
              "    <tr style=\"text-align: right;\">\n",
              "      <th></th>\n",
              "      <th>text</th>\n",
              "      <th>dialect</th>\n",
              "      <th>word_count</th>\n",
              "      <th>char_count</th>\n",
              "      <th>avg_char_per_word</th>\n",
              "      <th>stopwords</th>\n",
              "      <th>emoji_count</th>\n",
              "      <th>hyperlinks_count</th>\n",
              "    </tr>\n",
              "  </thead>\n",
              "  <tbody>\n",
              "    <tr>\n",
              "      <th>27585</th>\n",
              "      <td>نبيه بري                                                نبيه بري                                               نبيه بري                                               #نحو_السابعة                                       انشالله</td>\n",
              "      <td>LB</td>\n",
              "      <td>185</td>\n",
              "      <td>224</td>\n",
              "      <td>5.000000</td>\n",
              "      <td>0</td>\n",
              "      <td>0</td>\n",
              "      <td>0</td>\n",
              "    </tr>\n",
              "    <tr>\n",
              "      <th>26053</th>\n",
              "      <td>٭     .       .        .       ٭    .         ٭ .      .       .      ٭ \\nالنــاس فـــﮯ وشـــگ مـرأيـــہ\\nو فـــﮯ ظهـــرگ مـليـون حگـايـــہ👌😉💙 !       \\n         .        .      .          ٭     . .     .         ٭.     .         . \\n.       .•    •      •    •</td>\n",
              "      <td>JO</td>\n",
              "      <td>166</td>\n",
              "      <td>257</td>\n",
              "      <td>2.444444</td>\n",
              "      <td>1</td>\n",
              "      <td>3</td>\n",
              "      <td>0</td>\n",
              "    </tr>\n",
              "    <tr>\n",
              "      <th>7727</th>\n",
              "      <td>السلام عليكم.                                                   ادري طلبي مضحك شوي.                                   بس تكفى تكفى اسىل متابعينك وين احصل مثل شماغ هذا                                                 يرسلي اسم المحل اوً اللوكيشن https://t.co/s9QOpA4Plg</td>\n",
              "      <td>QA</td>\n",
              "      <td>154</td>\n",
              "      <td>267</td>\n",
              "      <td>5.181818</td>\n",
              "      <td>3</td>\n",
              "      <td>0</td>\n",
              "      <td>1</td>\n",
              "    </tr>\n",
              "    <tr>\n",
              "      <th>2579</th>\n",
              "      <td>نفســيتك محتاجه ؟؟ \\n\\n            👰           📚            ✈            🎓               \\n           زواج         نجاح         سفر         تخرج           \\n\\n      💑حب            💍خطوبة            فلوس💰</td>\n",
              "      <td>JO</td>\n",
              "      <td>145</td>\n",
              "      <td>198</td>\n",
              "      <td>3.500000</td>\n",
              "      <td>0</td>\n",
              "      <td>7</td>\n",
              "      <td>0</td>\n",
              "    </tr>\n",
              "    <tr>\n",
              "      <th>52801</th>\n",
              "      <td>كنت دايما بسأل إزاي اخشع في الصلاه أو عالاقل مسرحش 😱                                                                                                                           لقيت معظم الناس بتقولي اقرأي سور... https://t.co/B80Cy2tk7U</td>\n",
              "      <td>EG</td>\n",
              "      <td>140</td>\n",
              "      <td>234</td>\n",
              "      <td>5.277778</td>\n",
              "      <td>2</td>\n",
              "      <td>1</td>\n",
              "      <td>1</td>\n",
              "    </tr>\n",
              "  </tbody>\n",
              "</table>\n",
              "</div>\n",
              "      <button class=\"colab-df-convert\" onclick=\"convertToInteractive('df-bda93338-6e9c-493a-840c-042051cd7072')\"\n",
              "              title=\"Convert this dataframe to an interactive table.\"\n",
              "              style=\"display:none;\">\n",
              "        \n",
              "  <svg xmlns=\"http://www.w3.org/2000/svg\" height=\"24px\"viewBox=\"0 0 24 24\"\n",
              "       width=\"24px\">\n",
              "    <path d=\"M0 0h24v24H0V0z\" fill=\"none\"/>\n",
              "    <path d=\"M18.56 5.44l.94 2.06.94-2.06 2.06-.94-2.06-.94-.94-2.06-.94 2.06-2.06.94zm-11 1L8.5 8.5l.94-2.06 2.06-.94-2.06-.94L8.5 2.5l-.94 2.06-2.06.94zm10 10l.94 2.06.94-2.06 2.06-.94-2.06-.94-.94-2.06-.94 2.06-2.06.94z\"/><path d=\"M17.41 7.96l-1.37-1.37c-.4-.4-.92-.59-1.43-.59-.52 0-1.04.2-1.43.59L10.3 9.45l-7.72 7.72c-.78.78-.78 2.05 0 2.83L4 21.41c.39.39.9.59 1.41.59.51 0 1.02-.2 1.41-.59l7.78-7.78 2.81-2.81c.8-.78.8-2.07 0-2.86zM5.41 20L4 18.59l7.72-7.72 1.47 1.35L5.41 20z\"/>\n",
              "  </svg>\n",
              "      </button>\n",
              "      \n",
              "  <style>\n",
              "    .colab-df-container {\n",
              "      display:flex;\n",
              "      flex-wrap:wrap;\n",
              "      gap: 12px;\n",
              "    }\n",
              "\n",
              "    .colab-df-convert {\n",
              "      background-color: #E8F0FE;\n",
              "      border: none;\n",
              "      border-radius: 50%;\n",
              "      cursor: pointer;\n",
              "      display: none;\n",
              "      fill: #1967D2;\n",
              "      height: 32px;\n",
              "      padding: 0 0 0 0;\n",
              "      width: 32px;\n",
              "    }\n",
              "\n",
              "    .colab-df-convert:hover {\n",
              "      background-color: #E2EBFA;\n",
              "      box-shadow: 0px 1px 2px rgba(60, 64, 67, 0.3), 0px 1px 3px 1px rgba(60, 64, 67, 0.15);\n",
              "      fill: #174EA6;\n",
              "    }\n",
              "\n",
              "    [theme=dark] .colab-df-convert {\n",
              "      background-color: #3B4455;\n",
              "      fill: #D2E3FC;\n",
              "    }\n",
              "\n",
              "    [theme=dark] .colab-df-convert:hover {\n",
              "      background-color: #434B5C;\n",
              "      box-shadow: 0px 1px 3px 1px rgba(0, 0, 0, 0.15);\n",
              "      filter: drop-shadow(0px 1px 2px rgba(0, 0, 0, 0.3));\n",
              "      fill: #FFFFFF;\n",
              "    }\n",
              "  </style>\n",
              "\n",
              "      <script>\n",
              "        const buttonEl =\n",
              "          document.querySelector('#df-bda93338-6e9c-493a-840c-042051cd7072 button.colab-df-convert');\n",
              "        buttonEl.style.display =\n",
              "          google.colab.kernel.accessAllowed ? 'block' : 'none';\n",
              "\n",
              "        async function convertToInteractive(key) {\n",
              "          const element = document.querySelector('#df-bda93338-6e9c-493a-840c-042051cd7072');\n",
              "          const dataTable =\n",
              "            await google.colab.kernel.invokeFunction('convertToInteractive',\n",
              "                                                     [key], {});\n",
              "          if (!dataTable) return;\n",
              "\n",
              "          const docLinkHtml = 'Like what you see? Visit the ' +\n",
              "            '<a target=\"_blank\" href=https://colab.research.google.com/notebooks/data_table.ipynb>data table notebook</a>'\n",
              "            + ' to learn more about interactive tables.';\n",
              "          element.innerHTML = '';\n",
              "          dataTable['output_type'] = 'display_data';\n",
              "          await google.colab.output.renderOutput(dataTable, element);\n",
              "          const docLink = document.createElement('div');\n",
              "          docLink.innerHTML = docLinkHtml;\n",
              "          element.appendChild(docLink);\n",
              "        }\n",
              "      </script>\n",
              "    </div>\n",
              "  </div>\n",
              "  "
            ]
          },
          "metadata": {},
          "execution_count": 12
        }
      ]
    },
    {
      "cell_type": "markdown",
      "source": [
        "# **Cleaning Text**"
      ],
      "metadata": {
        "id": "pNrXnmVg4Wr9"
      }
    },
    {
      "cell_type": "markdown",
      "source": [
        "## **Text standarisation**"
      ],
      "metadata": {
        "id": "B300M1hF_jiQ"
      }
    },
    {
      "cell_type": "code",
      "source": [
        "!pip install pyarabic"
      ],
      "metadata": {
        "colab": {
          "base_uri": "https://localhost:8080/"
        },
        "id": "1jbQ2nty_Pqo",
        "outputId": "5d18acdc-f63b-4b1e-bf5f-90fe19624c03"
      },
      "execution_count": 14,
      "outputs": [
        {
          "output_type": "stream",
          "name": "stdout",
          "text": [
            "Looking in indexes: https://pypi.org/simple, https://us-python.pkg.dev/colab-wheels/public/simple/\n",
            "Collecting pyarabic\n",
            "  Downloading PyArabic-0.6.15-py3-none-any.whl (126 kB)\n",
            "\u001b[?25l     \u001b[90m━━━━━━━━━━━━━━━━━━━━━━━━━━━━━━━━━━━━━━━━\u001b[0m \u001b[32m0.0/126.4 KB\u001b[0m \u001b[31m?\u001b[0m eta \u001b[36m-:--:--\u001b[0m\r\u001b[2K     \u001b[90m━━━━━━━━━━━━━━━━━━━━━━━━━━━━━━━━━━━━━━\u001b[0m \u001b[32m126.4/126.4 KB\u001b[0m \u001b[31m12.0 MB/s\u001b[0m eta \u001b[36m0:00:00\u001b[0m\n",
            "\u001b[?25hRequirement already satisfied: six>=1.14.0 in /usr/local/lib/python3.8/dist-packages (from pyarabic) (1.15.0)\n",
            "Installing collected packages: pyarabic\n",
            "Successfully installed pyarabic-0.6.15\n"
          ]
        }
      ]
    },
    {
      "cell_type": "code",
      "source": [
        "from textblob import TextBlob\n",
        "import pyarabic.araby as araby"
      ],
      "metadata": {
        "id": "rPWj7_j04U-d"
      },
      "execution_count": 15,
      "outputs": []
    },
    {
      "cell_type": "code",
      "source": [
        "stops = set(stopwords.words(\"arabic\"))\n",
        "stop_word_comp = {\"،\",\"آض\",\"آمينَ\",\"آه\",\"آهاً\",\"آي\",\"أ\",\"أب\",\"أجل\",\"أجمع\",\"أخ\",\"أخذ\",\"أصبح\",\"أضحى\",\"أقبل\",\"أقل\",\"أكثر\",\"ألا\",\"أم\",\"أما\",\"أمامك\",\"أمامكَ\",\"أمسى\",\"أمّا\",\"أن\",\"أنا\",\"أنت\",\"أنتم\",\"أنتما\",\"أنتن\",\"أنتِ\",\"أنشأ\",\"أنّى\",\"أو\",\"أوشك\",\"أولئك\",\"أولئكم\",\"أولاء\",\"أولالك\",\"أوّهْ\",\"أي\",\"أيا\",\"أين\",\"أينما\",\"أيّ\",\"أَنَّ\",\"أََيُّ\",\"أُفٍّ\",\"إذ\",\"إذا\",\"إذاً\",\"إذما\",\"إذن\",\"إلى\",\"إليكم\",\"إليكما\",\"إليكنّ\",\"إليكَ\",\"إلَيْكَ\",\"إلّا\",\"إمّا\",\"إن\",\"إنّما\",\"إي\",\"إياك\",\"إياكم\",\"إياكما\",\"إياكن\",\"إيانا\",\"إياه\",\"إياها\",\"إياهم\",\"إياهما\",\"إياهن\",\"إياي\",\"إيهٍ\",\"إِنَّ\",\"ا\",\"ابتدأ\",\"اثر\",\"اجل\",\"احد\",\"اخرى\",\"اخلولق\",\"اذا\",\"اربعة\",\"ارتدّ\",\"استحال\",\"اطار\",\"اعادة\",\"اعلنت\",\"اف\",\"اكثر\",\"اكد\",\"الألاء\",\"الألى\",\"الا\",\"الاخيرة\",\"الان\",\"الاول\",\"الاولى\",\"التى\",\"التي\",\"الثاني\",\"الثانية\",\"الذاتي\",\"الذى\",\"الذي\",\"الذين\",\"السابق\",\"الف\",\"اللائي\",\"اللاتي\",\"اللتان\",\"اللتيا\",\"اللتين\",\"اللذان\",\"اللذين\",\"اللواتي\",\"الماضي\",\"المقبل\",\"الوقت\",\"الى\",\"اليوم\",\"اما\",\"امام\",\"امس\",\"ان\",\"انبرى\",\"انقلب\",\"انه\",\"انها\",\"او\",\"اول\",\"اي\",\"ايار\",\"ايام\",\"ايضا\",\"ب\",\"بات\",\"باسم\",\"بان\",\"بخٍ\",\"برس\",\"بسبب\",\"بسّ\",\"بشكل\",\"بضع\",\"بطآن\",\"بعد\",\"بعض\",\"بك\",\"بكم\",\"بكما\",\"بكن\",\"بل\",\"بلى\",\"بما\",\"بماذا\",\"بمن\",\"بن\",\"بنا\",\"به\",\"بها\",\"بي\",\"بيد\",\"بين\",\"بَسْ\",\"بَلْهَ\",\"بِئْسَ\",\"تانِ\",\"تانِك\",\"تبدّل\",\"تجاه\",\"تحوّل\",\"تلقاء\",\"تلك\",\"تلكم\",\"تلكما\",\"تم\",\"تينك\",\"تَيْنِ\",\"تِه\",\"تِي\",\"ثلاثة\",\"ثم\",\"ثمّ\",\"ثمّة\",\"ثُمَّ\",\"جعل\",\"جلل\",\"جميع\",\"جير\",\"حار\",\"حاشا\",\"حاليا\",\"حاي\",\"حتى\",\"حرى\",\"حسب\",\"حم\",\"حوالى\",\"حول\",\"حيث\",\"حيثما\",\"حين\",\"حيَّ\",\"حَبَّذَا\",\"حَتَّى\",\"حَذارِ\",\"خلا\",\"خلال\",\"دون\",\"دونك\",\"ذا\",\"ذات\",\"ذاك\",\"ذانك\",\"ذانِ\",\"ذلك\",\"ذلكم\",\"ذلكما\",\"ذلكن\",\"ذو\",\"ذوا\",\"ذواتا\",\"ذواتي\",\"ذيت\",\"ذينك\",\"ذَيْنِ\",\"ذِه\",\"ذِي\",\"راح\",\"رجع\",\"رويدك\",\"ريث\",\"رُبَّ\",\"زيارة\",\"سبحان\",\"سرعان\",\"سنة\",\"سنوات\",\"سوف\",\"سوى\",\"سَاءَ\",\"سَاءَمَا\",\"شبه\",\"شخصا\",\"شرع\",\"شَتَّانَ\",\"صار\",\"صباح\",\"صفر\",\"صهٍ\",\"صهْ\",\"ضد\",\"ضمن\",\"طاق\",\"طالما\",\"طفق\",\"طَق\",\"ظلّ\",\"عاد\",\"عام\",\"عاما\",\"عامة\",\"عدا\",\"عدة\",\"عدد\",\"عدم\",\"عسى\",\"عشر\",\"عشرة\",\"علق\",\"على\",\"عليك\",\"عليه\",\"عليها\",\"علًّ\",\"عن\",\"عند\",\"عندما\",\"عوض\",\"عين\",\"عَدَسْ\",\"عَمَّا\",\"غدا\",\"غير\",\"ـ\",\"ف\",\"فان\",\"فلان\",\"فو\",\"فى\",\"في\",\"فيم\",\"فيما\",\"فيه\",\"فيها\",\"قال\",\"قام\",\"قبل\",\"قد\",\"قطّ\",\"قلما\",\"قوة\",\"كأنّما\",\"كأين\",\"كأيّ\",\"كأيّن\",\"كاد\",\"كان\",\"كانت\",\"كذا\",\"كذلك\",\"كرب\",\"كل\",\"كلا\",\"كلاهما\",\"كلتا\",\"كلم\",\"كليكما\",\"كليهما\",\"كلّما\",\"كلَّا\",\"كم\",\"كما\",\"كي\",\"كيت\",\"كيف\",\"كيفما\",\"كَأَنَّ\",\"كِخ\",\"لئن\",\"لا\",\"لات\",\"لاسيما\",\"لدن\",\"لدى\",\"لعمر\",\"لقاء\",\"لك\",\"لكم\",\"لكما\",\"لكن\",\"لكنَّما\",\"لكي\",\"لكيلا\",\"للامم\",\"لم\",\"لما\",\"لمّا\",\"لن\",\"لنا\",\"له\",\"لها\",\"لو\",\"لوكالة\",\"لولا\",\"لوما\",\"لي\",\"لَسْتَ\",\"لَسْتُ\",\"لَسْتُم\",\"لَسْتُمَا\",\"لَسْتُنَّ\",\"لَسْتِ\",\"لَسْنَ\",\"لَعَلَّ\",\"لَكِنَّ\",\"لَيْتَ\",\"لَيْسَ\",\"لَيْسَا\",\"لَيْسَتَا\",\"لَيْسَتْ\",\"لَيْسُوا\",\"لَِسْنَا\",\"ما\",\"ماانفك\",\"مابرح\",\"مادام\",\"ماذا\",\"مازال\",\"مافتئ\",\"مايو\",\"متى\",\"مثل\",\"مذ\",\"مساء\",\"مع\",\"معاذ\",\"مقابل\",\"مكانكم\",\"مكانكما\",\"مكانكنّ\",\"مكانَك\",\"مليار\",\"مليون\",\"مما\",\"ممن\",\"من\",\"منذ\",\"منها\",\"مه\",\"مهما\",\"مَنْ\",\"مِن\",\"نحن\",\"نحو\",\"نعم\",\"نفس\",\"نفسه\",\"نهاية\",\"نَخْ\",\"نِعِمّا\",\"نِعْمَ\",\"ها\",\"هاؤم\",\"هاكَ\",\"هاهنا\",\"هبّ\",\"هذا\",\"هذه\",\"هكذا\",\"هل\",\"هلمَّ\",\"هلّا\",\"هم\",\"هما\",\"هن\",\"هنا\",\"هناك\",\"هنالك\",\"هو\",\"هي\",\"هيا\",\"هيت\",\"هيّا\",\"هَؤلاء\",\"هَاتانِ\",\"هَاتَيْنِ\",\"هَاتِه\",\"هَاتِي\",\"هَجْ\",\"هَذا\",\"هَذانِ\",\"هَذَيْنِ\",\"هَذِه\",\"هَذِي\",\"هَيْهَاتَ\",\"و\",\"و6\",\"وا\",\"واحد\",\"واضاف\",\"واضافت\",\"واكد\",\"وان\",\"واهاً\",\"واوضح\",\"وراءَك\",\"وفي\",\"وقال\",\"وقالت\",\"وقد\",\"وقف\",\"وكان\",\"وكانت\",\"ولا\",\"ولم\",\"ومن\",\"مَن\",\"وهو\",\"وهي\",\"ويكأنّ\",\"وَيْ\",\"وُشْكَانََ\",\"يكون\",\"يمكن\",\"يوم\",\"ّأيّان\"}\n",
        "\n",
        "def normalizeArabic(text):\n",
        "    text = text.strip()\n",
        "    text = re.sub(\"[إأٱآا]\", \"ا\", text)\n",
        "    text = re.sub(\"ى\", \"ي\", text)    # transform 'ى' to 'ي' \n",
        "    text = re.sub(\"ؤ\", \"ء\", text)    # transform 'ؤ' to 'ء'\n",
        "    text = re.sub(\"ئ\", \"ء\", text)    # transform 'ئ' to 'ء'\n",
        "    text = re.sub(\"ة\", \"ه\", text)    # transform 'ة' to 'ه'\n",
        "    noise = re.compile(\"\"\" ّ    | # Tashdid\n",
        "                             َ    | # Fatha\n",
        "                             ً    | # Tanwin Fath\n",
        "                             ُ    | # Damma\n",
        "                             ٌ    | # Tanwin Damm\n",
        "                             ِ    | # Kasra\n",
        "                             ٍ    | # Tanwin Kasr\n",
        "                             ْ    | # Sukun\n",
        "                             ـ     # Tatwil/Kashida\n",
        "                         \"\"\", re.VERBOSE)\n",
        "    text = re.sub(noise, '', text)\n",
        "    text = re.sub(r'(.)\\1+', r\"\\1\\1\", text) # Remove longation\n",
        "    return araby.strip_tashkeel(text)\n",
        "\n",
        "def remove_stop_words(text):\n",
        "    zen = TextBlob(text)\n",
        "    words = zen.words\n",
        "    return \" \".join([w for w in words if not w in stops and not w in stop_word_comp and len(w) >= 2])"
      ],
      "metadata": {
        "id": "YKl3Kar43o2p"
      },
      "execution_count": 16,
      "outputs": []
    },
    {
      "cell_type": "markdown",
      "source": [
        "## **Deal with Hashtags in a string**"
      ],
      "metadata": {
        "id": "4PVqIyFA_-yt"
      }
    },
    {
      "cell_type": "code",
      "source": [
        "def split_hashtag_to_words(tag):\n",
        "    tag = tag.replace('#','')\n",
        "    tags = tag.split('_')\n",
        "    if len(tags) > 1 :\n",
        "        return tags\n",
        "    \n",
        "    pattern = re.compile(r\"[A-Z][a-z]+|\\d+|[A-Z]+(?![a-z])\")\n",
        "    if len(pattern.findall(tag)) != 0:\n",
        "        return pattern.findall(tag)\n",
        "    \n",
        "    # for one arabic hashtag\n",
        "    return [tag]\n",
        "\n",
        "def is_hashtag(word):\n",
        "    if word.startswith(\"#\"):\n",
        "        return True\n",
        "    else:\n",
        "        return False\n",
        "    \n",
        "def extract_hashtag(text):\n",
        "    hash_list = ([re.sub(r\"(\\W+)$\", \"\", i) for i in text.split() if i.startswith(\"#\")])\n",
        "    word_list = []\n",
        "    for word in hash_list :\n",
        "        word_list.extend(split_hashtag_to_words(word))\n",
        "    return word_list\n",
        "\n",
        "def clean_hashtag(text):\n",
        "    words = text.split()\n",
        "    text = list()\n",
        "    for word in words:\n",
        "        if is_hashtag(word):\n",
        "            text.extend(extract_hashtag(word))\n",
        "        else:\n",
        "            text.append(word)\n",
        "    return \" \".join(text)"
      ],
      "metadata": {
        "id": "x_I21zRR_tdx"
      },
      "execution_count": 17,
      "outputs": []
    },
    {
      "cell_type": "markdown",
      "source": [
        "## **Dealing with emojis in a string**"
      ],
      "metadata": {
        "id": "rJhhIa3aAXst"
      }
    },
    {
      "cell_type": "code",
      "source": [
        "def remove_emoji(text):\n",
        "    emoji_pattern = re.compile(\"[\"\n",
        "                               u\"\\U0001F600-\\U0001F64F\"  # emoticons\n",
        "                               u\"\\U0001F300-\\U0001F5FF\"  # symbols & pictographs\n",
        "                               u\"\\U0001F680-\\U0001F6FF\"  # transport & map symbols\n",
        "                               u\"\\U0001F1E0-\\U0001F1FF\"  # flags (iOS)\n",
        "                               u\"\\U00002500-\\U00002BEF\"  # chinese char\n",
        "                               u\"\\U00002702-\\U000027B0\"\n",
        "                               u\"\\U00002702-\\U000027B0\"\n",
        "                               u\"\\U000024C2-\\U0001F251\"\n",
        "                               u\"\\U0001f926-\\U0001f937\"\n",
        "                               u\"\\U00010000-\\U0010ffff\"\n",
        "                               u\"\\u2640-\\u2642\"\n",
        "                               u\"\\u2600-\\u2B55\"\n",
        "                               u\"\\u200d\"\n",
        "                               u\"\\u23cf\"\n",
        "                               u\"\\u23e9\"\n",
        "                               u\"\\u231a\"\n",
        "                               u\"\\ufe0f\"  # dingbats\n",
        "                               u\"\\u3030\"\n",
        "                               \"]+\", flags=re.UNICODE)\n",
        "    text = emoji_pattern.sub(r'', text)\n",
        "    return text\n",
        "\n",
        "\n",
        "def emoji_native_translation(text):\n",
        "    text = text.lower()\n",
        "    loves = [\"<3\", \"♥\",'❤']\n",
        "    smilefaces = []\n",
        "    sadfaces = []\n",
        "    neutralfaces = []\n",
        "\n",
        "    eyes = [\"8\",\":\",\"=\",\";\"]\n",
        "    nose = [\"'\",\"`\",\"-\",r\"\\\\\"]\n",
        "    for e in eyes:\n",
        "        for n in nose:\n",
        "            for s in [\")\", \"d\", \"]\", \"}\",\"p\"]:\n",
        "                smilefaces.append(e+n+s)\n",
        "                smilefaces.append(e+s)\n",
        "            for s in [\"(\", \"[\", \"{\"]:\n",
        "                sadfaces.append(e+n+s)\n",
        "                sadfaces.append(e+s)\n",
        "            for s in [\"|\", \"/\", r\"\\\\\"]:\n",
        "                neutralfaces.append(e+n+s)\n",
        "                neutralfaces.append(e+s)\n",
        "            #reversed\n",
        "            for s in [\"(\", \"[\", \"{\"]:\n",
        "                smilefaces.append(s+n+e)\n",
        "                smilefaces.append(s+e)\n",
        "            for s in [\")\", \"]\", \"}\"]:\n",
        "                sadfaces.append(s+n+e)\n",
        "                sadfaces.append(s+e)\n",
        "            for s in [\"|\", \"/\", r\"\\\\\"]:\n",
        "                neutralfaces.append(s+n+e)\n",
        "                neutralfaces.append(s+e)\n",
        "\n",
        "    smilefaces = list(set(smilefaces))\n",
        "    sadfaces = list(set(sadfaces))\n",
        "    neutralfaces = list(set(neutralfaces))\n",
        "    t = []\n",
        "    for w in text.split():\n",
        "        if w in loves:\n",
        "            t.append(\"حب\")\n",
        "        elif w in smilefaces:\n",
        "            t.append(\"مضحك\")\n",
        "        elif w in neutralfaces:\n",
        "            t.append(\"عادي\")\n",
        "        elif w in sadfaces:\n",
        "            t.append(\"محزن\")\n",
        "        else:\n",
        "            t.append(w)\n",
        "    newText = \" \".join(t)\n",
        "    return newText\n",
        "    \n",
        "def clean_emoji(text):\n",
        "    text = emoji_native_translation(text)\n",
        "    return text"
      ],
      "metadata": {
        "id": "lVPEAxuPAPc4"
      },
      "execution_count": 18,
      "outputs": []
    },
    {
      "cell_type": "markdown",
      "source": [
        "## **Clean tweets**"
      ],
      "metadata": {
        "id": "_AF2W4xPAlgK"
      }
    },
    {
      "cell_type": "code",
      "source": [
        "def clean_tweet(text):\n",
        "    text = re.sub('#\\d+K\\d+', ' ', text)  # years like 2K19\n",
        "    text = re.sub('http\\S+\\s*', ' ', text)  # remove URLs\n",
        "    text = re.sub('RT|cc', ' ', text)  # remove RT and cc\n",
        "    text = re.sub('@[^\\s]+',' ',text) # remove @username\n",
        "    text = re.sub(r'\\r?\\n|\\r',' ', text) # remove new line in  Windows: '\\r\\n', Linux '\\n',Apple '\\r'\n",
        "    text = clean_hashtag(text)\n",
        "    text = clean_emoji(text)\n",
        "    return text"
      ],
      "metadata": {
        "id": "Kgj7rvtbAeWJ"
      },
      "execution_count": 19,
      "outputs": []
    },
    {
      "cell_type": "markdown",
      "source": [
        "## **Cleaning Whole Text**"
      ],
      "metadata": {
        "id": "fnYC9IKYAuIf"
      }
    },
    {
      "cell_type": "code",
      "source": [
        "def clean_text(text):\n",
        "    ## Clean for tweets\n",
        "    text = clean_tweet(text)\n",
        "    ## Remove punctuations\n",
        "    text = re.sub('[%s]' % re.escape(\"\"\"!\"#$%&'()*+,،-./:;<=>؟?@[\\]^_`{|}~\"\"\"), ' ', text)  # remove punctuation\n",
        "    ## Remove extra whitespace\n",
        "    text = re.sub('\\s+', ' ', text)  \n",
        "    ## Remove Emojis\n",
        "    text = remove_emoji(text)\n",
        "    ## Convert text to lowercases\n",
        "    text = text.lower()\n",
        "    ## Remove stop words\n",
        "    text = remove_stop_words(text)\n",
        "    ## Remove numbers\n",
        "    text = re.sub(\"\\d+\", \" \", text)\n",
        "    ## Remove Tashkeel\n",
        "    text = normalizeArabic(text)\n",
        "    ## Remove non-Arabic Letters\n",
        "    text = re.sub('[A-Za-z]+',' ',text)\n",
        "    ## Remove extra whitespace\n",
        "    text = re.sub('\\s+', ' ', text)\n",
        "    return text\n",
        "\n",
        "data_all['text'] = data_all['text'].apply(lambda x:clean_text(x))"
      ],
      "metadata": {
        "id": "ytTe3E6ZAr1W"
      },
      "execution_count": 22,
      "outputs": []
    },
    {
      "cell_type": "code",
      "source": [
        "Word_series_counts = pd.Series(' '.join(data_all['text']).split()).value_counts()\n",
        "### Show Common words\n",
        "freq = Word_series_counts[:30]\n",
        "print(f\"Most common {len(freq)} words:\\n{freq.to_dict()}\")\n",
        "freq = list(freq.index)\n",
        "### Show Rare words\n",
        "All_words_dict = Word_series_counts.to_dict()\n",
        "rare = dict()\n",
        "c = 0\n",
        "max_rare_words = 100 # to fasten the search a bit as when all used takes long period (>+30mins)\n",
        "for key, value in All_words_dict.items():\n",
        "    if value == 1:\n",
        "        if c >= max_rare_words:\n",
        "            break\n",
        "        rare.update({key:value})\n",
        "        c+=1\n",
        "\n",
        "print(f\"Most rare {len(rare)} words:\\n{rare}\")\n",
        "rare = list(rare.keys())\n"
      ],
      "metadata": {
        "colab": {
          "base_uri": "https://localhost:8080/"
        },
        "id": "BSjqU-sqBffZ",
        "outputId": "34cfa854-7d87-4277-d321-dc05895084b2"
      },
      "execution_count": 49,
      "outputs": [
        {
          "output_type": "stream",
          "name": "stdout",
          "text": [
            "Most common 30 words:\n",
            "{'اللي': 64448, 'الله': 49578, 'مش': 30803, 'انا': 30448, 'والله': 24573, 'هه': 21205, 'شي': 19725, 'انت': 17677, 'يعني': 13822, 'الناس': 13320, 'عشان': 13314, 'الي': 12738, 'علي': 12134, 'مو': 11887, 'ده': 11128, 'شو': 9615, 'دي': 9285, 'احنا': 8511, 'ليش': 8375, 'وين': 8353, 'لازم': 7972, 'حد': 7770, 'ناس': 7363, 'ايه': 7359, 'وانا': 7020, 'مره': 6923, 'اني': 6759, 'ممكن': 6675, 'زي': 6672, 'حاجه': 6504}\n",
            "Most rare 100 words:\n",
            "{'وصمون': 1, 'عصاتنا': 1, 'هنتفاجا': 1, 'ونحذفه': 1, 'حلاحيل': 1, 'استلزم': 1, 'نتحقق': 1, 'مستكنين': 1, 'انكاره': 1, 'سواحليوس': 1, 'هالذكيه': 1, 'زمطت': 1, 'ياخووي': 1, 'حيغتصبوك': 1, 'نجديعسي': 1, 'ريجكم': 1, 'تبلعون': 1, 'وظله': 1, 'بنفهما': 1, 'بساقه': 1, 'اشادته': 1, 'مسرحات': 1, 'اسيءه': 1, 'تدلچ': 1, 'ثوابتك': 1, 'رحتمك': 1, 'موكليني': 1, 'بوشعر': 1, 'محتاجتني': 1, 'الاذباب': 1, 'بنصفقله': 1, 'هالشاكله': 1, 'الضماني': 1, 'وسنعه': 1, 'وللقوم': 1, 'غزتني': 1, 'اللعز': 1, 'هاخذك': 1, 'نرقوا': 1, 'اخريتو': 1, 'وجايهم': 1, 'ايدخلنا': 1, 'يستضيفونهم': 1, 'ملقب': 1, 'لوحبيت': 1, 'شتقوول': 1, 'ربييع': 1, 'ازدهاره': 1, 'لقتلك': 1, 'ولااعرفك': 1, 'ومنلاقي': 1, 'للجود': 1, 'تريندنغ': 1, 'انحصلوا': 1, 'وللصعيبه': 1, 'الشاحت': 1, 'نسيناا': 1, 'بوفراس': 1, 'اشعريني': 1, 'لمسءولياتهم': 1, 'بالحبيبهمساء': 1, 'ولايتقاعد': 1, 'جماعه؛': 1, 'لمجهود': 1, 'اقصا': 1, 'يشويلك': 1, 'شاورتها': 1, 'ومراهقه': 1, 'بلامارات': 1, 'ماتنعرض': 1, 'مديرا': 1, 'وهمن': 1, 'مايسمنون': 1, 'اطابيب': 1, 'نهربو': 1, 'فصدر': 1, 'بلاتينيوم': 1, 'يستخدمن': 1, 'هضعك': 1, 'انقرص': 1, 'بردر': 1, 'وبتصلوا': 1, 'ستيجات': 1, 'الرافعه': 1, 'بفديها': 1, 'استفزازات': 1, 'نعودهم': 1, 'خليكيي': 1, 'كملمع': 1, 'وبتنفس': 1, 'مالقينه': 1, 'بتتذكرها': 1, 'انطبسو': 1, 'وارناقها': 1, 'ماتحت': 1, 'وبريستيجكم': 1, 'طرابلسيهدي': 1, 'انوٓه': 1, 'اقنر': 1, 'والدوشان': 1}\n"
          ]
        }
      ]
    },
    {
      "cell_type": "markdown",
      "source": [
        "# **Discouver Data again after cleaning**"
      ],
      "metadata": {
        "id": "ZW9iijyUVOm-"
      }
    },
    {
      "cell_type": "code",
      "source": [
        "\n",
        "data_all['word_count'] = data_all['text'].apply(lambda x: len(str(x).split(\" \")))\n",
        "data_all['char_count'] = data_all['text'].str.len() ## this also includes spaces\n",
        "data_all['avg_char_per_word'] = data_all['text'].apply(lambda x: avg_word(x))\n",
        "stop = stopwords.words('arabic')\n",
        "data_all['stopwords'] = data_all['text'].apply(lambda x: len([x for x in x.split() if x in stop]))\n",
        "data_all['emoji_count'] = data_all['text'].apply(lambda x: emoji_counter(x))\n",
        "data_all['hyperlinks_count'] = data_all['text'].apply(lambda x: hyperlinks_counter(x))\n"
      ],
      "metadata": {
        "id": "HlJ0jVDiLr31"
      },
      "execution_count": 76,
      "outputs": []
    },
    {
      "cell_type": "code",
      "source": [
        "data_all.head()"
      ],
      "metadata": {
        "colab": {
          "base_uri": "https://localhost:8080/",
          "height": 267
        },
        "id": "MlT2eajtUpOE",
        "outputId": "2e0be270-2099-466c-8943-9b1e11d82ae3"
      },
      "execution_count": 77,
      "outputs": [
        {
          "output_type": "execute_result",
          "data": {
            "text/plain": [
              "                                                                                          text  \\\n",
              "0  ناس بكري قالوا طيح وشوف شكون يوقف معاك غيب وشوف شكون يسال غربل صفي شعبي تونسي تونس المزيانه   \n",
              "1                                                        تهبل والله فنانه مبدعه انت ماشاء الله   \n",
              "2                                                                         الله يبارك فيك يعيشك   \n",
              "3                                                                 عيدكم مبروك وسنين دايمه دلوع   \n",
              "4                      الله يسلمك دلوع الغاليه ويمتعك بالصحه والعافيه اجمل قلب حب توحشتك برشاا   \n",
              "\n",
              "  dialect  word_count  char_count  avg_char_per_word  stopwords  emoji_count  \\\n",
              "0      TN          18          91           4.111111          0            0   \n",
              "1      TN           7          37           4.428571          0            0   \n",
              "2      TN           4          20           4.250000          0            0   \n",
              "3      TN           5          28           4.800000          0            0   \n",
              "4      TN          12          71           5.000000          0            0   \n",
              "\n",
              "   hyperlinks_count  \n",
              "0                 0  \n",
              "1                 0  \n",
              "2                 0  \n",
              "3                 0  \n",
              "4                 0  "
            ],
            "text/html": [
              "\n",
              "  <div id=\"df-3f8b9eb3-f0d8-4064-934b-0cc86df13931\">\n",
              "    <div class=\"colab-df-container\">\n",
              "      <div>\n",
              "<style scoped>\n",
              "    .dataframe tbody tr th:only-of-type {\n",
              "        vertical-align: middle;\n",
              "    }\n",
              "\n",
              "    .dataframe tbody tr th {\n",
              "        vertical-align: top;\n",
              "    }\n",
              "\n",
              "    .dataframe thead th {\n",
              "        text-align: right;\n",
              "    }\n",
              "</style>\n",
              "<table border=\"1\" class=\"dataframe\">\n",
              "  <thead>\n",
              "    <tr style=\"text-align: right;\">\n",
              "      <th></th>\n",
              "      <th>text</th>\n",
              "      <th>dialect</th>\n",
              "      <th>word_count</th>\n",
              "      <th>char_count</th>\n",
              "      <th>avg_char_per_word</th>\n",
              "      <th>stopwords</th>\n",
              "      <th>emoji_count</th>\n",
              "      <th>hyperlinks_count</th>\n",
              "    </tr>\n",
              "  </thead>\n",
              "  <tbody>\n",
              "    <tr>\n",
              "      <th>0</th>\n",
              "      <td>ناس بكري قالوا طيح وشوف شكون يوقف معاك غيب وشوف شكون يسال غربل صفي شعبي تونسي تونس المزيانه</td>\n",
              "      <td>TN</td>\n",
              "      <td>18</td>\n",
              "      <td>91</td>\n",
              "      <td>4.111111</td>\n",
              "      <td>0</td>\n",
              "      <td>0</td>\n",
              "      <td>0</td>\n",
              "    </tr>\n",
              "    <tr>\n",
              "      <th>1</th>\n",
              "      <td>تهبل والله فنانه مبدعه انت ماشاء الله</td>\n",
              "      <td>TN</td>\n",
              "      <td>7</td>\n",
              "      <td>37</td>\n",
              "      <td>4.428571</td>\n",
              "      <td>0</td>\n",
              "      <td>0</td>\n",
              "      <td>0</td>\n",
              "    </tr>\n",
              "    <tr>\n",
              "      <th>2</th>\n",
              "      <td>الله يبارك فيك يعيشك</td>\n",
              "      <td>TN</td>\n",
              "      <td>4</td>\n",
              "      <td>20</td>\n",
              "      <td>4.250000</td>\n",
              "      <td>0</td>\n",
              "      <td>0</td>\n",
              "      <td>0</td>\n",
              "    </tr>\n",
              "    <tr>\n",
              "      <th>3</th>\n",
              "      <td>عيدكم مبروك وسنين دايمه دلوع</td>\n",
              "      <td>TN</td>\n",
              "      <td>5</td>\n",
              "      <td>28</td>\n",
              "      <td>4.800000</td>\n",
              "      <td>0</td>\n",
              "      <td>0</td>\n",
              "      <td>0</td>\n",
              "    </tr>\n",
              "    <tr>\n",
              "      <th>4</th>\n",
              "      <td>الله يسلمك دلوع الغاليه ويمتعك بالصحه والعافيه اجمل قلب حب توحشتك برشاا</td>\n",
              "      <td>TN</td>\n",
              "      <td>12</td>\n",
              "      <td>71</td>\n",
              "      <td>5.000000</td>\n",
              "      <td>0</td>\n",
              "      <td>0</td>\n",
              "      <td>0</td>\n",
              "    </tr>\n",
              "  </tbody>\n",
              "</table>\n",
              "</div>\n",
              "      <button class=\"colab-df-convert\" onclick=\"convertToInteractive('df-3f8b9eb3-f0d8-4064-934b-0cc86df13931')\"\n",
              "              title=\"Convert this dataframe to an interactive table.\"\n",
              "              style=\"display:none;\">\n",
              "        \n",
              "  <svg xmlns=\"http://www.w3.org/2000/svg\" height=\"24px\"viewBox=\"0 0 24 24\"\n",
              "       width=\"24px\">\n",
              "    <path d=\"M0 0h24v24H0V0z\" fill=\"none\"/>\n",
              "    <path d=\"M18.56 5.44l.94 2.06.94-2.06 2.06-.94-2.06-.94-.94-2.06-.94 2.06-2.06.94zm-11 1L8.5 8.5l.94-2.06 2.06-.94-2.06-.94L8.5 2.5l-.94 2.06-2.06.94zm10 10l.94 2.06.94-2.06 2.06-.94-2.06-.94-.94-2.06-.94 2.06-2.06.94z\"/><path d=\"M17.41 7.96l-1.37-1.37c-.4-.4-.92-.59-1.43-.59-.52 0-1.04.2-1.43.59L10.3 9.45l-7.72 7.72c-.78.78-.78 2.05 0 2.83L4 21.41c.39.39.9.59 1.41.59.51 0 1.02-.2 1.41-.59l7.78-7.78 2.81-2.81c.8-.78.8-2.07 0-2.86zM5.41 20L4 18.59l7.72-7.72 1.47 1.35L5.41 20z\"/>\n",
              "  </svg>\n",
              "      </button>\n",
              "      \n",
              "  <style>\n",
              "    .colab-df-container {\n",
              "      display:flex;\n",
              "      flex-wrap:wrap;\n",
              "      gap: 12px;\n",
              "    }\n",
              "\n",
              "    .colab-df-convert {\n",
              "      background-color: #E8F0FE;\n",
              "      border: none;\n",
              "      border-radius: 50%;\n",
              "      cursor: pointer;\n",
              "      display: none;\n",
              "      fill: #1967D2;\n",
              "      height: 32px;\n",
              "      padding: 0 0 0 0;\n",
              "      width: 32px;\n",
              "    }\n",
              "\n",
              "    .colab-df-convert:hover {\n",
              "      background-color: #E2EBFA;\n",
              "      box-shadow: 0px 1px 2px rgba(60, 64, 67, 0.3), 0px 1px 3px 1px rgba(60, 64, 67, 0.15);\n",
              "      fill: #174EA6;\n",
              "    }\n",
              "\n",
              "    [theme=dark] .colab-df-convert {\n",
              "      background-color: #3B4455;\n",
              "      fill: #D2E3FC;\n",
              "    }\n",
              "\n",
              "    [theme=dark] .colab-df-convert:hover {\n",
              "      background-color: #434B5C;\n",
              "      box-shadow: 0px 1px 3px 1px rgba(0, 0, 0, 0.15);\n",
              "      filter: drop-shadow(0px 1px 2px rgba(0, 0, 0, 0.3));\n",
              "      fill: #FFFFFF;\n",
              "    }\n",
              "  </style>\n",
              "\n",
              "      <script>\n",
              "        const buttonEl =\n",
              "          document.querySelector('#df-3f8b9eb3-f0d8-4064-934b-0cc86df13931 button.colab-df-convert');\n",
              "        buttonEl.style.display =\n",
              "          google.colab.kernel.accessAllowed ? 'block' : 'none';\n",
              "\n",
              "        async function convertToInteractive(key) {\n",
              "          const element = document.querySelector('#df-3f8b9eb3-f0d8-4064-934b-0cc86df13931');\n",
              "          const dataTable =\n",
              "            await google.colab.kernel.invokeFunction('convertToInteractive',\n",
              "                                                     [key], {});\n",
              "          if (!dataTable) return;\n",
              "\n",
              "          const docLinkHtml = 'Like what you see? Visit the ' +\n",
              "            '<a target=\"_blank\" href=https://colab.research.google.com/notebooks/data_table.ipynb>data table notebook</a>'\n",
              "            + ' to learn more about interactive tables.';\n",
              "          element.innerHTML = '';\n",
              "          dataTable['output_type'] = 'display_data';\n",
              "          await google.colab.output.renderOutput(dataTable, element);\n",
              "          const docLink = document.createElement('div');\n",
              "          docLink.innerHTML = docLinkHtml;\n",
              "          element.appendChild(docLink);\n",
              "        }\n",
              "      </script>\n",
              "    </div>\n",
              "  </div>\n",
              "  "
            ]
          },
          "metadata": {},
          "execution_count": 77
        }
      ]
    },
    {
      "cell_type": "markdown",
      "source": [
        "# **Save cleaned dataframe to csv file**"
      ],
      "metadata": {
        "id": "k5W6vXSnVVYc"
      }
    },
    {
      "cell_type": "code",
      "source": [
        "\n",
        "df = data_all[['dialect', 'text']]\n",
        "df.to_csv('/content/drive/MyDrive/CIT_DL_project/downloaded_dataset/dialect_dataset_cleaned.csv',index=False)"
      ],
      "metadata": {
        "id": "nylg8-4uUU-_"
      },
      "execution_count": 78,
      "outputs": []
    },
    {
      "cell_type": "code",
      "source": [],
      "metadata": {
        "id": "ab1sS61WVHTZ"
      },
      "execution_count": null,
      "outputs": []
    }
  ]
}