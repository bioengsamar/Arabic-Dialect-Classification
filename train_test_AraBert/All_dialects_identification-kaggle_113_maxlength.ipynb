{
  "metadata": {
    "accelerator": "GPU",
    "colab": {
      "collapsed_sections": [
        "1x7Cv9BSLzWa",
        "rsdYgHrNLtRa",
        "MxZ9gDF4_lim",
        "Qlm6uCAFOehF",
        "R4ti8vq2FXri",
        "0lbLuSH_FXrm"
      ],
      "provenance": []
    },
    "kernelspec": {
      "name": "python3",
      "display_name": "Python 3",
      "language": "python"
    },
    "language_info": {
      "name": "python",
      "version": "3.7.12",
      "mimetype": "text/x-python",
      "codemirror_mode": {
        "name": "ipython",
        "version": 3
      },
      "pygments_lexer": "ipython3",
      "nbconvert_exporter": "python",
      "file_extension": ".py"
    },
    "widgets": {
      "application/vnd.jupyter.widget-state+json": {
        "41718b47cc3841a2b4affc250ce23e40": {
          "model_module": "@jupyter-widgets/controls",
          "model_name": "HBoxModel",
          "model_module_version": "1.5.0",
          "state": {
            "_dom_classes": [],
            "_model_module": "@jupyter-widgets/controls",
            "_model_module_version": "1.5.0",
            "_model_name": "HBoxModel",
            "_view_count": null,
            "_view_module": "@jupyter-widgets/controls",
            "_view_module_version": "1.5.0",
            "_view_name": "HBoxView",
            "box_style": "",
            "children": [
              "IPY_MODEL_2ebc32bc071f4eb5a565d41a2163bb93",
              "IPY_MODEL_4790698504e84331bf0b02bd28220291",
              "IPY_MODEL_e1b2af67eb4d4858b99ab8b491985780"
            ],
            "layout": "IPY_MODEL_f3d973868f824ad39ffa2c02e096a693"
          }
        },
        "2ebc32bc071f4eb5a565d41a2163bb93": {
          "model_module": "@jupyter-widgets/controls",
          "model_name": "HTMLModel",
          "model_module_version": "1.5.0",
          "state": {
            "_dom_classes": [],
            "_model_module": "@jupyter-widgets/controls",
            "_model_module_version": "1.5.0",
            "_model_name": "HTMLModel",
            "_view_count": null,
            "_view_module": "@jupyter-widgets/controls",
            "_view_module_version": "1.5.0",
            "_view_name": "HTMLView",
            "description": "",
            "description_tooltip": null,
            "layout": "IPY_MODEL_99c9dd87737a491db4be0eec092b5411",
            "placeholder": "​",
            "style": "IPY_MODEL_d81e35ff85884c6382e8ddd9e92f0a99",
            "value": "Downloading: 100%"
          }
        },
        "4790698504e84331bf0b02bd28220291": {
          "model_module": "@jupyter-widgets/controls",
          "model_name": "FloatProgressModel",
          "model_module_version": "1.5.0",
          "state": {
            "_dom_classes": [],
            "_model_module": "@jupyter-widgets/controls",
            "_model_module_version": "1.5.0",
            "_model_name": "FloatProgressModel",
            "_view_count": null,
            "_view_module": "@jupyter-widgets/controls",
            "_view_module_version": "1.5.0",
            "_view_name": "ProgressView",
            "bar_style": "success",
            "description": "",
            "description_tooltip": null,
            "layout": "IPY_MODEL_69f8fa0bfb4c4bea8157234496852d40",
            "max": 543450661,
            "min": 0,
            "orientation": "horizontal",
            "style": "IPY_MODEL_95bdce6dedf246fa9f643b0c8c72426c",
            "value": 543450661
          }
        },
        "e1b2af67eb4d4858b99ab8b491985780": {
          "model_module": "@jupyter-widgets/controls",
          "model_name": "HTMLModel",
          "model_module_version": "1.5.0",
          "state": {
            "_dom_classes": [],
            "_model_module": "@jupyter-widgets/controls",
            "_model_module_version": "1.5.0",
            "_model_name": "HTMLModel",
            "_view_count": null,
            "_view_module": "@jupyter-widgets/controls",
            "_view_module_version": "1.5.0",
            "_view_name": "HTMLView",
            "description": "",
            "description_tooltip": null,
            "layout": "IPY_MODEL_c82ba150a33546178381a1fbffe5f739",
            "placeholder": "​",
            "style": "IPY_MODEL_b0b2798540a34fd6b1229365f13d8371",
            "value": " 543M/543M [00:26&lt;00:00, 22.5MB/s]"
          }
        },
        "f3d973868f824ad39ffa2c02e096a693": {
          "model_module": "@jupyter-widgets/base",
          "model_name": "LayoutModel",
          "model_module_version": "1.2.0",
          "state": {
            "_model_module": "@jupyter-widgets/base",
            "_model_module_version": "1.2.0",
            "_model_name": "LayoutModel",
            "_view_count": null,
            "_view_module": "@jupyter-widgets/base",
            "_view_module_version": "1.2.0",
            "_view_name": "LayoutView",
            "align_content": null,
            "align_items": null,
            "align_self": null,
            "border": null,
            "bottom": null,
            "display": null,
            "flex": null,
            "flex_flow": null,
            "grid_area": null,
            "grid_auto_columns": null,
            "grid_auto_flow": null,
            "grid_auto_rows": null,
            "grid_column": null,
            "grid_gap": null,
            "grid_row": null,
            "grid_template_areas": null,
            "grid_template_columns": null,
            "grid_template_rows": null,
            "height": null,
            "justify_content": null,
            "justify_items": null,
            "left": null,
            "margin": null,
            "max_height": null,
            "max_width": null,
            "min_height": null,
            "min_width": null,
            "object_fit": null,
            "object_position": null,
            "order": null,
            "overflow": null,
            "overflow_x": null,
            "overflow_y": null,
            "padding": null,
            "right": null,
            "top": null,
            "visibility": null,
            "width": null
          }
        },
        "99c9dd87737a491db4be0eec092b5411": {
          "model_module": "@jupyter-widgets/base",
          "model_name": "LayoutModel",
          "model_module_version": "1.2.0",
          "state": {
            "_model_module": "@jupyter-widgets/base",
            "_model_module_version": "1.2.0",
            "_model_name": "LayoutModel",
            "_view_count": null,
            "_view_module": "@jupyter-widgets/base",
            "_view_module_version": "1.2.0",
            "_view_name": "LayoutView",
            "align_content": null,
            "align_items": null,
            "align_self": null,
            "border": null,
            "bottom": null,
            "display": null,
            "flex": null,
            "flex_flow": null,
            "grid_area": null,
            "grid_auto_columns": null,
            "grid_auto_flow": null,
            "grid_auto_rows": null,
            "grid_column": null,
            "grid_gap": null,
            "grid_row": null,
            "grid_template_areas": null,
            "grid_template_columns": null,
            "grid_template_rows": null,
            "height": null,
            "justify_content": null,
            "justify_items": null,
            "left": null,
            "margin": null,
            "max_height": null,
            "max_width": null,
            "min_height": null,
            "min_width": null,
            "object_fit": null,
            "object_position": null,
            "order": null,
            "overflow": null,
            "overflow_x": null,
            "overflow_y": null,
            "padding": null,
            "right": null,
            "top": null,
            "visibility": null,
            "width": null
          }
        },
        "d81e35ff85884c6382e8ddd9e92f0a99": {
          "model_module": "@jupyter-widgets/controls",
          "model_name": "DescriptionStyleModel",
          "model_module_version": "1.5.0",
          "state": {
            "_model_module": "@jupyter-widgets/controls",
            "_model_module_version": "1.5.0",
            "_model_name": "DescriptionStyleModel",
            "_view_count": null,
            "_view_module": "@jupyter-widgets/base",
            "_view_module_version": "1.2.0",
            "_view_name": "StyleView",
            "description_width": ""
          }
        },
        "69f8fa0bfb4c4bea8157234496852d40": {
          "model_module": "@jupyter-widgets/base",
          "model_name": "LayoutModel",
          "model_module_version": "1.2.0",
          "state": {
            "_model_module": "@jupyter-widgets/base",
            "_model_module_version": "1.2.0",
            "_model_name": "LayoutModel",
            "_view_count": null,
            "_view_module": "@jupyter-widgets/base",
            "_view_module_version": "1.2.0",
            "_view_name": "LayoutView",
            "align_content": null,
            "align_items": null,
            "align_self": null,
            "border": null,
            "bottom": null,
            "display": null,
            "flex": null,
            "flex_flow": null,
            "grid_area": null,
            "grid_auto_columns": null,
            "grid_auto_flow": null,
            "grid_auto_rows": null,
            "grid_column": null,
            "grid_gap": null,
            "grid_row": null,
            "grid_template_areas": null,
            "grid_template_columns": null,
            "grid_template_rows": null,
            "height": null,
            "justify_content": null,
            "justify_items": null,
            "left": null,
            "margin": null,
            "max_height": null,
            "max_width": null,
            "min_height": null,
            "min_width": null,
            "object_fit": null,
            "object_position": null,
            "order": null,
            "overflow": null,
            "overflow_x": null,
            "overflow_y": null,
            "padding": null,
            "right": null,
            "top": null,
            "visibility": null,
            "width": null
          }
        },
        "95bdce6dedf246fa9f643b0c8c72426c": {
          "model_module": "@jupyter-widgets/controls",
          "model_name": "ProgressStyleModel",
          "model_module_version": "1.5.0",
          "state": {
            "_model_module": "@jupyter-widgets/controls",
            "_model_module_version": "1.5.0",
            "_model_name": "ProgressStyleModel",
            "_view_count": null,
            "_view_module": "@jupyter-widgets/base",
            "_view_module_version": "1.2.0",
            "_view_name": "StyleView",
            "bar_color": null,
            "description_width": ""
          }
        },
        "c82ba150a33546178381a1fbffe5f739": {
          "model_module": "@jupyter-widgets/base",
          "model_name": "LayoutModel",
          "model_module_version": "1.2.0",
          "state": {
            "_model_module": "@jupyter-widgets/base",
            "_model_module_version": "1.2.0",
            "_model_name": "LayoutModel",
            "_view_count": null,
            "_view_module": "@jupyter-widgets/base",
            "_view_module_version": "1.2.0",
            "_view_name": "LayoutView",
            "align_content": null,
            "align_items": null,
            "align_self": null,
            "border": null,
            "bottom": null,
            "display": null,
            "flex": null,
            "flex_flow": null,
            "grid_area": null,
            "grid_auto_columns": null,
            "grid_auto_flow": null,
            "grid_auto_rows": null,
            "grid_column": null,
            "grid_gap": null,
            "grid_row": null,
            "grid_template_areas": null,
            "grid_template_columns": null,
            "grid_template_rows": null,
            "height": null,
            "justify_content": null,
            "justify_items": null,
            "left": null,
            "margin": null,
            "max_height": null,
            "max_width": null,
            "min_height": null,
            "min_width": null,
            "object_fit": null,
            "object_position": null,
            "order": null,
            "overflow": null,
            "overflow_x": null,
            "overflow_y": null,
            "padding": null,
            "right": null,
            "top": null,
            "visibility": null,
            "width": null
          }
        },
        "b0b2798540a34fd6b1229365f13d8371": {
          "model_module": "@jupyter-widgets/controls",
          "model_name": "DescriptionStyleModel",
          "model_module_version": "1.5.0",
          "state": {
            "_model_module": "@jupyter-widgets/controls",
            "_model_module_version": "1.5.0",
            "_model_name": "DescriptionStyleModel",
            "_view_count": null,
            "_view_module": "@jupyter-widgets/base",
            "_view_module_version": "1.2.0",
            "_view_name": "StyleView",
            "description_width": ""
          }
        },
        "12ef272921ae43baa7f4a30665f10e1a": {
          "model_module": "@jupyter-widgets/controls",
          "model_name": "HBoxModel",
          "model_module_version": "1.5.0",
          "state": {
            "_dom_classes": [],
            "_model_module": "@jupyter-widgets/controls",
            "_model_module_version": "1.5.0",
            "_model_name": "HBoxModel",
            "_view_count": null,
            "_view_module": "@jupyter-widgets/controls",
            "_view_module_version": "1.5.0",
            "_view_name": "HBoxView",
            "box_style": "",
            "children": [
              "IPY_MODEL_1c9b1cb34d744f2eb7bb778a05ea7275",
              "IPY_MODEL_f27b7839e951484f937e78cbcdd06343",
              "IPY_MODEL_d0ece78633a64383abb22fe79c39db6d"
            ],
            "layout": "IPY_MODEL_5272054883d84ef7838bfb80c74656e0"
          }
        },
        "1c9b1cb34d744f2eb7bb778a05ea7275": {
          "model_module": "@jupyter-widgets/controls",
          "model_name": "HTMLModel",
          "model_module_version": "1.5.0",
          "state": {
            "_dom_classes": [],
            "_model_module": "@jupyter-widgets/controls",
            "_model_module_version": "1.5.0",
            "_model_name": "HTMLModel",
            "_view_count": null,
            "_view_module": "@jupyter-widgets/controls",
            "_view_module_version": "1.5.0",
            "_view_name": "HTMLView",
            "description": "",
            "description_tooltip": null,
            "layout": "IPY_MODEL_68c529dee41d454f9184127bea9720aa",
            "placeholder": "​",
            "style": "IPY_MODEL_842ae7cafb3643dd92b5c87cc1b66ad4",
            "value": "Downloading: 100%"
          }
        },
        "f27b7839e951484f937e78cbcdd06343": {
          "model_module": "@jupyter-widgets/controls",
          "model_name": "FloatProgressModel",
          "model_module_version": "1.5.0",
          "state": {
            "_dom_classes": [],
            "_model_module": "@jupyter-widgets/controls",
            "_model_module_version": "1.5.0",
            "_model_name": "FloatProgressModel",
            "_view_count": null,
            "_view_module": "@jupyter-widgets/controls",
            "_view_module_version": "1.5.0",
            "_view_name": "ProgressView",
            "bar_style": "success",
            "description": "",
            "description_tooltip": null,
            "layout": "IPY_MODEL_13ed22618fc54d4288b3b6bea13d9ee8",
            "max": 637,
            "min": 0,
            "orientation": "horizontal",
            "style": "IPY_MODEL_cae8d7fb23234628b148fcf4d36d0482",
            "value": 637
          }
        },
        "d0ece78633a64383abb22fe79c39db6d": {
          "model_module": "@jupyter-widgets/controls",
          "model_name": "HTMLModel",
          "model_module_version": "1.5.0",
          "state": {
            "_dom_classes": [],
            "_model_module": "@jupyter-widgets/controls",
            "_model_module_version": "1.5.0",
            "_model_name": "HTMLModel",
            "_view_count": null,
            "_view_module": "@jupyter-widgets/controls",
            "_view_module_version": "1.5.0",
            "_view_name": "HTMLView",
            "description": "",
            "description_tooltip": null,
            "layout": "IPY_MODEL_772dab65cb3a4cc992119df8fb85d981",
            "placeholder": "​",
            "style": "IPY_MODEL_780914a4d08a4264b12d98ba7539894a",
            "value": " 637/637 [00:00&lt;00:00, 7.78kB/s]"
          }
        },
        "5272054883d84ef7838bfb80c74656e0": {
          "model_module": "@jupyter-widgets/base",
          "model_name": "LayoutModel",
          "model_module_version": "1.2.0",
          "state": {
            "_model_module": "@jupyter-widgets/base",
            "_model_module_version": "1.2.0",
            "_model_name": "LayoutModel",
            "_view_count": null,
            "_view_module": "@jupyter-widgets/base",
            "_view_module_version": "1.2.0",
            "_view_name": "LayoutView",
            "align_content": null,
            "align_items": null,
            "align_self": null,
            "border": null,
            "bottom": null,
            "display": null,
            "flex": null,
            "flex_flow": null,
            "grid_area": null,
            "grid_auto_columns": null,
            "grid_auto_flow": null,
            "grid_auto_rows": null,
            "grid_column": null,
            "grid_gap": null,
            "grid_row": null,
            "grid_template_areas": null,
            "grid_template_columns": null,
            "grid_template_rows": null,
            "height": null,
            "justify_content": null,
            "justify_items": null,
            "left": null,
            "margin": null,
            "max_height": null,
            "max_width": null,
            "min_height": null,
            "min_width": null,
            "object_fit": null,
            "object_position": null,
            "order": null,
            "overflow": null,
            "overflow_x": null,
            "overflow_y": null,
            "padding": null,
            "right": null,
            "top": null,
            "visibility": null,
            "width": null
          }
        },
        "68c529dee41d454f9184127bea9720aa": {
          "model_module": "@jupyter-widgets/base",
          "model_name": "LayoutModel",
          "model_module_version": "1.2.0",
          "state": {
            "_model_module": "@jupyter-widgets/base",
            "_model_module_version": "1.2.0",
            "_model_name": "LayoutModel",
            "_view_count": null,
            "_view_module": "@jupyter-widgets/base",
            "_view_module_version": "1.2.0",
            "_view_name": "LayoutView",
            "align_content": null,
            "align_items": null,
            "align_self": null,
            "border": null,
            "bottom": null,
            "display": null,
            "flex": null,
            "flex_flow": null,
            "grid_area": null,
            "grid_auto_columns": null,
            "grid_auto_flow": null,
            "grid_auto_rows": null,
            "grid_column": null,
            "grid_gap": null,
            "grid_row": null,
            "grid_template_areas": null,
            "grid_template_columns": null,
            "grid_template_rows": null,
            "height": null,
            "justify_content": null,
            "justify_items": null,
            "left": null,
            "margin": null,
            "max_height": null,
            "max_width": null,
            "min_height": null,
            "min_width": null,
            "object_fit": null,
            "object_position": null,
            "order": null,
            "overflow": null,
            "overflow_x": null,
            "overflow_y": null,
            "padding": null,
            "right": null,
            "top": null,
            "visibility": null,
            "width": null
          }
        },
        "842ae7cafb3643dd92b5c87cc1b66ad4": {
          "model_module": "@jupyter-widgets/controls",
          "model_name": "DescriptionStyleModel",
          "model_module_version": "1.5.0",
          "state": {
            "_model_module": "@jupyter-widgets/controls",
            "_model_module_version": "1.5.0",
            "_model_name": "DescriptionStyleModel",
            "_view_count": null,
            "_view_module": "@jupyter-widgets/base",
            "_view_module_version": "1.2.0",
            "_view_name": "StyleView",
            "description_width": ""
          }
        },
        "13ed22618fc54d4288b3b6bea13d9ee8": {
          "model_module": "@jupyter-widgets/base",
          "model_name": "LayoutModel",
          "model_module_version": "1.2.0",
          "state": {
            "_model_module": "@jupyter-widgets/base",
            "_model_module_version": "1.2.0",
            "_model_name": "LayoutModel",
            "_view_count": null,
            "_view_module": "@jupyter-widgets/base",
            "_view_module_version": "1.2.0",
            "_view_name": "LayoutView",
            "align_content": null,
            "align_items": null,
            "align_self": null,
            "border": null,
            "bottom": null,
            "display": null,
            "flex": null,
            "flex_flow": null,
            "grid_area": null,
            "grid_auto_columns": null,
            "grid_auto_flow": null,
            "grid_auto_rows": null,
            "grid_column": null,
            "grid_gap": null,
            "grid_row": null,
            "grid_template_areas": null,
            "grid_template_columns": null,
            "grid_template_rows": null,
            "height": null,
            "justify_content": null,
            "justify_items": null,
            "left": null,
            "margin": null,
            "max_height": null,
            "max_width": null,
            "min_height": null,
            "min_width": null,
            "object_fit": null,
            "object_position": null,
            "order": null,
            "overflow": null,
            "overflow_x": null,
            "overflow_y": null,
            "padding": null,
            "right": null,
            "top": null,
            "visibility": null,
            "width": null
          }
        },
        "cae8d7fb23234628b148fcf4d36d0482": {
          "model_module": "@jupyter-widgets/controls",
          "model_name": "ProgressStyleModel",
          "model_module_version": "1.5.0",
          "state": {
            "_model_module": "@jupyter-widgets/controls",
            "_model_module_version": "1.5.0",
            "_model_name": "ProgressStyleModel",
            "_view_count": null,
            "_view_module": "@jupyter-widgets/base",
            "_view_module_version": "1.2.0",
            "_view_name": "StyleView",
            "bar_color": null,
            "description_width": ""
          }
        },
        "772dab65cb3a4cc992119df8fb85d981": {
          "model_module": "@jupyter-widgets/base",
          "model_name": "LayoutModel",
          "model_module_version": "1.2.0",
          "state": {
            "_model_module": "@jupyter-widgets/base",
            "_model_module_version": "1.2.0",
            "_model_name": "LayoutModel",
            "_view_count": null,
            "_view_module": "@jupyter-widgets/base",
            "_view_module_version": "1.2.0",
            "_view_name": "LayoutView",
            "align_content": null,
            "align_items": null,
            "align_self": null,
            "border": null,
            "bottom": null,
            "display": null,
            "flex": null,
            "flex_flow": null,
            "grid_area": null,
            "grid_auto_columns": null,
            "grid_auto_flow": null,
            "grid_auto_rows": null,
            "grid_column": null,
            "grid_gap": null,
            "grid_row": null,
            "grid_template_areas": null,
            "grid_template_columns": null,
            "grid_template_rows": null,
            "height": null,
            "justify_content": null,
            "justify_items": null,
            "left": null,
            "margin": null,
            "max_height": null,
            "max_width": null,
            "min_height": null,
            "min_width": null,
            "object_fit": null,
            "object_position": null,
            "order": null,
            "overflow": null,
            "overflow_x": null,
            "overflow_y": null,
            "padding": null,
            "right": null,
            "top": null,
            "visibility": null,
            "width": null
          }
        },
        "780914a4d08a4264b12d98ba7539894a": {
          "model_module": "@jupyter-widgets/controls",
          "model_name": "DescriptionStyleModel",
          "model_module_version": "1.5.0",
          "state": {
            "_model_module": "@jupyter-widgets/controls",
            "_model_module_version": "1.5.0",
            "_model_name": "DescriptionStyleModel",
            "_view_count": null,
            "_view_module": "@jupyter-widgets/base",
            "_view_module_version": "1.2.0",
            "_view_name": "StyleView",
            "description_width": ""
          }
        },
        "42a34cbec9cd4f38bafaa2ea901bf1f1": {
          "model_module": "@jupyter-widgets/controls",
          "model_name": "HBoxModel",
          "model_module_version": "1.5.0",
          "state": {
            "_dom_classes": [],
            "_model_module": "@jupyter-widgets/controls",
            "_model_module_version": "1.5.0",
            "_model_name": "HBoxModel",
            "_view_count": null,
            "_view_module": "@jupyter-widgets/controls",
            "_view_module_version": "1.5.0",
            "_view_name": "HBoxView",
            "box_style": "",
            "children": [
              "IPY_MODEL_6da1523d98f64e4b8d1d5f1c471bfbe3",
              "IPY_MODEL_68e37d8699a849c99efdbdccce954517",
              "IPY_MODEL_21d45651280946db9bd445b02e4e8f0e"
            ],
            "layout": "IPY_MODEL_5cb6e34b239846368888ea7d43fdac95"
          }
        },
        "6da1523d98f64e4b8d1d5f1c471bfbe3": {
          "model_module": "@jupyter-widgets/controls",
          "model_name": "HTMLModel",
          "model_module_version": "1.5.0",
          "state": {
            "_dom_classes": [],
            "_model_module": "@jupyter-widgets/controls",
            "_model_module_version": "1.5.0",
            "_model_name": "HTMLModel",
            "_view_count": null,
            "_view_module": "@jupyter-widgets/controls",
            "_view_module_version": "1.5.0",
            "_view_name": "HTMLView",
            "description": "",
            "description_tooltip": null,
            "layout": "IPY_MODEL_c98c1eb3f9794fd89b9aa1eee9c298df",
            "placeholder": "​",
            "style": "IPY_MODEL_426b30bddcb94da8902103add4e01ecb",
            "value": "Downloading: 100%"
          }
        },
        "68e37d8699a849c99efdbdccce954517": {
          "model_module": "@jupyter-widgets/controls",
          "model_name": "FloatProgressModel",
          "model_module_version": "1.5.0",
          "state": {
            "_dom_classes": [],
            "_model_module": "@jupyter-widgets/controls",
            "_model_module_version": "1.5.0",
            "_model_name": "FloatProgressModel",
            "_view_count": null,
            "_view_module": "@jupyter-widgets/controls",
            "_view_module_version": "1.5.0",
            "_view_name": "ProgressView",
            "bar_style": "success",
            "description": "",
            "description_tooltip": null,
            "layout": "IPY_MODEL_f68b8028366d4fed936262c1db04fbdc",
            "max": 717153,
            "min": 0,
            "orientation": "horizontal",
            "style": "IPY_MODEL_ebbc9c30de634fcbad3ce2d8152d6e88",
            "value": 717153
          }
        },
        "21d45651280946db9bd445b02e4e8f0e": {
          "model_module": "@jupyter-widgets/controls",
          "model_name": "HTMLModel",
          "model_module_version": "1.5.0",
          "state": {
            "_dom_classes": [],
            "_model_module": "@jupyter-widgets/controls",
            "_model_module_version": "1.5.0",
            "_model_name": "HTMLModel",
            "_view_count": null,
            "_view_module": "@jupyter-widgets/controls",
            "_view_module_version": "1.5.0",
            "_view_name": "HTMLView",
            "description": "",
            "description_tooltip": null,
            "layout": "IPY_MODEL_63289e99dcf14d15997f33b61e86ca18",
            "placeholder": "​",
            "style": "IPY_MODEL_670eee4730354313af2f99f0c8bd3468",
            "value": " 717k/717k [00:00&lt;00:00, 634kB/s]"
          }
        },
        "5cb6e34b239846368888ea7d43fdac95": {
          "model_module": "@jupyter-widgets/base",
          "model_name": "LayoutModel",
          "model_module_version": "1.2.0",
          "state": {
            "_model_module": "@jupyter-widgets/base",
            "_model_module_version": "1.2.0",
            "_model_name": "LayoutModel",
            "_view_count": null,
            "_view_module": "@jupyter-widgets/base",
            "_view_module_version": "1.2.0",
            "_view_name": "LayoutView",
            "align_content": null,
            "align_items": null,
            "align_self": null,
            "border": null,
            "bottom": null,
            "display": null,
            "flex": null,
            "flex_flow": null,
            "grid_area": null,
            "grid_auto_columns": null,
            "grid_auto_flow": null,
            "grid_auto_rows": null,
            "grid_column": null,
            "grid_gap": null,
            "grid_row": null,
            "grid_template_areas": null,
            "grid_template_columns": null,
            "grid_template_rows": null,
            "height": null,
            "justify_content": null,
            "justify_items": null,
            "left": null,
            "margin": null,
            "max_height": null,
            "max_width": null,
            "min_height": null,
            "min_width": null,
            "object_fit": null,
            "object_position": null,
            "order": null,
            "overflow": null,
            "overflow_x": null,
            "overflow_y": null,
            "padding": null,
            "right": null,
            "top": null,
            "visibility": null,
            "width": null
          }
        },
        "c98c1eb3f9794fd89b9aa1eee9c298df": {
          "model_module": "@jupyter-widgets/base",
          "model_name": "LayoutModel",
          "model_module_version": "1.2.0",
          "state": {
            "_model_module": "@jupyter-widgets/base",
            "_model_module_version": "1.2.0",
            "_model_name": "LayoutModel",
            "_view_count": null,
            "_view_module": "@jupyter-widgets/base",
            "_view_module_version": "1.2.0",
            "_view_name": "LayoutView",
            "align_content": null,
            "align_items": null,
            "align_self": null,
            "border": null,
            "bottom": null,
            "display": null,
            "flex": null,
            "flex_flow": null,
            "grid_area": null,
            "grid_auto_columns": null,
            "grid_auto_flow": null,
            "grid_auto_rows": null,
            "grid_column": null,
            "grid_gap": null,
            "grid_row": null,
            "grid_template_areas": null,
            "grid_template_columns": null,
            "grid_template_rows": null,
            "height": null,
            "justify_content": null,
            "justify_items": null,
            "left": null,
            "margin": null,
            "max_height": null,
            "max_width": null,
            "min_height": null,
            "min_width": null,
            "object_fit": null,
            "object_position": null,
            "order": null,
            "overflow": null,
            "overflow_x": null,
            "overflow_y": null,
            "padding": null,
            "right": null,
            "top": null,
            "visibility": null,
            "width": null
          }
        },
        "426b30bddcb94da8902103add4e01ecb": {
          "model_module": "@jupyter-widgets/controls",
          "model_name": "DescriptionStyleModel",
          "model_module_version": "1.5.0",
          "state": {
            "_model_module": "@jupyter-widgets/controls",
            "_model_module_version": "1.5.0",
            "_model_name": "DescriptionStyleModel",
            "_view_count": null,
            "_view_module": "@jupyter-widgets/base",
            "_view_module_version": "1.2.0",
            "_view_name": "StyleView",
            "description_width": ""
          }
        },
        "f68b8028366d4fed936262c1db04fbdc": {
          "model_module": "@jupyter-widgets/base",
          "model_name": "LayoutModel",
          "model_module_version": "1.2.0",
          "state": {
            "_model_module": "@jupyter-widgets/base",
            "_model_module_version": "1.2.0",
            "_model_name": "LayoutModel",
            "_view_count": null,
            "_view_module": "@jupyter-widgets/base",
            "_view_module_version": "1.2.0",
            "_view_name": "LayoutView",
            "align_content": null,
            "align_items": null,
            "align_self": null,
            "border": null,
            "bottom": null,
            "display": null,
            "flex": null,
            "flex_flow": null,
            "grid_area": null,
            "grid_auto_columns": null,
            "grid_auto_flow": null,
            "grid_auto_rows": null,
            "grid_column": null,
            "grid_gap": null,
            "grid_row": null,
            "grid_template_areas": null,
            "grid_template_columns": null,
            "grid_template_rows": null,
            "height": null,
            "justify_content": null,
            "justify_items": null,
            "left": null,
            "margin": null,
            "max_height": null,
            "max_width": null,
            "min_height": null,
            "min_width": null,
            "object_fit": null,
            "object_position": null,
            "order": null,
            "overflow": null,
            "overflow_x": null,
            "overflow_y": null,
            "padding": null,
            "right": null,
            "top": null,
            "visibility": null,
            "width": null
          }
        },
        "ebbc9c30de634fcbad3ce2d8152d6e88": {
          "model_module": "@jupyter-widgets/controls",
          "model_name": "ProgressStyleModel",
          "model_module_version": "1.5.0",
          "state": {
            "_model_module": "@jupyter-widgets/controls",
            "_model_module_version": "1.5.0",
            "_model_name": "ProgressStyleModel",
            "_view_count": null,
            "_view_module": "@jupyter-widgets/base",
            "_view_module_version": "1.2.0",
            "_view_name": "StyleView",
            "bar_color": null,
            "description_width": ""
          }
        },
        "63289e99dcf14d15997f33b61e86ca18": {
          "model_module": "@jupyter-widgets/base",
          "model_name": "LayoutModel",
          "model_module_version": "1.2.0",
          "state": {
            "_model_module": "@jupyter-widgets/base",
            "_model_module_version": "1.2.0",
            "_model_name": "LayoutModel",
            "_view_count": null,
            "_view_module": "@jupyter-widgets/base",
            "_view_module_version": "1.2.0",
            "_view_name": "LayoutView",
            "align_content": null,
            "align_items": null,
            "align_self": null,
            "border": null,
            "bottom": null,
            "display": null,
            "flex": null,
            "flex_flow": null,
            "grid_area": null,
            "grid_auto_columns": null,
            "grid_auto_flow": null,
            "grid_auto_rows": null,
            "grid_column": null,
            "grid_gap": null,
            "grid_row": null,
            "grid_template_areas": null,
            "grid_template_columns": null,
            "grid_template_rows": null,
            "height": null,
            "justify_content": null,
            "justify_items": null,
            "left": null,
            "margin": null,
            "max_height": null,
            "max_width": null,
            "min_height": null,
            "min_width": null,
            "object_fit": null,
            "object_position": null,
            "order": null,
            "overflow": null,
            "overflow_x": null,
            "overflow_y": null,
            "padding": null,
            "right": null,
            "top": null,
            "visibility": null,
            "width": null
          }
        },
        "670eee4730354313af2f99f0c8bd3468": {
          "model_module": "@jupyter-widgets/controls",
          "model_name": "DescriptionStyleModel",
          "model_module_version": "1.5.0",
          "state": {
            "_model_module": "@jupyter-widgets/controls",
            "_model_module_version": "1.5.0",
            "_model_name": "DescriptionStyleModel",
            "_view_count": null,
            "_view_module": "@jupyter-widgets/base",
            "_view_module_version": "1.2.0",
            "_view_name": "StyleView",
            "description_width": ""
          }
        },
        "4d5de2cf27a549aebe6bec3f3d8eec53": {
          "model_module": "@jupyter-widgets/controls",
          "model_name": "HBoxModel",
          "model_module_version": "1.5.0",
          "state": {
            "_dom_classes": [],
            "_model_module": "@jupyter-widgets/controls",
            "_model_module_version": "1.5.0",
            "_model_name": "HBoxModel",
            "_view_count": null,
            "_view_module": "@jupyter-widgets/controls",
            "_view_module_version": "1.5.0",
            "_view_name": "HBoxView",
            "box_style": "",
            "children": [
              "IPY_MODEL_f6eddc9ed2e042b78825289239ad01ad",
              "IPY_MODEL_8ff96de843b8431581e86a7fa5571b35",
              "IPY_MODEL_d85243ccada4406ebdbf270f129027b3"
            ],
            "layout": "IPY_MODEL_9692286fecb743f8988cf97b1bafd32b"
          }
        },
        "f6eddc9ed2e042b78825289239ad01ad": {
          "model_module": "@jupyter-widgets/controls",
          "model_name": "HTMLModel",
          "model_module_version": "1.5.0",
          "state": {
            "_dom_classes": [],
            "_model_module": "@jupyter-widgets/controls",
            "_model_module_version": "1.5.0",
            "_model_name": "HTMLModel",
            "_view_count": null,
            "_view_module": "@jupyter-widgets/controls",
            "_view_module_version": "1.5.0",
            "_view_name": "HTMLView",
            "description": "",
            "description_tooltip": null,
            "layout": "IPY_MODEL_d0f7e83ff5eb4996a83d49468a55c4d5",
            "placeholder": "​",
            "style": "IPY_MODEL_3b984d8ef3554b6f9326fa6afeaa6961",
            "value": "Downloading: 100%"
          }
        },
        "8ff96de843b8431581e86a7fa5571b35": {
          "model_module": "@jupyter-widgets/controls",
          "model_name": "FloatProgressModel",
          "model_module_version": "1.5.0",
          "state": {
            "_dom_classes": [],
            "_model_module": "@jupyter-widgets/controls",
            "_model_module_version": "1.5.0",
            "_model_name": "FloatProgressModel",
            "_view_count": null,
            "_view_module": "@jupyter-widgets/controls",
            "_view_module_version": "1.5.0",
            "_view_name": "ProgressView",
            "bar_style": "success",
            "description": "",
            "description_tooltip": null,
            "layout": "IPY_MODEL_00e35513c69c4d28a054b43ab3eb7ca5",
            "max": 2259454,
            "min": 0,
            "orientation": "horizontal",
            "style": "IPY_MODEL_1781923575574af2ad1d9a29df347c37",
            "value": 2259454
          }
        },
        "d85243ccada4406ebdbf270f129027b3": {
          "model_module": "@jupyter-widgets/controls",
          "model_name": "HTMLModel",
          "model_module_version": "1.5.0",
          "state": {
            "_dom_classes": [],
            "_model_module": "@jupyter-widgets/controls",
            "_model_module_version": "1.5.0",
            "_model_name": "HTMLModel",
            "_view_count": null,
            "_view_module": "@jupyter-widgets/controls",
            "_view_module_version": "1.5.0",
            "_view_name": "HTMLView",
            "description": "",
            "description_tooltip": null,
            "layout": "IPY_MODEL_68af93dba885438fb578c409d51a0912",
            "placeholder": "​",
            "style": "IPY_MODEL_a7fda069eb544d6d9767a46ba20d9759",
            "value": " 2.26M/2.26M [00:01&lt;00:00, 2.51MB/s]"
          }
        },
        "9692286fecb743f8988cf97b1bafd32b": {
          "model_module": "@jupyter-widgets/base",
          "model_name": "LayoutModel",
          "model_module_version": "1.2.0",
          "state": {
            "_model_module": "@jupyter-widgets/base",
            "_model_module_version": "1.2.0",
            "_model_name": "LayoutModel",
            "_view_count": null,
            "_view_module": "@jupyter-widgets/base",
            "_view_module_version": "1.2.0",
            "_view_name": "LayoutView",
            "align_content": null,
            "align_items": null,
            "align_self": null,
            "border": null,
            "bottom": null,
            "display": null,
            "flex": null,
            "flex_flow": null,
            "grid_area": null,
            "grid_auto_columns": null,
            "grid_auto_flow": null,
            "grid_auto_rows": null,
            "grid_column": null,
            "grid_gap": null,
            "grid_row": null,
            "grid_template_areas": null,
            "grid_template_columns": null,
            "grid_template_rows": null,
            "height": null,
            "justify_content": null,
            "justify_items": null,
            "left": null,
            "margin": null,
            "max_height": null,
            "max_width": null,
            "min_height": null,
            "min_width": null,
            "object_fit": null,
            "object_position": null,
            "order": null,
            "overflow": null,
            "overflow_x": null,
            "overflow_y": null,
            "padding": null,
            "right": null,
            "top": null,
            "visibility": null,
            "width": null
          }
        },
        "d0f7e83ff5eb4996a83d49468a55c4d5": {
          "model_module": "@jupyter-widgets/base",
          "model_name": "LayoutModel",
          "model_module_version": "1.2.0",
          "state": {
            "_model_module": "@jupyter-widgets/base",
            "_model_module_version": "1.2.0",
            "_model_name": "LayoutModel",
            "_view_count": null,
            "_view_module": "@jupyter-widgets/base",
            "_view_module_version": "1.2.0",
            "_view_name": "LayoutView",
            "align_content": null,
            "align_items": null,
            "align_self": null,
            "border": null,
            "bottom": null,
            "display": null,
            "flex": null,
            "flex_flow": null,
            "grid_area": null,
            "grid_auto_columns": null,
            "grid_auto_flow": null,
            "grid_auto_rows": null,
            "grid_column": null,
            "grid_gap": null,
            "grid_row": null,
            "grid_template_areas": null,
            "grid_template_columns": null,
            "grid_template_rows": null,
            "height": null,
            "justify_content": null,
            "justify_items": null,
            "left": null,
            "margin": null,
            "max_height": null,
            "max_width": null,
            "min_height": null,
            "min_width": null,
            "object_fit": null,
            "object_position": null,
            "order": null,
            "overflow": null,
            "overflow_x": null,
            "overflow_y": null,
            "padding": null,
            "right": null,
            "top": null,
            "visibility": null,
            "width": null
          }
        },
        "3b984d8ef3554b6f9326fa6afeaa6961": {
          "model_module": "@jupyter-widgets/controls",
          "model_name": "DescriptionStyleModel",
          "model_module_version": "1.5.0",
          "state": {
            "_model_module": "@jupyter-widgets/controls",
            "_model_module_version": "1.5.0",
            "_model_name": "DescriptionStyleModel",
            "_view_count": null,
            "_view_module": "@jupyter-widgets/base",
            "_view_module_version": "1.2.0",
            "_view_name": "StyleView",
            "description_width": ""
          }
        },
        "00e35513c69c4d28a054b43ab3eb7ca5": {
          "model_module": "@jupyter-widgets/base",
          "model_name": "LayoutModel",
          "model_module_version": "1.2.0",
          "state": {
            "_model_module": "@jupyter-widgets/base",
            "_model_module_version": "1.2.0",
            "_model_name": "LayoutModel",
            "_view_count": null,
            "_view_module": "@jupyter-widgets/base",
            "_view_module_version": "1.2.0",
            "_view_name": "LayoutView",
            "align_content": null,
            "align_items": null,
            "align_self": null,
            "border": null,
            "bottom": null,
            "display": null,
            "flex": null,
            "flex_flow": null,
            "grid_area": null,
            "grid_auto_columns": null,
            "grid_auto_flow": null,
            "grid_auto_rows": null,
            "grid_column": null,
            "grid_gap": null,
            "grid_row": null,
            "grid_template_areas": null,
            "grid_template_columns": null,
            "grid_template_rows": null,
            "height": null,
            "justify_content": null,
            "justify_items": null,
            "left": null,
            "margin": null,
            "max_height": null,
            "max_width": null,
            "min_height": null,
            "min_width": null,
            "object_fit": null,
            "object_position": null,
            "order": null,
            "overflow": null,
            "overflow_x": null,
            "overflow_y": null,
            "padding": null,
            "right": null,
            "top": null,
            "visibility": null,
            "width": null
          }
        },
        "1781923575574af2ad1d9a29df347c37": {
          "model_module": "@jupyter-widgets/controls",
          "model_name": "ProgressStyleModel",
          "model_module_version": "1.5.0",
          "state": {
            "_model_module": "@jupyter-widgets/controls",
            "_model_module_version": "1.5.0",
            "_model_name": "ProgressStyleModel",
            "_view_count": null,
            "_view_module": "@jupyter-widgets/base",
            "_view_module_version": "1.2.0",
            "_view_name": "StyleView",
            "bar_color": null,
            "description_width": ""
          }
        },
        "68af93dba885438fb578c409d51a0912": {
          "model_module": "@jupyter-widgets/base",
          "model_name": "LayoutModel",
          "model_module_version": "1.2.0",
          "state": {
            "_model_module": "@jupyter-widgets/base",
            "_model_module_version": "1.2.0",
            "_model_name": "LayoutModel",
            "_view_count": null,
            "_view_module": "@jupyter-widgets/base",
            "_view_module_version": "1.2.0",
            "_view_name": "LayoutView",
            "align_content": null,
            "align_items": null,
            "align_self": null,
            "border": null,
            "bottom": null,
            "display": null,
            "flex": null,
            "flex_flow": null,
            "grid_area": null,
            "grid_auto_columns": null,
            "grid_auto_flow": null,
            "grid_auto_rows": null,
            "grid_column": null,
            "grid_gap": null,
            "grid_row": null,
            "grid_template_areas": null,
            "grid_template_columns": null,
            "grid_template_rows": null,
            "height": null,
            "justify_content": null,
            "justify_items": null,
            "left": null,
            "margin": null,
            "max_height": null,
            "max_width": null,
            "min_height": null,
            "min_width": null,
            "object_fit": null,
            "object_position": null,
            "order": null,
            "overflow": null,
            "overflow_x": null,
            "overflow_y": null,
            "padding": null,
            "right": null,
            "top": null,
            "visibility": null,
            "width": null
          }
        },
        "a7fda069eb544d6d9767a46ba20d9759": {
          "model_module": "@jupyter-widgets/controls",
          "model_name": "DescriptionStyleModel",
          "model_module_version": "1.5.0",
          "state": {
            "_model_module": "@jupyter-widgets/controls",
            "_model_module_version": "1.5.0",
            "_model_name": "DescriptionStyleModel",
            "_view_count": null,
            "_view_module": "@jupyter-widgets/base",
            "_view_module_version": "1.2.0",
            "_view_name": "StyleView",
            "description_width": ""
          }
        },
        "70f0a1a11bea47ca8196c520bf88417a": {
          "model_module": "@jupyter-widgets/controls",
          "model_name": "HBoxModel",
          "model_module_version": "1.5.0",
          "state": {
            "_dom_classes": [],
            "_model_module": "@jupyter-widgets/controls",
            "_model_module_version": "1.5.0",
            "_model_name": "HBoxModel",
            "_view_count": null,
            "_view_module": "@jupyter-widgets/controls",
            "_view_module_version": "1.5.0",
            "_view_name": "HBoxView",
            "box_style": "",
            "children": [
              "IPY_MODEL_98e0d319fa68424894ef8f462ce3f71a",
              "IPY_MODEL_601a5dae03374148b1aaab853b1aa7ff",
              "IPY_MODEL_fbccb95a1a9349ff8f9159b40a0ddf58"
            ],
            "layout": "IPY_MODEL_19d0f47071de423db9949850438a6880"
          }
        },
        "98e0d319fa68424894ef8f462ce3f71a": {
          "model_module": "@jupyter-widgets/controls",
          "model_name": "HTMLModel",
          "model_module_version": "1.5.0",
          "state": {
            "_dom_classes": [],
            "_model_module": "@jupyter-widgets/controls",
            "_model_module_version": "1.5.0",
            "_model_name": "HTMLModel",
            "_view_count": null,
            "_view_module": "@jupyter-widgets/controls",
            "_view_module_version": "1.5.0",
            "_view_name": "HTMLView",
            "description": "",
            "description_tooltip": null,
            "layout": "IPY_MODEL_38c44f8a8b3e4700af5f1a0d949b3b35",
            "placeholder": "​",
            "style": "IPY_MODEL_6eb0e04dd4c4422ba13c6abd98f10c7f",
            "value": "Downloading: 100%"
          }
        },
        "601a5dae03374148b1aaab853b1aa7ff": {
          "model_module": "@jupyter-widgets/controls",
          "model_name": "FloatProgressModel",
          "model_module_version": "1.5.0",
          "state": {
            "_dom_classes": [],
            "_model_module": "@jupyter-widgets/controls",
            "_model_module_version": "1.5.0",
            "_model_name": "FloatProgressModel",
            "_view_count": null,
            "_view_module": "@jupyter-widgets/controls",
            "_view_module_version": "1.5.0",
            "_view_name": "ProgressView",
            "bar_style": "success",
            "description": "",
            "description_tooltip": null,
            "layout": "IPY_MODEL_123ba5da05884942806f8e2000babe48",
            "max": 112,
            "min": 0,
            "orientation": "horizontal",
            "style": "IPY_MODEL_aef48450566040648aa8193dbb403c1e",
            "value": 112
          }
        },
        "fbccb95a1a9349ff8f9159b40a0ddf58": {
          "model_module": "@jupyter-widgets/controls",
          "model_name": "HTMLModel",
          "model_module_version": "1.5.0",
          "state": {
            "_dom_classes": [],
            "_model_module": "@jupyter-widgets/controls",
            "_model_module_version": "1.5.0",
            "_model_name": "HTMLModel",
            "_view_count": null,
            "_view_module": "@jupyter-widgets/controls",
            "_view_module_version": "1.5.0",
            "_view_name": "HTMLView",
            "description": "",
            "description_tooltip": null,
            "layout": "IPY_MODEL_5b7d8bb3d8df449d8737f49a4688afc6",
            "placeholder": "​",
            "style": "IPY_MODEL_0ec9cb3d1ea84532a5086057571392bb",
            "value": " 112/112 [00:00&lt;00:00, 2.13kB/s]"
          }
        },
        "19d0f47071de423db9949850438a6880": {
          "model_module": "@jupyter-widgets/base",
          "model_name": "LayoutModel",
          "model_module_version": "1.2.0",
          "state": {
            "_model_module": "@jupyter-widgets/base",
            "_model_module_version": "1.2.0",
            "_model_name": "LayoutModel",
            "_view_count": null,
            "_view_module": "@jupyter-widgets/base",
            "_view_module_version": "1.2.0",
            "_view_name": "LayoutView",
            "align_content": null,
            "align_items": null,
            "align_self": null,
            "border": null,
            "bottom": null,
            "display": null,
            "flex": null,
            "flex_flow": null,
            "grid_area": null,
            "grid_auto_columns": null,
            "grid_auto_flow": null,
            "grid_auto_rows": null,
            "grid_column": null,
            "grid_gap": null,
            "grid_row": null,
            "grid_template_areas": null,
            "grid_template_columns": null,
            "grid_template_rows": null,
            "height": null,
            "justify_content": null,
            "justify_items": null,
            "left": null,
            "margin": null,
            "max_height": null,
            "max_width": null,
            "min_height": null,
            "min_width": null,
            "object_fit": null,
            "object_position": null,
            "order": null,
            "overflow": null,
            "overflow_x": null,
            "overflow_y": null,
            "padding": null,
            "right": null,
            "top": null,
            "visibility": null,
            "width": null
          }
        },
        "38c44f8a8b3e4700af5f1a0d949b3b35": {
          "model_module": "@jupyter-widgets/base",
          "model_name": "LayoutModel",
          "model_module_version": "1.2.0",
          "state": {
            "_model_module": "@jupyter-widgets/base",
            "_model_module_version": "1.2.0",
            "_model_name": "LayoutModel",
            "_view_count": null,
            "_view_module": "@jupyter-widgets/base",
            "_view_module_version": "1.2.0",
            "_view_name": "LayoutView",
            "align_content": null,
            "align_items": null,
            "align_self": null,
            "border": null,
            "bottom": null,
            "display": null,
            "flex": null,
            "flex_flow": null,
            "grid_area": null,
            "grid_auto_columns": null,
            "grid_auto_flow": null,
            "grid_auto_rows": null,
            "grid_column": null,
            "grid_gap": null,
            "grid_row": null,
            "grid_template_areas": null,
            "grid_template_columns": null,
            "grid_template_rows": null,
            "height": null,
            "justify_content": null,
            "justify_items": null,
            "left": null,
            "margin": null,
            "max_height": null,
            "max_width": null,
            "min_height": null,
            "min_width": null,
            "object_fit": null,
            "object_position": null,
            "order": null,
            "overflow": null,
            "overflow_x": null,
            "overflow_y": null,
            "padding": null,
            "right": null,
            "top": null,
            "visibility": null,
            "width": null
          }
        },
        "6eb0e04dd4c4422ba13c6abd98f10c7f": {
          "model_module": "@jupyter-widgets/controls",
          "model_name": "DescriptionStyleModel",
          "model_module_version": "1.5.0",
          "state": {
            "_model_module": "@jupyter-widgets/controls",
            "_model_module_version": "1.5.0",
            "_model_name": "DescriptionStyleModel",
            "_view_count": null,
            "_view_module": "@jupyter-widgets/base",
            "_view_module_version": "1.2.0",
            "_view_name": "StyleView",
            "description_width": ""
          }
        },
        "123ba5da05884942806f8e2000babe48": {
          "model_module": "@jupyter-widgets/base",
          "model_name": "LayoutModel",
          "model_module_version": "1.2.0",
          "state": {
            "_model_module": "@jupyter-widgets/base",
            "_model_module_version": "1.2.0",
            "_model_name": "LayoutModel",
            "_view_count": null,
            "_view_module": "@jupyter-widgets/base",
            "_view_module_version": "1.2.0",
            "_view_name": "LayoutView",
            "align_content": null,
            "align_items": null,
            "align_self": null,
            "border": null,
            "bottom": null,
            "display": null,
            "flex": null,
            "flex_flow": null,
            "grid_area": null,
            "grid_auto_columns": null,
            "grid_auto_flow": null,
            "grid_auto_rows": null,
            "grid_column": null,
            "grid_gap": null,
            "grid_row": null,
            "grid_template_areas": null,
            "grid_template_columns": null,
            "grid_template_rows": null,
            "height": null,
            "justify_content": null,
            "justify_items": null,
            "left": null,
            "margin": null,
            "max_height": null,
            "max_width": null,
            "min_height": null,
            "min_width": null,
            "object_fit": null,
            "object_position": null,
            "order": null,
            "overflow": null,
            "overflow_x": null,
            "overflow_y": null,
            "padding": null,
            "right": null,
            "top": null,
            "visibility": null,
            "width": null
          }
        },
        "aef48450566040648aa8193dbb403c1e": {
          "model_module": "@jupyter-widgets/controls",
          "model_name": "ProgressStyleModel",
          "model_module_version": "1.5.0",
          "state": {
            "_model_module": "@jupyter-widgets/controls",
            "_model_module_version": "1.5.0",
            "_model_name": "ProgressStyleModel",
            "_view_count": null,
            "_view_module": "@jupyter-widgets/base",
            "_view_module_version": "1.2.0",
            "_view_name": "StyleView",
            "bar_color": null,
            "description_width": ""
          }
        },
        "5b7d8bb3d8df449d8737f49a4688afc6": {
          "model_module": "@jupyter-widgets/base",
          "model_name": "LayoutModel",
          "model_module_version": "1.2.0",
          "state": {
            "_model_module": "@jupyter-widgets/base",
            "_model_module_version": "1.2.0",
            "_model_name": "LayoutModel",
            "_view_count": null,
            "_view_module": "@jupyter-widgets/base",
            "_view_module_version": "1.2.0",
            "_view_name": "LayoutView",
            "align_content": null,
            "align_items": null,
            "align_self": null,
            "border": null,
            "bottom": null,
            "display": null,
            "flex": null,
            "flex_flow": null,
            "grid_area": null,
            "grid_auto_columns": null,
            "grid_auto_flow": null,
            "grid_auto_rows": null,
            "grid_column": null,
            "grid_gap": null,
            "grid_row": null,
            "grid_template_areas": null,
            "grid_template_columns": null,
            "grid_template_rows": null,
            "height": null,
            "justify_content": null,
            "justify_items": null,
            "left": null,
            "margin": null,
            "max_height": null,
            "max_width": null,
            "min_height": null,
            "min_width": null,
            "object_fit": null,
            "object_position": null,
            "order": null,
            "overflow": null,
            "overflow_x": null,
            "overflow_y": null,
            "padding": null,
            "right": null,
            "top": null,
            "visibility": null,
            "width": null
          }
        },
        "0ec9cb3d1ea84532a5086057571392bb": {
          "model_module": "@jupyter-widgets/controls",
          "model_name": "DescriptionStyleModel",
          "model_module_version": "1.5.0",
          "state": {
            "_model_module": "@jupyter-widgets/controls",
            "_model_module_version": "1.5.0",
            "_model_name": "DescriptionStyleModel",
            "_view_count": null,
            "_view_module": "@jupyter-widgets/base",
            "_view_module_version": "1.2.0",
            "_view_name": "StyleView",
            "description_width": ""
          }
        },
        "b51861f043d94dffa5a35cffea1c7d3a": {
          "model_module": "@jupyter-widgets/controls",
          "model_name": "HBoxModel",
          "model_module_version": "1.5.0",
          "state": {
            "_dom_classes": [],
            "_model_module": "@jupyter-widgets/controls",
            "_model_module_version": "1.5.0",
            "_model_name": "HBoxModel",
            "_view_count": null,
            "_view_module": "@jupyter-widgets/controls",
            "_view_module_version": "1.5.0",
            "_view_name": "HBoxView",
            "box_style": "",
            "children": [
              "IPY_MODEL_9b501fde90834d6e8de5e6dba67b83d3",
              "IPY_MODEL_fca83b263f484765ab48e509dd5b1575",
              "IPY_MODEL_59af2a2e540743aba760dd86b68e09a7"
            ],
            "layout": "IPY_MODEL_75215bbf000b482185010355786aef45"
          }
        },
        "9b501fde90834d6e8de5e6dba67b83d3": {
          "model_module": "@jupyter-widgets/controls",
          "model_name": "HTMLModel",
          "model_module_version": "1.5.0",
          "state": {
            "_dom_classes": [],
            "_model_module": "@jupyter-widgets/controls",
            "_model_module_version": "1.5.0",
            "_model_name": "HTMLModel",
            "_view_count": null,
            "_view_module": "@jupyter-widgets/controls",
            "_view_module_version": "1.5.0",
            "_view_name": "HTMLView",
            "description": "",
            "description_tooltip": null,
            "layout": "IPY_MODEL_baee107ddc1b43bf8476262a49412c2d",
            "placeholder": "​",
            "style": "IPY_MODEL_49779a343f4b4fadac0e0a9bbfd72fba",
            "value": "Downloading: 100%"
          }
        },
        "fca83b263f484765ab48e509dd5b1575": {
          "model_module": "@jupyter-widgets/controls",
          "model_name": "FloatProgressModel",
          "model_module_version": "1.5.0",
          "state": {
            "_dom_classes": [],
            "_model_module": "@jupyter-widgets/controls",
            "_model_module_version": "1.5.0",
            "_model_name": "FloatProgressModel",
            "_view_count": null,
            "_view_module": "@jupyter-widgets/controls",
            "_view_module_version": "1.5.0",
            "_view_name": "ProgressView",
            "bar_style": "success",
            "description": "",
            "description_tooltip": null,
            "layout": "IPY_MODEL_d7b61c09bb914de7877cfb440e1a5cf4",
            "max": 578,
            "min": 0,
            "orientation": "horizontal",
            "style": "IPY_MODEL_9cc48e4107414c5caa3d3240e5eab2c8",
            "value": 578
          }
        },
        "59af2a2e540743aba760dd86b68e09a7": {
          "model_module": "@jupyter-widgets/controls",
          "model_name": "HTMLModel",
          "model_module_version": "1.5.0",
          "state": {
            "_dom_classes": [],
            "_model_module": "@jupyter-widgets/controls",
            "_model_module_version": "1.5.0",
            "_model_name": "HTMLModel",
            "_view_count": null,
            "_view_module": "@jupyter-widgets/controls",
            "_view_module_version": "1.5.0",
            "_view_name": "HTMLView",
            "description": "",
            "description_tooltip": null,
            "layout": "IPY_MODEL_9636a9bacc5c41f5834ae552c480f860",
            "placeholder": "​",
            "style": "IPY_MODEL_527ebee280cf4c12beb34e3990ad62fd",
            "value": " 578/578 [00:00&lt;00:00, 11.0kB/s]"
          }
        },
        "75215bbf000b482185010355786aef45": {
          "model_module": "@jupyter-widgets/base",
          "model_name": "LayoutModel",
          "model_module_version": "1.2.0",
          "state": {
            "_model_module": "@jupyter-widgets/base",
            "_model_module_version": "1.2.0",
            "_model_name": "LayoutModel",
            "_view_count": null,
            "_view_module": "@jupyter-widgets/base",
            "_view_module_version": "1.2.0",
            "_view_name": "LayoutView",
            "align_content": null,
            "align_items": null,
            "align_self": null,
            "border": null,
            "bottom": null,
            "display": null,
            "flex": null,
            "flex_flow": null,
            "grid_area": null,
            "grid_auto_columns": null,
            "grid_auto_flow": null,
            "grid_auto_rows": null,
            "grid_column": null,
            "grid_gap": null,
            "grid_row": null,
            "grid_template_areas": null,
            "grid_template_columns": null,
            "grid_template_rows": null,
            "height": null,
            "justify_content": null,
            "justify_items": null,
            "left": null,
            "margin": null,
            "max_height": null,
            "max_width": null,
            "min_height": null,
            "min_width": null,
            "object_fit": null,
            "object_position": null,
            "order": null,
            "overflow": null,
            "overflow_x": null,
            "overflow_y": null,
            "padding": null,
            "right": null,
            "top": null,
            "visibility": null,
            "width": null
          }
        },
        "baee107ddc1b43bf8476262a49412c2d": {
          "model_module": "@jupyter-widgets/base",
          "model_name": "LayoutModel",
          "model_module_version": "1.2.0",
          "state": {
            "_model_module": "@jupyter-widgets/base",
            "_model_module_version": "1.2.0",
            "_model_name": "LayoutModel",
            "_view_count": null,
            "_view_module": "@jupyter-widgets/base",
            "_view_module_version": "1.2.0",
            "_view_name": "LayoutView",
            "align_content": null,
            "align_items": null,
            "align_self": null,
            "border": null,
            "bottom": null,
            "display": null,
            "flex": null,
            "flex_flow": null,
            "grid_area": null,
            "grid_auto_columns": null,
            "grid_auto_flow": null,
            "grid_auto_rows": null,
            "grid_column": null,
            "grid_gap": null,
            "grid_row": null,
            "grid_template_areas": null,
            "grid_template_columns": null,
            "grid_template_rows": null,
            "height": null,
            "justify_content": null,
            "justify_items": null,
            "left": null,
            "margin": null,
            "max_height": null,
            "max_width": null,
            "min_height": null,
            "min_width": null,
            "object_fit": null,
            "object_position": null,
            "order": null,
            "overflow": null,
            "overflow_x": null,
            "overflow_y": null,
            "padding": null,
            "right": null,
            "top": null,
            "visibility": null,
            "width": null
          }
        },
        "49779a343f4b4fadac0e0a9bbfd72fba": {
          "model_module": "@jupyter-widgets/controls",
          "model_name": "DescriptionStyleModel",
          "model_module_version": "1.5.0",
          "state": {
            "_model_module": "@jupyter-widgets/controls",
            "_model_module_version": "1.5.0",
            "_model_name": "DescriptionStyleModel",
            "_view_count": null,
            "_view_module": "@jupyter-widgets/base",
            "_view_module_version": "1.2.0",
            "_view_name": "StyleView",
            "description_width": ""
          }
        },
        "d7b61c09bb914de7877cfb440e1a5cf4": {
          "model_module": "@jupyter-widgets/base",
          "model_name": "LayoutModel",
          "model_module_version": "1.2.0",
          "state": {
            "_model_module": "@jupyter-widgets/base",
            "_model_module_version": "1.2.0",
            "_model_name": "LayoutModel",
            "_view_count": null,
            "_view_module": "@jupyter-widgets/base",
            "_view_module_version": "1.2.0",
            "_view_name": "LayoutView",
            "align_content": null,
            "align_items": null,
            "align_self": null,
            "border": null,
            "bottom": null,
            "display": null,
            "flex": null,
            "flex_flow": null,
            "grid_area": null,
            "grid_auto_columns": null,
            "grid_auto_flow": null,
            "grid_auto_rows": null,
            "grid_column": null,
            "grid_gap": null,
            "grid_row": null,
            "grid_template_areas": null,
            "grid_template_columns": null,
            "grid_template_rows": null,
            "height": null,
            "justify_content": null,
            "justify_items": null,
            "left": null,
            "margin": null,
            "max_height": null,
            "max_width": null,
            "min_height": null,
            "min_width": null,
            "object_fit": null,
            "object_position": null,
            "order": null,
            "overflow": null,
            "overflow_x": null,
            "overflow_y": null,
            "padding": null,
            "right": null,
            "top": null,
            "visibility": null,
            "width": null
          }
        },
        "9cc48e4107414c5caa3d3240e5eab2c8": {
          "model_module": "@jupyter-widgets/controls",
          "model_name": "ProgressStyleModel",
          "model_module_version": "1.5.0",
          "state": {
            "_model_module": "@jupyter-widgets/controls",
            "_model_module_version": "1.5.0",
            "_model_name": "ProgressStyleModel",
            "_view_count": null,
            "_view_module": "@jupyter-widgets/base",
            "_view_module_version": "1.2.0",
            "_view_name": "StyleView",
            "bar_color": null,
            "description_width": ""
          }
        },
        "9636a9bacc5c41f5834ae552c480f860": {
          "model_module": "@jupyter-widgets/base",
          "model_name": "LayoutModel",
          "model_module_version": "1.2.0",
          "state": {
            "_model_module": "@jupyter-widgets/base",
            "_model_module_version": "1.2.0",
            "_model_name": "LayoutModel",
            "_view_count": null,
            "_view_module": "@jupyter-widgets/base",
            "_view_module_version": "1.2.0",
            "_view_name": "LayoutView",
            "align_content": null,
            "align_items": null,
            "align_self": null,
            "border": null,
            "bottom": null,
            "display": null,
            "flex": null,
            "flex_flow": null,
            "grid_area": null,
            "grid_auto_columns": null,
            "grid_auto_flow": null,
            "grid_auto_rows": null,
            "grid_column": null,
            "grid_gap": null,
            "grid_row": null,
            "grid_template_areas": null,
            "grid_template_columns": null,
            "grid_template_rows": null,
            "height": null,
            "justify_content": null,
            "justify_items": null,
            "left": null,
            "margin": null,
            "max_height": null,
            "max_width": null,
            "min_height": null,
            "min_width": null,
            "object_fit": null,
            "object_position": null,
            "order": null,
            "overflow": null,
            "overflow_x": null,
            "overflow_y": null,
            "padding": null,
            "right": null,
            "top": null,
            "visibility": null,
            "width": null
          }
        },
        "527ebee280cf4c12beb34e3990ad62fd": {
          "model_module": "@jupyter-widgets/controls",
          "model_name": "DescriptionStyleModel",
          "model_module_version": "1.5.0",
          "state": {
            "_model_module": "@jupyter-widgets/controls",
            "_model_module_version": "1.5.0",
            "_model_name": "DescriptionStyleModel",
            "_view_count": null,
            "_view_module": "@jupyter-widgets/base",
            "_view_module_version": "1.2.0",
            "_view_name": "StyleView",
            "description_width": ""
          }
        }
      }
    }
  },
  "nbformat_minor": 0,
  "nbformat": 4,
  "cells": [
    {
      "cell_type": "markdown",
      "source": [
        "# Imports"
      ],
      "metadata": {
        "id": "1x7Cv9BSLzWa"
      }
    },
    {
      "cell_type": "code",
      "source": [
        "import pandas as pd\n",
        "import numpy as np\n",
        "from sklearn.metrics import precision_recall_fscore_support, accuracy_score\n",
        "!pip install -q transformers\n",
        "!pip install -q datasets\n",
        "import torch\n",
        "from torch.utils.data import Dataset, DataLoader\n",
        "from sklearn.model_selection import train_test_split\n",
        "import transformers\n",
        "from transformers import AutoModel, BertTokenizerFast, AutoModelForSequenceClassification, Trainer, TrainingArguments\n",
        "import numpy as np\n",
        "from datasets import load_metric\n",
        "import seaborn as sns\n",
        "import matplotlib.pyplot as plt \n",
        "import plotly.graph_objs as go \n",
        "import os\n",
        "import warnings\n",
        "from matplotlib.pyplot import figure\n",
        "import matplotlib.pyplot as plt\n",
        "import numpy as np        \n",
        "warnings.filterwarnings(\"ignore\")\n",
        "plt.style.use('ggplot')\n",
        "import pandas as pd\n",
        "from PIL import Image\n",
        "import random\n",
        "from sklearn.metrics import accuracy_score\n",
        "from sklearn.metrics import f1_score\n",
        "from sklearn.metrics import confusion_matrix, classification_report"
      ],
      "metadata": {
        "colab": {
          "base_uri": "https://localhost:8080/"
        },
        "id": "jc8wjuqz2Tx3",
        "outputId": "3f2a769d-db8b-43c8-991f-764c271ecba5",
        "execution": {
          "iopub.status.busy": "2023-01-17T23:48:28.081524Z",
          "iopub.execute_input": "2023-01-17T23:48:28.082239Z",
          "iopub.status.idle": "2023-01-17T23:48:56.821979Z",
          "shell.execute_reply.started": "2023-01-17T23:48:28.082207Z",
          "shell.execute_reply": "2023-01-17T23:48:56.820803Z"
        },
        "trusted": true
      },
      "execution_count": 1,
      "outputs": [
        {
          "output_type": "stream",
          "name": "stdout",
          "text": [
            "\u001b[2K     \u001b[90m━━━━━━━━━━━━━━━━━━━━━━━━━━━━━━━━━━━━━━━━\u001b[0m \u001b[32m5.8/5.8 MB\u001b[0m \u001b[31m27.4 MB/s\u001b[0m eta \u001b[36m0:00:00\u001b[0m\n",
            "\u001b[2K     \u001b[90m━━━━━━━━━━━━━━━━━━━━━━━━━━━━━━━━━━━━━━━━\u001b[0m \u001b[32m7.6/7.6 MB\u001b[0m \u001b[31m47.6 MB/s\u001b[0m eta \u001b[36m0:00:00\u001b[0m\n",
            "\u001b[2K     \u001b[90m━━━━━━━━━━━━━━━━━━━━━━━━━━━━━━━━━━━━━━━\u001b[0m \u001b[32m182.4/182.4 KB\u001b[0m \u001b[31m6.2 MB/s\u001b[0m eta \u001b[36m0:00:00\u001b[0m\n",
            "\u001b[2K     \u001b[90m━━━━━━━━━━━━━━━━━━━━━━━━━━━━━━━━━━━━━━━\u001b[0m \u001b[32m452.9/452.9 KB\u001b[0m \u001b[31m7.2 MB/s\u001b[0m eta \u001b[36m0:00:00\u001b[0m\n",
            "\u001b[2K     \u001b[90m━━━━━━━━━━━━━━━━━━━━━━━━━━━━━━━━━━━━━━\u001b[0m \u001b[32m132.0/132.0 KB\u001b[0m \u001b[31m12.5 MB/s\u001b[0m eta \u001b[36m0:00:00\u001b[0m\n",
            "\u001b[2K     \u001b[90m━━━━━━━━━━━━━━━━━━━━━━━━━━━━━━━━━━━━━━\u001b[0m \u001b[32m213.0/213.0 KB\u001b[0m \u001b[31m22.7 MB/s\u001b[0m eta \u001b[36m0:00:00\u001b[0m\n",
            "\u001b[2K     \u001b[90m━━━━━━━━━━━━━━━━━━━━━━━━━━━━━━━━━━━━━━\u001b[0m \u001b[32m140.6/140.6 KB\u001b[0m \u001b[31m15.7 MB/s\u001b[0m eta \u001b[36m0:00:00\u001b[0m\n",
            "\u001b[?25h"
          ]
        }
      ]
    },
    {
      "cell_type": "markdown",
      "source": [
        "# Download Data"
      ],
      "metadata": {
        "id": "rsdYgHrNLtRa"
      }
    },
    {
      "cell_type": "code",
      "source": [
        "!pip install gdown"
      ],
      "metadata": {
        "execution": {
          "iopub.status.busy": "2023-01-17T23:50:33.972329Z",
          "iopub.execute_input": "2023-01-17T23:50:33.973588Z",
          "iopub.status.idle": "2023-01-17T23:50:44.707644Z",
          "shell.execute_reply.started": "2023-01-17T23:50:33.973543Z",
          "shell.execute_reply": "2023-01-17T23:50:44.706376Z"
        },
        "trusted": true,
        "colab": {
          "base_uri": "https://localhost:8080/"
        },
        "id": "5yDZ32OLFXrX",
        "outputId": "0758f7ff-dd25-46d2-854d-3592b483aea4"
      },
      "execution_count": 2,
      "outputs": [
        {
          "output_type": "stream",
          "name": "stdout",
          "text": [
            "Looking in indexes: https://pypi.org/simple, https://us-python.pkg.dev/colab-wheels/public/simple/\n",
            "Requirement already satisfied: gdown in /usr/local/lib/python3.8/dist-packages (4.4.0)\n",
            "Requirement already satisfied: requests[socks] in /usr/local/lib/python3.8/dist-packages (from gdown) (2.25.1)\n",
            "Requirement already satisfied: tqdm in /usr/local/lib/python3.8/dist-packages (from gdown) (4.64.1)\n",
            "Requirement already satisfied: filelock in /usr/local/lib/python3.8/dist-packages (from gdown) (3.9.0)\n",
            "Requirement already satisfied: beautifulsoup4 in /usr/local/lib/python3.8/dist-packages (from gdown) (4.6.3)\n",
            "Requirement already satisfied: six in /usr/local/lib/python3.8/dist-packages (from gdown) (1.15.0)\n",
            "Requirement already satisfied: chardet<5,>=3.0.2 in /usr/local/lib/python3.8/dist-packages (from requests[socks]->gdown) (4.0.0)\n",
            "Requirement already satisfied: certifi>=2017.4.17 in /usr/local/lib/python3.8/dist-packages (from requests[socks]->gdown) (2022.12.7)\n",
            "Requirement already satisfied: urllib3<1.27,>=1.21.1 in /usr/local/lib/python3.8/dist-packages (from requests[socks]->gdown) (1.26.14)\n",
            "Requirement already satisfied: idna<3,>=2.5 in /usr/local/lib/python3.8/dist-packages (from requests[socks]->gdown) (2.10)\n",
            "Requirement already satisfied: PySocks!=1.5.7,>=1.5.6 in /usr/local/lib/python3.8/dist-packages (from requests[socks]->gdown) (1.7.1)\n"
          ]
        }
      ]
    },
    {
      "cell_type": "code",
      "source": [
        "!gdown https://drive.google.com/uc?id=1L787y_gjEaw45Yv41oFGkFYW8gTj1h9P"
      ],
      "metadata": {
        "colab": {
          "base_uri": "https://localhost:8080/"
        },
        "id": "uOUJoY2R-VVv",
        "outputId": "b8a9161b-96aa-4757-ecb4-d64bfb693673",
        "execution": {
          "iopub.status.busy": "2023-01-17T23:50:44.710134Z",
          "iopub.execute_input": "2023-01-17T23:50:44.710749Z",
          "iopub.status.idle": "2023-01-17T23:50:48.643917Z",
          "shell.execute_reply.started": "2023-01-17T23:50:44.710708Z",
          "shell.execute_reply": "2023-01-17T23:50:48.642781Z"
        },
        "trusted": true
      },
      "execution_count": 3,
      "outputs": [
        {
          "output_type": "stream",
          "name": "stdout",
          "text": [
            "Downloading...\n",
            "From: https://drive.google.com/uc?id=1L787y_gjEaw45Yv41oFGkFYW8gTj1h9P\n",
            "To: /content/dialect_dataset_cleaned.csv\n",
            "100% 52.0M/52.0M [00:00<00:00, 67.2MB/s]\n"
          ]
        }
      ]
    },
    {
      "cell_type": "markdown",
      "source": [
        "# Read Data"
      ],
      "metadata": {
        "id": "MxZ9gDF4_lim"
      }
    },
    {
      "cell_type": "code",
      "source": [
        "df = pd.read_csv(\"/content/dialect_dataset_cleaned.csv\")"
      ],
      "metadata": {
        "id": "PKU-RRNi_lAR",
        "execution": {
          "iopub.status.busy": "2023-01-17T23:50:48.645746Z",
          "iopub.execute_input": "2023-01-17T23:50:48.646164Z",
          "iopub.status.idle": "2023-01-17T23:50:49.578128Z",
          "shell.execute_reply.started": "2023-01-17T23:50:48.646122Z",
          "shell.execute_reply": "2023-01-17T23:50:49.577121Z"
        },
        "trusted": true
      },
      "execution_count": 13,
      "outputs": []
    },
    {
      "cell_type": "code",
      "source": [
        "df.head()"
      ],
      "metadata": {
        "colab": {
          "base_uri": "https://localhost:8080/",
          "height": 206
        },
        "id": "QL8PLHxeClUV",
        "outputId": "22bfc4b8-e7fd-49f7-8191-860a4cfbf860",
        "execution": {
          "iopub.status.busy": "2023-01-17T23:50:49.580532Z",
          "iopub.execute_input": "2023-01-17T23:50:49.581022Z",
          "iopub.status.idle": "2023-01-17T23:50:49.600700Z",
          "shell.execute_reply.started": "2023-01-17T23:50:49.580985Z",
          "shell.execute_reply": "2023-01-17T23:50:49.599431Z"
        },
        "trusted": true
      },
      "execution_count": 14,
      "outputs": [
        {
          "output_type": "execute_result",
          "data": {
            "text/plain": [
              "  dialect                                               text\n",
              "0      TN  ناس بكري قالوا طيح وشوف شكون يوقف معاك غيب وشو...\n",
              "1      TN              تهبل والله فنانه مبدعه انت ماشاء الله\n",
              "2      TN                               الله يبارك فيك يعيشك\n",
              "3      TN                       عيدكم مبروك وسنين دايمه دلوع\n",
              "4      TN  الله يسلمك دلوع الغاليه ويمتعك بالصحه والعافيه..."
            ],
            "text/html": [
              "\n",
              "  <div id=\"df-8ef6dcf0-207f-4dd5-96c5-96097f3f715c\">\n",
              "    <div class=\"colab-df-container\">\n",
              "      <div>\n",
              "<style scoped>\n",
              "    .dataframe tbody tr th:only-of-type {\n",
              "        vertical-align: middle;\n",
              "    }\n",
              "\n",
              "    .dataframe tbody tr th {\n",
              "        vertical-align: top;\n",
              "    }\n",
              "\n",
              "    .dataframe thead th {\n",
              "        text-align: right;\n",
              "    }\n",
              "</style>\n",
              "<table border=\"1\" class=\"dataframe\">\n",
              "  <thead>\n",
              "    <tr style=\"text-align: right;\">\n",
              "      <th></th>\n",
              "      <th>dialect</th>\n",
              "      <th>text</th>\n",
              "    </tr>\n",
              "  </thead>\n",
              "  <tbody>\n",
              "    <tr>\n",
              "      <th>0</th>\n",
              "      <td>TN</td>\n",
              "      <td>ناس بكري قالوا طيح وشوف شكون يوقف معاك غيب وشو...</td>\n",
              "    </tr>\n",
              "    <tr>\n",
              "      <th>1</th>\n",
              "      <td>TN</td>\n",
              "      <td>تهبل والله فنانه مبدعه انت ماشاء الله</td>\n",
              "    </tr>\n",
              "    <tr>\n",
              "      <th>2</th>\n",
              "      <td>TN</td>\n",
              "      <td>الله يبارك فيك يعيشك</td>\n",
              "    </tr>\n",
              "    <tr>\n",
              "      <th>3</th>\n",
              "      <td>TN</td>\n",
              "      <td>عيدكم مبروك وسنين دايمه دلوع</td>\n",
              "    </tr>\n",
              "    <tr>\n",
              "      <th>4</th>\n",
              "      <td>TN</td>\n",
              "      <td>الله يسلمك دلوع الغاليه ويمتعك بالصحه والعافيه...</td>\n",
              "    </tr>\n",
              "  </tbody>\n",
              "</table>\n",
              "</div>\n",
              "      <button class=\"colab-df-convert\" onclick=\"convertToInteractive('df-8ef6dcf0-207f-4dd5-96c5-96097f3f715c')\"\n",
              "              title=\"Convert this dataframe to an interactive table.\"\n",
              "              style=\"display:none;\">\n",
              "        \n",
              "  <svg xmlns=\"http://www.w3.org/2000/svg\" height=\"24px\"viewBox=\"0 0 24 24\"\n",
              "       width=\"24px\">\n",
              "    <path d=\"M0 0h24v24H0V0z\" fill=\"none\"/>\n",
              "    <path d=\"M18.56 5.44l.94 2.06.94-2.06 2.06-.94-2.06-.94-.94-2.06-.94 2.06-2.06.94zm-11 1L8.5 8.5l.94-2.06 2.06-.94-2.06-.94L8.5 2.5l-.94 2.06-2.06.94zm10 10l.94 2.06.94-2.06 2.06-.94-2.06-.94-.94-2.06-.94 2.06-2.06.94z\"/><path d=\"M17.41 7.96l-1.37-1.37c-.4-.4-.92-.59-1.43-.59-.52 0-1.04.2-1.43.59L10.3 9.45l-7.72 7.72c-.78.78-.78 2.05 0 2.83L4 21.41c.39.39.9.59 1.41.59.51 0 1.02-.2 1.41-.59l7.78-7.78 2.81-2.81c.8-.78.8-2.07 0-2.86zM5.41 20L4 18.59l7.72-7.72 1.47 1.35L5.41 20z\"/>\n",
              "  </svg>\n",
              "      </button>\n",
              "      \n",
              "  <style>\n",
              "    .colab-df-container {\n",
              "      display:flex;\n",
              "      flex-wrap:wrap;\n",
              "      gap: 12px;\n",
              "    }\n",
              "\n",
              "    .colab-df-convert {\n",
              "      background-color: #E8F0FE;\n",
              "      border: none;\n",
              "      border-radius: 50%;\n",
              "      cursor: pointer;\n",
              "      display: none;\n",
              "      fill: #1967D2;\n",
              "      height: 32px;\n",
              "      padding: 0 0 0 0;\n",
              "      width: 32px;\n",
              "    }\n",
              "\n",
              "    .colab-df-convert:hover {\n",
              "      background-color: #E2EBFA;\n",
              "      box-shadow: 0px 1px 2px rgba(60, 64, 67, 0.3), 0px 1px 3px 1px rgba(60, 64, 67, 0.15);\n",
              "      fill: #174EA6;\n",
              "    }\n",
              "\n",
              "    [theme=dark] .colab-df-convert {\n",
              "      background-color: #3B4455;\n",
              "      fill: #D2E3FC;\n",
              "    }\n",
              "\n",
              "    [theme=dark] .colab-df-convert:hover {\n",
              "      background-color: #434B5C;\n",
              "      box-shadow: 0px 1px 3px 1px rgba(0, 0, 0, 0.15);\n",
              "      filter: drop-shadow(0px 1px 2px rgba(0, 0, 0, 0.3));\n",
              "      fill: #FFFFFF;\n",
              "    }\n",
              "  </style>\n",
              "\n",
              "      <script>\n",
              "        const buttonEl =\n",
              "          document.querySelector('#df-8ef6dcf0-207f-4dd5-96c5-96097f3f715c button.colab-df-convert');\n",
              "        buttonEl.style.display =\n",
              "          google.colab.kernel.accessAllowed ? 'block' : 'none';\n",
              "\n",
              "        async function convertToInteractive(key) {\n",
              "          const element = document.querySelector('#df-8ef6dcf0-207f-4dd5-96c5-96097f3f715c');\n",
              "          const dataTable =\n",
              "            await google.colab.kernel.invokeFunction('convertToInteractive',\n",
              "                                                     [key], {});\n",
              "          if (!dataTable) return;\n",
              "\n",
              "          const docLinkHtml = 'Like what you see? Visit the ' +\n",
              "            '<a target=\"_blank\" href=https://colab.research.google.com/notebooks/data_table.ipynb>data table notebook</a>'\n",
              "            + ' to learn more about interactive tables.';\n",
              "          element.innerHTML = '';\n",
              "          dataTable['output_type'] = 'display_data';\n",
              "          await google.colab.output.renderOutput(dataTable, element);\n",
              "          const docLink = document.createElement('div');\n",
              "          docLink.innerHTML = docLinkHtml;\n",
              "          element.appendChild(docLink);\n",
              "        }\n",
              "      </script>\n",
              "    </div>\n",
              "  </div>\n",
              "  "
            ]
          },
          "metadata": {},
          "execution_count": 14
        }
      ]
    },
    {
      "cell_type": "code",
      "source": [
        "df.isna().sum()"
      ],
      "metadata": {
        "colab": {
          "base_uri": "https://localhost:8080/"
        },
        "id": "SFdL4ISKImyi",
        "outputId": "1df2835e-239e-4e7e-9e55-4b666003a12c",
        "execution": {
          "iopub.status.busy": "2023-01-17T23:50:49.602434Z",
          "iopub.execute_input": "2023-01-17T23:50:49.602934Z",
          "iopub.status.idle": "2023-01-17T23:50:49.658508Z",
          "shell.execute_reply.started": "2023-01-17T23:50:49.602894Z",
          "shell.execute_reply": "2023-01-17T23:50:49.657140Z"
        },
        "trusted": true
      },
      "execution_count": 15,
      "outputs": [
        {
          "output_type": "execute_result",
          "data": {
            "text/plain": [
              "dialect      0\n",
              "text       172\n",
              "dtype: int64"
            ]
          },
          "metadata": {},
          "execution_count": 15
        }
      ]
    },
    {
      "cell_type": "code",
      "source": [
        "df.dropna(inplace=True)"
      ],
      "metadata": {
        "id": "Lf_v8KcyIrWn",
        "execution": {
          "iopub.status.busy": "2023-01-17T23:50:49.659941Z",
          "iopub.execute_input": "2023-01-17T23:50:49.660416Z",
          "iopub.status.idle": "2023-01-17T23:50:49.739190Z",
          "shell.execute_reply.started": "2023-01-17T23:50:49.660376Z",
          "shell.execute_reply": "2023-01-17T23:50:49.738191Z"
        },
        "trusted": true
      },
      "execution_count": 16,
      "outputs": []
    },
    {
      "cell_type": "markdown",
      "source": [
        "## Split Data"
      ],
      "metadata": {
        "id": "UcPfnmCRB72l"
      }
    },
    {
      "cell_type": "code",
      "source": [
        "def seed_everything(seed=1234):\n",
        "  random.seed(seed)\n",
        "  os.environ['PYTHONHASHSEED'] = str(seed)\n",
        "  np.random.seed(seed)\n",
        "  torch.manual_seed(seed)\n",
        "  torch.cuda.manual_seed(seed)\n",
        "  torch.backends.cudnn.deterministic = True\n",
        "seed_everything()"
      ],
      "metadata": {
        "id": "IcxPVE4WHM6s",
        "execution": {
          "iopub.status.busy": "2023-01-17T23:50:52.429471Z",
          "iopub.execute_input": "2023-01-17T23:50:52.429826Z",
          "iopub.status.idle": "2023-01-17T23:50:52.439076Z",
          "shell.execute_reply.started": "2023-01-17T23:50:52.429791Z",
          "shell.execute_reply": "2023-01-17T23:50:52.437925Z"
        },
        "trusted": true
      },
      "execution_count": 17,
      "outputs": []
    },
    {
      "cell_type": "code",
      "source": [
        "df_train, df_test= train_test_split(df, test_size=0.006, random_state=42)\n",
        "df_train,df_val = train_test_split(df_train,test_size=0.01, random_state=42)"
      ],
      "metadata": {
        "id": "AplycSluCAif",
        "execution": {
          "iopub.status.busy": "2023-01-17T23:50:54.100604Z",
          "iopub.execute_input": "2023-01-17T23:50:54.100982Z",
          "iopub.status.idle": "2023-01-17T23:50:54.239059Z",
          "shell.execute_reply.started": "2023-01-17T23:50:54.100949Z",
          "shell.execute_reply": "2023-01-17T23:50:54.238078Z"
        },
        "trusted": true
      },
      "execution_count": 18,
      "outputs": []
    },
    {
      "cell_type": "markdown",
      "source": [
        "# Preparing data and model"
      ],
      "metadata": {
        "id": "Qlm6uCAFOehF"
      }
    },
    {
      "cell_type": "code",
      "source": [
        "df_train['dialect'].unique()"
      ],
      "metadata": {
        "colab": {
          "base_uri": "https://localhost:8080/"
        },
        "id": "b8qxUJ7_PQcU",
        "outputId": "967cc7c5-5610-4c1e-b738-98feb1cad8ec",
        "execution": {
          "iopub.status.busy": "2023-01-17T23:51:01.217835Z",
          "iopub.execute_input": "2023-01-17T23:51:01.218514Z",
          "iopub.status.idle": "2023-01-17T23:51:01.254880Z",
          "shell.execute_reply.started": "2023-01-17T23:51:01.218482Z",
          "shell.execute_reply": "2023-01-17T23:51:01.253807Z"
        },
        "trusted": true
      },
      "execution_count": 19,
      "outputs": [
        {
          "output_type": "execute_result",
          "data": {
            "text/plain": [
              "array(['SA', 'PL', 'KW', 'EG', 'JO', 'LB', 'DZ', 'BH', 'QA', 'IQ', 'TN',\n",
              "       'LY', 'SY', 'YE', 'AE', 'OM', 'SD', 'MA'], dtype=object)"
            ]
          },
          "metadata": {},
          "execution_count": 19
        }
      ]
    },
    {
      "cell_type": "code",
      "source": [
        "encode_labels = {d: i for i, d in enumerate(df_train['dialect'].unique())}"
      ],
      "metadata": {
        "id": "z05aELcHO9Z3",
        "execution": {
          "iopub.status.busy": "2023-01-17T23:51:01.591641Z",
          "iopub.execute_input": "2023-01-17T23:51:01.592327Z",
          "iopub.status.idle": "2023-01-17T23:51:01.621226Z",
          "shell.execute_reply.started": "2023-01-17T23:51:01.592289Z",
          "shell.execute_reply": "2023-01-17T23:51:01.620295Z"
        },
        "trusted": true
      },
      "execution_count": 20,
      "outputs": []
    },
    {
      "cell_type": "code",
      "source": [
        "df_train['dialect'] = df_train['dialect'].map(encode_labels)\n",
        "df_test['dialect'] = df_test['dialect'].map(encode_labels)\n",
        "df_val['dialect'] = df_val['dialect'].map(encode_labels)"
      ],
      "metadata": {
        "id": "Gc7y8WR4UY89",
        "execution": {
          "iopub.status.busy": "2023-01-17T23:51:02.797995Z",
          "iopub.execute_input": "2023-01-17T23:51:02.798355Z",
          "iopub.status.idle": "2023-01-17T23:51:02.870830Z",
          "shell.execute_reply.started": "2023-01-17T23:51:02.798326Z",
          "shell.execute_reply": "2023-01-17T23:51:02.869922Z"
        },
        "trusted": true
      },
      "execution_count": 21,
      "outputs": []
    },
    {
      "cell_type": "code",
      "source": [
        "model = AutoModelForSequenceClassification.from_pretrained('aubmindlab/bert-base-arabert', num_labels=len(df_train['dialect'].unique()))\n",
        "tokenizer = BertTokenizerFast.from_pretrained('aubmindlab/bert-base-arabert')"
      ],
      "metadata": {
        "id": "hE8IoARrPoK9",
        "colab": {
          "base_uri": "https://localhost:8080/",
          "height": 161,
          "referenced_widgets": [
            "41718b47cc3841a2b4affc250ce23e40",
            "2ebc32bc071f4eb5a565d41a2163bb93",
            "4790698504e84331bf0b02bd28220291",
            "e1b2af67eb4d4858b99ab8b491985780",
            "f3d973868f824ad39ffa2c02e096a693",
            "99c9dd87737a491db4be0eec092b5411",
            "d81e35ff85884c6382e8ddd9e92f0a99",
            "69f8fa0bfb4c4bea8157234496852d40",
            "95bdce6dedf246fa9f643b0c8c72426c",
            "c82ba150a33546178381a1fbffe5f739",
            "b0b2798540a34fd6b1229365f13d8371"
          ]
        },
        "outputId": "2663795f-909a-4e34-c1e8-3434912f072e",
        "execution": {
          "iopub.status.busy": "2023-01-17T23:51:58.866410Z",
          "iopub.execute_input": "2023-01-17T23:51:58.866750Z",
          "iopub.status.idle": "2023-01-17T23:52:18.363366Z",
          "shell.execute_reply.started": "2023-01-17T23:51:58.866720Z",
          "shell.execute_reply": "2023-01-17T23:52:18.362392Z"
        },
        "trusted": true
      },
      "execution_count": 22,
      "outputs": [
        {
          "output_type": "display_data",
          "data": {
            "text/plain": [
              "Downloading:   0%|          | 0.00/543M [00:00<?, ?B/s]"
            ],
            "application/vnd.jupyter.widget-view+json": {
              "version_major": 2,
              "version_minor": 0,
              "model_id": "41718b47cc3841a2b4affc250ce23e40"
            }
          },
          "metadata": {}
        },
        {
          "output_type": "stream",
          "name": "stderr",
          "text": [
            "Some weights of the model checkpoint at aubmindlab/bert-base-arabert were not used when initializing BertForSequenceClassification: ['cls.predictions.bias', 'cls.predictions.transform.LayerNorm.weight', 'cls.predictions.transform.dense.weight', 'cls.predictions.transform.LayerNorm.bias', 'cls.seq_relationship.weight', 'cls.predictions.transform.dense.bias', 'cls.predictions.decoder.weight', 'cls.seq_relationship.bias']\n",
            "- This IS expected if you are initializing BertForSequenceClassification from the checkpoint of a model trained on another task or with another architecture (e.g. initializing a BertForSequenceClassification model from a BertForPreTraining model).\n",
            "- This IS NOT expected if you are initializing BertForSequenceClassification from the checkpoint of a model that you expect to be exactly identical (initializing a BertForSequenceClassification model from a BertForSequenceClassification model).\n",
            "Some weights of BertForSequenceClassification were not initialized from the model checkpoint at aubmindlab/bert-base-arabert and are newly initialized: ['classifier.bias', 'classifier.weight']\n",
            "You should probably TRAIN this model on a down-stream task to be able to use it for predictions and inference.\n"
          ]
        }
      ]
    },
    {
      "cell_type": "code",
      "source": [
        "sequence = []\n",
        "for i in df_train['text'].tolist():\n",
        "  sequence.append(len(tokenizer.encode(i)))"
      ],
      "metadata": {
        "id": "QKoxthk3P9-S",
        "execution": {
          "iopub.status.busy": "2023-01-17T23:52:18.365234Z",
          "iopub.execute_input": "2023-01-17T23:52:18.365591Z",
          "iopub.status.idle": "2023-01-17T23:53:05.416981Z",
          "shell.execute_reply.started": "2023-01-17T23:52:18.365556Z",
          "shell.execute_reply": "2023-01-17T23:53:05.415947Z"
        },
        "trusted": true
      },
      "execution_count": 23,
      "outputs": []
    },
    {
      "cell_type": "code",
      "source": [
        "plt.hist(sequence);"
      ],
      "metadata": {
        "colab": {
          "base_uri": "https://localhost:8080/",
          "height": 265
        },
        "id": "u3Nit8q2JEFk",
        "outputId": "6b5c0a50-cc27-4f25-efc8-8d118c085eb2",
        "execution": {
          "iopub.status.busy": "2023-01-17T23:53:05.421672Z",
          "iopub.execute_input": "2023-01-17T23:53:05.424314Z",
          "iopub.status.idle": "2023-01-17T23:53:07.646740Z",
          "shell.execute_reply.started": "2023-01-17T23:53:05.424272Z",
          "shell.execute_reply": "2023-01-17T23:53:07.645821Z"
        },
        "trusted": true
      },
      "execution_count": 24,
      "outputs": [
        {
          "output_type": "display_data",
          "data": {
            "text/plain": [
              "<Figure size 432x288 with 1 Axes>"
            ],
            "image/png": "[encoded data removed]"
          },
          "metadata": {}
        }
      ]
    },
    {
      "cell_type": "code",
      "source": [
        "max_seq_len = max(sequence)"
      ],
      "metadata": {
        "id": "TkFAPsvqJQEQ",
        "execution": {
          "iopub.status.busy": "2023-01-17T23:53:07.649136Z",
          "iopub.execute_input": "2023-01-17T23:53:07.650046Z",
          "iopub.status.idle": "2023-01-17T23:53:07.662441Z",
          "shell.execute_reply.started": "2023-01-17T23:53:07.650007Z",
          "shell.execute_reply": "2023-01-17T23:53:07.661339Z"
        },
        "trusted": true
      },
      "execution_count": 25,
      "outputs": []
    },
    {
      "cell_type": "code",
      "source": [
        "train = tokenizer(df_train['text'].to_list(), truncation=True, padding=True, max_length=max_seq_len)\n",
        "val= tokenizer(df_val['text'].to_list(), truncation=True, padding=True, max_length=max_seq_len)\n",
        "test = tokenizer(df_test['text'].to_list(), truncation=True, padding=True, max_length=max_seq_len)"
      ],
      "metadata": {
        "id": "RdIukFkhUBOE",
        "execution": {
          "iopub.status.busy": "2023-01-17T23:53:07.664011Z",
          "iopub.execute_input": "2023-01-17T23:53:07.664378Z",
          "iopub.status.idle": "2023-01-17T23:53:52.762987Z",
          "shell.execute_reply.started": "2023-01-17T23:53:07.664336Z",
          "shell.execute_reply": "2023-01-17T23:53:52.761537Z"
        },
        "trusted": true
      },
      "execution_count": 26,
      "outputs": []
    },
    {
      "cell_type": "code",
      "source": [
        "train_labels = df_train['dialect']\n",
        "val_labels = df_val['dialect']\n",
        "test_labels = df_test['dialect']"
      ],
      "metadata": {
        "id": "5BOt8LMnVbA2",
        "execution": {
          "iopub.status.busy": "2023-01-17T23:53:52.764532Z",
          "iopub.execute_input": "2023-01-17T23:53:52.766572Z",
          "iopub.status.idle": "2023-01-17T23:53:52.778173Z",
          "shell.execute_reply.started": "2023-01-17T23:53:52.766535Z",
          "shell.execute_reply": "2023-01-17T23:53:52.776122Z"
        },
        "trusted": true
      },
      "execution_count": 27,
      "outputs": []
    },
    {
      "cell_type": "code",
      "source": [
        "class QadiDataset(Dataset):\n",
        "  def __init__(self, encodings, labels):\n",
        "      self.encodings = encodings\n",
        "      self.labels = labels.to_list()\n",
        "\n",
        "  def __getitem__(self, idx):\n",
        "      item = {key: torch.tensor(val[idx]) for key, val in self.encodings.items()}\n",
        "      item['labels'] = torch.tensor(self.labels[idx])\n",
        "      return item\n",
        "\n",
        "  def __len__(self):\n",
        "      return len(self.labels)\n"
      ],
      "metadata": {
        "id": "H2lzLTGgUxgp",
        "execution": {
          "iopub.status.busy": "2023-01-17T23:53:52.781262Z",
          "iopub.execute_input": "2023-01-17T23:53:52.782451Z",
          "iopub.status.idle": "2023-01-17T23:53:52.793222Z",
          "shell.execute_reply.started": "2023-01-17T23:53:52.782414Z",
          "shell.execute_reply": "2023-01-17T23:53:52.792144Z"
        },
        "trusted": true
      },
      "execution_count": 28,
      "outputs": []
    },
    {
      "cell_type": "code",
      "source": [
        "ds_train = QadiDataset(train, train_labels)\n",
        "ds_val =  QadiDataset(val, val_labels)\n",
        "ds_test = QadiDataset(test, test_labels)"
      ],
      "metadata": {
        "id": "HZ0Q8eMjBv60",
        "execution": {
          "iopub.status.busy": "2023-01-17T23:53:52.795756Z",
          "iopub.execute_input": "2023-01-17T23:53:52.796354Z",
          "iopub.status.idle": "2023-01-17T23:53:52.817598Z",
          "shell.execute_reply.started": "2023-01-17T23:53:52.796318Z",
          "shell.execute_reply": "2023-01-17T23:53:52.816033Z"
        },
        "trusted": true
      },
      "execution_count": 29,
      "outputs": []
    },
    {
      "cell_type": "code",
      "source": [
        "def compute_metrics(eval_pred):\n",
        "  logits, labels = eval_pred\n",
        "  predictions = np.argmax(logits, axis=-1)\n",
        "  f1 = f1_score(labels, predictions, average='macro')\n",
        "  acc = accuracy_score(labels, predictions)\n",
        "  return {\n",
        "      'accuracy': acc,\n",
        "      'f1': f1,\n",
        "  }"
      ],
      "metadata": {
        "execution": {
          "iopub.status.busy": "2023-01-17T23:53:52.839742Z",
          "iopub.execute_input": "2023-01-17T23:53:52.840637Z",
          "iopub.status.idle": "2023-01-17T23:53:52.849411Z",
          "shell.execute_reply.started": "2023-01-17T23:53:52.840600Z",
          "shell.execute_reply": "2023-01-17T23:53:52.848225Z"
        },
        "trusted": true,
        "id": "s3qGIpIMFXrh"
      },
      "execution_count": 30,
      "outputs": []
    },
    {
      "cell_type": "code",
      "source": [
        "device = torch.device(\"cuda:0\")\n",
        "# model.to(device)"
      ],
      "metadata": {
        "execution": {
          "iopub.status.busy": "2023-01-17T23:54:08.153355Z",
          "iopub.execute_input": "2023-01-17T23:54:08.153697Z",
          "iopub.status.idle": "2023-01-17T23:54:13.151136Z",
          "shell.execute_reply.started": "2023-01-17T23:54:08.153668Z",
          "shell.execute_reply": "2023-01-17T23:54:13.149887Z"
        },
        "trusted": true,
        "id": "qkdwb2xVFXrh"
      },
      "execution_count": 32,
      "outputs": []
    },
    {
      "cell_type": "code",
      "source": [
        "training_args = TrainingArguments(\n",
        "    output_dir='./results',          \n",
        "    num_train_epochs=6,              \n",
        "    per_device_train_batch_size=64,  \n",
        "    per_device_eval_batch_size=64,   \n",
        "    warmup_steps=500,                \n",
        "    weight_decay=0.01,              \n",
        "    evaluation_strategy='epoch',\n",
        "    learning_rate = 2e-05,\n",
        "    save_strategy = 'epoch',\n",
        "    load_best_model_at_end=True\n",
        "    )\n",
        "\n",
        "trainer = Trainer(\n",
        "    model=model,                         \n",
        "    args=training_args,                  \n",
        "    train_dataset=ds_train,         \n",
        "    eval_dataset=ds_val,             \n",
        "    compute_metrics=compute_metrics\n",
        ")\n",
        "\n"
      ],
      "metadata": {
        "id": "btmFOJoiFXri"
      },
      "execution_count": 34,
      "outputs": []
    },
    {
      "cell_type": "markdown",
      "source": [
        "# Training"
      ],
      "metadata": {
        "id": "R4ti8vq2FXri"
      }
    },
    {
      "cell_type": "code",
      "source": [
        "trainer.train()"
      ],
      "metadata": {
        "id": "JUe4n5GSWBZ4",
        "colab": {
          "base_uri": "https://localhost:8080/",
          "height": 334
        },
        "outputId": "e7e084a6-6ef0-4bf5-b4cc-37e0ac01cefe",
        "execution": {
          "iopub.status.busy": "2023-01-17T23:55:10.655713Z",
          "iopub.execute_input": "2023-01-17T23:55:10.656090Z",
          "iopub.status.idle": "2023-01-18T07:54:42.858137Z",
          "shell.execute_reply.started": "2023-01-17T23:55:10.656058Z",
          "shell.execute_reply": "2023-01-18T07:54:42.857173Z"
        },
        "trusted": true
      },
      "execution_count": null,
      "outputs": [
        {
          "name": "stderr",
          "text": "PyTorch: setting up devices\nThe default value for the training argument `--report_to` will change in v5 (from all installed integrations to none). In v5, you will need to use `--report_to all` to get the same behavior as now. You should start updating your code and make this info disappear :-).\nUsing the `WAND_DISABLED` environment variable is deprecated and will be removed in v5. Use the --report_to flag to control the integrations used for logging result (for instance --report_to none).\n***** Running training *****\n  Num examples = 447489\n  Num Epochs = 6\n  Instantaneous batch size per device = 64\n  Total train batch size (w. parallel, distributed & accumulation) = 64\n  Gradient Accumulation steps = 1\n  Total optimization steps = 41958\n",
          "output_type": "stream"
        },
        {
          "output_type": "display_data",
          "data": {
            "text/plain": "<IPython.core.display.HTML object>",
            "text/html": "\n    <div>\n      \n      <progress value='41958' max='41958' style='width:300px; height:20px; vertical-align: middle;'></progress>\n      [41958/41958 7:59:31, Epoch 6/6]\n    </div>\n    <table border=\"1\" class=\"dataframe\">\n  <thead>\n <tr style=\"text-align: left;\">\n      <th>Epoch</th>\n      <th>Training Loss</th>\n      <th>Validation Loss</th>\n      <th>Accuracy</th>\n      <th>F1</th>\n    </tr>\n  </thead>\n  <tbody>\n    <tr>\n      <td>1</td>\n      <td>1.693700</td>\n      <td>1.632997</td>\n      <td>0.477770</td>\n      <td>0.447868</td>\n    </tr>\n    <tr>\n      <td>2</td>\n      <td>1.490000</td>\n      <td>1.533570</td>\n      <td>0.513603</td>\n      <td>0.487904</td>\n    </tr>\n    <tr>\n      <td>3</td>\n      <td>1.334600</td>\n      <td>1.489712</td>\n      <td>0.533510</td>\n      <td>0.506341</td>\n    </tr>\n    <tr>\n      <td>4</td>\n      <td>1.204600</td>\n      <td>1.503390</td>\n      <td>0.537934</td>\n      <td>0.511704</td>\n    </tr>\n    <tr>\n      <td>5</td>\n      <td>1.122000</td>\n      <td>1.526209</td>\n      <td>0.536828</td>\n      <td>0.513137</td>\n    </tr>\n    <tr>\n      <td>6</td>\n      <td>1.035200</td>\n      <td>1.546929</td>\n      <td>0.539040</td>\n      <td>0.514628</td>\n    </tr>\n  </tbody>\n</table><p>"
          },
          "metadata": {}
        },
        {
          "name": "stderr",
          "text": "***** Running Evaluation *****\n  Num examples = 4521\n  Batch size = 64\nSaving model checkpoint to ./results/checkpoint-6993\nConfiguration saved in ./results/checkpoint-6993/config.json\nModel weights saved in ./results/checkpoint-6993/pytorch_model.bin\n***** Running Evaluation *****\n  Num examples = 4521\n  Batch size = 64\nSaving model checkpoint to ./results/checkpoint-13986\nConfiguration saved in ./results/checkpoint-13986/config.json\nModel weights saved in ./results/checkpoint-13986/pytorch_model.bin\n***** Running Evaluation *****\n  Num examples = 4521\n  Batch size = 64\nSaving model checkpoint to ./results/checkpoint-20979\nConfiguration saved in ./results/checkpoint-20979/config.json\nModel weights saved in ./results/checkpoint-20979/pytorch_model.bin\n***** Running Evaluation *****\n  Num examples = 4521\n  Batch size = 64\nSaving model checkpoint to ./results/checkpoint-27972\nConfiguration saved in ./results/checkpoint-27972/config.json\nModel weights saved in ./results/checkpoint-27972/pytorch_model.bin\n***** Running Evaluation *****\n  Num examples = 4521\n  Batch size = 64\nSaving model checkpoint to ./results/checkpoint-34965\nConfiguration saved in ./results/checkpoint-34965/config.json\nModel weights saved in ./results/checkpoint-34965/pytorch_model.bin\n***** Running Evaluation *****\n  Num examples = 4521\n  Batch size = 64\nSaving model checkpoint to ./results/checkpoint-41958\nConfiguration saved in ./results/checkpoint-41958/config.json\nModel weights saved in ./results/checkpoint-41958/pytorch_model.bin\n\n\nTraining completed. Do not forget to share your model on huggingface.co/models =)\n\n\n",
          "output_type": "stream"
        },
        {
          "execution_count": 30,
          "output_type": "execute_result",
          "data": {
            "text/plain": "TrainOutput(global_step=41958, training_loss=1.3634675710227062, metrics={'train_runtime': 28772.1576, 'train_samples_per_second': 93.317, 'train_steps_per_second': 1.458, 'total_flos': 1.7111450310580883e+17, 'train_loss': 1.3634675710227062, 'epoch': 6.0})"
          },
          "metadata": {}
        }
      ]
    },
    {
      "cell_type": "markdown",
      "source": [
        "## Save model checkpoint"
      ],
      "metadata": {
        "id": "hJ4P_ynWFXrj"
      }
    },
    {
      "cell_type": "code",
      "source": [
        "# from google.colab import drive\n",
        "# drive.mount('/content/drive')"
      ],
      "metadata": {
        "id": "2Y6onQDqFXrj"
      },
      "execution_count": null,
      "outputs": []
    },
    {
      "cell_type": "code",
      "source": [
        "# !cp -r /content/results/checkpoint-4614 /content/drive/MyDrive/sample100k-checkpoint-4614"
      ],
      "metadata": {
        "id": "weK8dpi-FXrj"
      },
      "execution_count": null,
      "outputs": []
    },
    {
      "cell_type": "code",
      "source": [
        "trainer.save_model('./all_checkpoint524')"
      ],
      "metadata": {
        "execution": {
          "iopub.status.busy": "2023-01-18T08:04:14.390553Z",
          "iopub.execute_input": "2023-01-18T08:04:14.390924Z",
          "iopub.status.idle": "2023-01-18T08:04:20.460242Z",
          "shell.execute_reply.started": "2023-01-18T08:04:14.390890Z",
          "shell.execute_reply": "2023-01-18T08:04:20.459318Z"
        },
        "trusted": true,
        "id": "FnV85JZcFXrk",
        "outputId": "afbca413-0eb1-4945-c4ad-ce17e38dfe89"
      },
      "execution_count": null,
      "outputs": [
        {
          "name": "stderr",
          "text": "Saving model checkpoint to ./all_checkpoint524\nConfiguration saved in ./all_checkpoint524/config.json\nModel weights saved in ./all_checkpoint524/pytorch_model.bin\n",
          "output_type": "stream"
        }
      ]
    },
    {
      "cell_type": "code",
      "source": [
        "!zip -r all_checkpoint524F1_last.zip /kaggle/working/results/checkpoint-41958"
      ],
      "metadata": {
        "execution": {
          "iopub.status.busy": "2023-01-18T08:48:00.476581Z",
          "iopub.execute_input": "2023-01-18T08:48:00.477399Z",
          "iopub.status.idle": "2023-01-18T08:49:22.227246Z",
          "shell.execute_reply.started": "2023-01-18T08:48:00.477354Z",
          "shell.execute_reply": "2023-01-18T08:49:22.226201Z"
        },
        "trusted": true,
        "id": "mXMjnFINFXrk",
        "outputId": "a70e22aa-78c0-442c-8564-839b81696777"
      },
      "execution_count": null,
      "outputs": [
        {
          "name": "stdout",
          "text": "huggingface/tokenizers: The current process just got forked, after parallelism has already been used. Disabling parallelism to avoid deadlocks...\nTo disable this warning, you can either:\n\t- Avoid using `tokenizers` before the fork if possible\n\t- Explicitly set the environment variable TOKENIZERS_PARALLELISM=(true | false)\n  adding: kaggle/working/results/checkpoint-41958/ (stored 0%)\n  adding: kaggle/working/results/checkpoint-41958/trainer_state.json (deflated 81%)\n  adding: kaggle/working/results/checkpoint-41958/config.json (deflated 63%)\n  adding: kaggle/working/results/checkpoint-41958/scheduler.pt (deflated 50%)\n  adding: kaggle/working/results/checkpoint-41958/pytorch_model.bin (deflated 7%)\n  adding: kaggle/working/results/checkpoint-41958/rng_state.pth (deflated 27%)\n  adding: kaggle/working/results/checkpoint-41958/training_args.bin (deflated 48%)\n  adding: kaggle/working/results/checkpoint-41958/optimizer.pt (deflated 27%)\n",
          "output_type": "stream"
        }
      ]
    },
    {
      "cell_type": "code",
      "source": [
        "%cd /kaggle/working"
      ],
      "metadata": {
        "execution": {
          "iopub.status.busy": "2023-01-18T08:29:56.615834Z",
          "iopub.execute_input": "2023-01-18T08:29:56.616822Z",
          "iopub.status.idle": "2023-01-18T08:29:56.627092Z",
          "shell.execute_reply.started": "2023-01-18T08:29:56.616764Z",
          "shell.execute_reply": "2023-01-18T08:29:56.626101Z"
        },
        "trusted": true,
        "id": "whh-v6fiFXrk",
        "outputId": "5209e540-4a85-451a-9696-f73849c6de33"
      },
      "execution_count": null,
      "outputs": [
        {
          "name": "stdout",
          "text": "/kaggle/working\n",
          "output_type": "stream"
        }
      ]
    },
    {
      "cell_type": "code",
      "source": [
        "from IPython.display import FileLink\n",
        "FileLink(r'kaggle/working/results/checkpoint-41958/training_args.bin')"
      ],
      "metadata": {
        "execution": {
          "iopub.status.busy": "2023-01-18T08:34:04.787499Z",
          "iopub.execute_input": "2023-01-18T08:34:04.787873Z",
          "iopub.status.idle": "2023-01-18T08:34:04.796318Z",
          "shell.execute_reply.started": "2023-01-18T08:34:04.787831Z",
          "shell.execute_reply": "2023-01-18T08:34:04.795319Z"
        },
        "trusted": true,
        "id": "z-9cKumzFXrk",
        "outputId": "96520e15-043d-4a73-d34d-9f6c2eabaae9"
      },
      "execution_count": null,
      "outputs": [
        {
          "execution_count": 73,
          "output_type": "execute_result",
          "data": {
            "text/plain": "/kaggle/working/all_checkpoint524.zip",
            "text/html": "<a href='all_checkpoint524.zip' target='_blank'>all_checkpoint524.zip</a><br>"
          },
          "metadata": {}
        }
      ]
    },
    {
      "cell_type": "markdown",
      "source": [
        "# Testing"
      ],
      "metadata": {
        "id": "ajJZ0YmiFXrl"
      }
    },
    {
      "cell_type": "code",
      "source": [
        "preds = trainer.predict(ds_test)"
      ],
      "metadata": {
        "colab": {
          "base_uri": "https://localhost:8080/",
          "height": 89
        },
        "id": "GzYkNRtrpN5P",
        "outputId": "c52836b1-3685-438a-e07c-d3985e4ddb73",
        "execution": {
          "iopub.status.busy": "2023-01-18T07:54:42.860038Z",
          "iopub.execute_input": "2023-01-18T07:54:42.860309Z",
          "iopub.status.idle": "2023-01-18T07:54:50.867450Z",
          "shell.execute_reply.started": "2023-01-18T07:54:42.860285Z",
          "shell.execute_reply": "2023-01-18T07:54:50.866234Z"
        },
        "trusted": true
      },
      "execution_count": null,
      "outputs": [
        {
          "name": "stderr",
          "text": "***** Running Prediction *****\n  Num examples = 2729\n  Batch size = 64\n",
          "output_type": "stream"
        },
        {
          "output_type": "display_data",
          "data": {
            "text/plain": "<IPython.core.display.HTML object>",
            "text/html": "\n    <div>\n      \n      <progress value='43' max='43' style='width:300px; height:20px; vertical-align: middle;'></progress>\n      [43/43 00:07]\n    </div>\n    "
          },
          "metadata": {}
        }
      ]
    },
    {
      "cell_type": "code",
      "source": [
        "y_pred = [ np.argmax(i, axis=-1) for i  in preds[0]]\n",
        "y_test = ds_test.labels"
      ],
      "metadata": {
        "id": "RhIRXXlmLKBH",
        "execution": {
          "iopub.status.busy": "2023-01-18T07:54:50.869545Z",
          "iopub.execute_input": "2023-01-18T07:54:50.869959Z",
          "iopub.status.idle": "2023-01-18T07:54:50.884641Z",
          "shell.execute_reply.started": "2023-01-18T07:54:50.869920Z",
          "shell.execute_reply": "2023-01-18T07:54:50.883738Z"
        },
        "trusted": true
      },
      "execution_count": null,
      "outputs": []
    },
    {
      "cell_type": "code",
      "source": [
        "f1_score(y_test, y_pred, average='macro')"
      ],
      "metadata": {
        "execution": {
          "iopub.status.busy": "2023-01-18T07:54:50.895019Z",
          "iopub.execute_input": "2023-01-18T07:54:50.895763Z",
          "iopub.status.idle": "2023-01-18T07:54:50.909250Z",
          "shell.execute_reply.started": "2023-01-18T07:54:50.895719Z",
          "shell.execute_reply": "2023-01-18T07:54:50.908067Z"
        },
        "trusted": true,
        "id": "05WDhZ3tFXrl",
        "outputId": "45a291bd-a0a3-497c-b848-13d3bb5fd0b1"
      },
      "execution_count": null,
      "outputs": [
        {
          "execution_count": 34,
          "output_type": "execute_result",
          "data": {
            "text/plain": "0.5243593469093176"
          },
          "metadata": {}
        }
      ]
    },
    {
      "cell_type": "code",
      "source": [
        "accuracy_score(y_test, y_pred)"
      ],
      "metadata": {
        "execution": {
          "iopub.status.busy": "2023-01-18T07:59:48.826214Z",
          "iopub.execute_input": "2023-01-18T07:59:48.826573Z",
          "iopub.status.idle": "2023-01-18T07:59:48.837498Z",
          "shell.execute_reply.started": "2023-01-18T07:59:48.826541Z",
          "shell.execute_reply": "2023-01-18T07:59:48.836568Z"
        },
        "trusted": true,
        "id": "UZ_9DaQPFXrm",
        "outputId": "e4aed8a8-3b99-4d28-c21a-d62cf4453c0d"
      },
      "execution_count": null,
      "outputs": [
        {
          "execution_count": 36,
          "output_type": "execute_result",
          "data": {
            "text/plain": "0.5503847563209967"
          },
          "metadata": {}
        }
      ]
    },
    {
      "cell_type": "code",
      "source": [
        "class_name = ['BH', 'EG', 'PL', 'LY', 'SA', 'KW', 'LB', 'DZ', 'YE', 'MA', 'AE','SY', 'OM', 'SD', 'IQ', 'JO', 'QA', 'TN']\n",
        "\n",
        "def show_confusion_matrix(confusion_matrix):\n",
        "  plt.figure(figsize=(10, 8))\n",
        "  hmap = sns.heatmap(confusion_matrix, annot=True, fmt=\"d\", cmap=\"Blues\")\n",
        "  hmap.yaxis.set_ticklabels(hmap.yaxis.get_ticklabels(), rotation=0, ha='right')\n",
        "  hmap.xaxis.set_ticklabels(hmap.xaxis.get_ticklabels(), rotation=30, ha='right')\n",
        "  plt.ylabel('True Dialect')\n",
        "  plt.xlabel('Predicted Dialect');\n",
        "cm = confusion_matrix(y_test, y_pred)\n",
        "df_cm = pd.DataFrame(cm, index=class_name, columns=class_name)\n",
        "show_confusion_matrix(df_cm)"
      ],
      "metadata": {
        "execution": {
          "iopub.status.busy": "2023-01-18T08:45:05.153650Z",
          "iopub.execute_input": "2023-01-18T08:45:05.154042Z",
          "iopub.status.idle": "2023-01-18T08:45:06.999987Z",
          "shell.execute_reply.started": "2023-01-18T08:45:05.154007Z",
          "shell.execute_reply": "2023-01-18T08:45:06.998439Z"
        },
        "trusted": true,
        "id": "lysBvV0rFXrm",
        "outputId": "2018e483-f9e2-4b77-a030-b0063d3261d6"
      },
      "execution_count": null,
      "outputs": [
        {
          "output_type": "display_data",
          "data": {
            "text/plain": "<Figure size 720x576 with 2 Axes>",
            "image/png": "[encoded data removed]"
          },
          "metadata": {}
        }
      ]
    },
    {
      "cell_type": "markdown",
      "source": [
        "# Inference"
      ],
      "metadata": {
        "id": "0lbLuSH_FXrm"
      }
    },
    {
      "cell_type": "code",
      "source": [
        "from google.colab import drive\n",
        "drive.mount('/content/drive')"
      ],
      "metadata": {
        "id": "DV2AhWAyFXrn"
      },
      "execution_count": null,
      "outputs": []
    },
    {
      "cell_type": "code",
      "source": [
        "!cp -r /content/drive/MyDrive/all_checkpoint524 /content/"
      ],
      "metadata": {
        "id": "IMQHAEAdF_4s"
      },
      "execution_count": 9,
      "outputs": []
    },
    {
      "cell_type": "code",
      "source": [
        "!unzip /content/all_checkpoint524/all_checkpoint524.zip"
      ],
      "metadata": {
        "id": "BxKAhlhxGHaa"
      },
      "execution_count": null,
      "outputs": []
    },
    {
      "cell_type": "code",
      "source": [
        "tokenizer = BertTokenizerFast.from_pretrained('aubmindlab/bert-base-arabert')"
      ],
      "metadata": {
        "execution": {
          "iopub.status.busy": "2023-01-18T08:41:44.777955Z",
          "iopub.execute_input": "2023-01-18T08:41:44.778331Z",
          "iopub.status.idle": "2023-01-18T08:41:48.120075Z",
          "shell.execute_reply.started": "2023-01-18T08:41:44.778302Z",
          "shell.execute_reply": "2023-01-18T08:41:48.119086Z"
        },
        "trusted": true,
        "colab": {
          "base_uri": "https://localhost:8080/",
          "height": 177,
          "referenced_widgets": [
            "12ef272921ae43baa7f4a30665f10e1a",
            "1c9b1cb34d744f2eb7bb778a05ea7275",
            "f27b7839e951484f937e78cbcdd06343",
            "d0ece78633a64383abb22fe79c39db6d",
            "5272054883d84ef7838bfb80c74656e0",
            "68c529dee41d454f9184127bea9720aa",
            "842ae7cafb3643dd92b5c87cc1b66ad4",
            "13ed22618fc54d4288b3b6bea13d9ee8",
            "cae8d7fb23234628b148fcf4d36d0482",
            "772dab65cb3a4cc992119df8fb85d981",
            "780914a4d08a4264b12d98ba7539894a",
            "42a34cbec9cd4f38bafaa2ea901bf1f1",
            "6da1523d98f64e4b8d1d5f1c471bfbe3",
            "68e37d8699a849c99efdbdccce954517",
            "21d45651280946db9bd445b02e4e8f0e",
            "5cb6e34b239846368888ea7d43fdac95",
            "c98c1eb3f9794fd89b9aa1eee9c298df",
            "426b30bddcb94da8902103add4e01ecb",
            "f68b8028366d4fed936262c1db04fbdc",
            "ebbc9c30de634fcbad3ce2d8152d6e88",
            "63289e99dcf14d15997f33b61e86ca18",
            "670eee4730354313af2f99f0c8bd3468",
            "4d5de2cf27a549aebe6bec3f3d8eec53",
            "f6eddc9ed2e042b78825289239ad01ad",
            "8ff96de843b8431581e86a7fa5571b35",
            "d85243ccada4406ebdbf270f129027b3",
            "9692286fecb743f8988cf97b1bafd32b",
            "d0f7e83ff5eb4996a83d49468a55c4d5",
            "3b984d8ef3554b6f9326fa6afeaa6961",
            "00e35513c69c4d28a054b43ab3eb7ca5",
            "1781923575574af2ad1d9a29df347c37",
            "68af93dba885438fb578c409d51a0912",
            "a7fda069eb544d6d9767a46ba20d9759",
            "70f0a1a11bea47ca8196c520bf88417a",
            "98e0d319fa68424894ef8f462ce3f71a",
            "601a5dae03374148b1aaab853b1aa7ff",
            "fbccb95a1a9349ff8f9159b40a0ddf58",
            "19d0f47071de423db9949850438a6880",
            "38c44f8a8b3e4700af5f1a0d949b3b35",
            "6eb0e04dd4c4422ba13c6abd98f10c7f",
            "123ba5da05884942806f8e2000babe48",
            "aef48450566040648aa8193dbb403c1e",
            "5b7d8bb3d8df449d8737f49a4688afc6",
            "0ec9cb3d1ea84532a5086057571392bb",
            "b51861f043d94dffa5a35cffea1c7d3a",
            "9b501fde90834d6e8de5e6dba67b83d3",
            "fca83b263f484765ab48e509dd5b1575",
            "59af2a2e540743aba760dd86b68e09a7",
            "75215bbf000b482185010355786aef45",
            "baee107ddc1b43bf8476262a49412c2d",
            "49779a343f4b4fadac0e0a9bbfd72fba",
            "d7b61c09bb914de7877cfb440e1a5cf4",
            "9cc48e4107414c5caa3d3240e5eab2c8",
            "9636a9bacc5c41f5834ae552c480f860",
            "527ebee280cf4c12beb34e3990ad62fd"
          ]
        },
        "id": "sXdYaGjxFXrn",
        "outputId": "5ffee7fe-2024-48e4-a1b5-57c86e16a691"
      },
      "execution_count": 6,
      "outputs": [
        {
          "output_type": "display_data",
          "data": {
            "text/plain": [
              "Downloading:   0%|          | 0.00/637 [00:00<?, ?B/s]"
            ],
            "application/vnd.jupyter.widget-view+json": {
              "version_major": 2,
              "version_minor": 0,
              "model_id": "12ef272921ae43baa7f4a30665f10e1a"
            }
          },
          "metadata": {}
        },
        {
          "output_type": "display_data",
          "data": {
            "text/plain": [
              "Downloading:   0%|          | 0.00/717k [00:00<?, ?B/s]"
            ],
            "application/vnd.jupyter.widget-view+json": {
              "version_major": 2,
              "version_minor": 0,
              "model_id": "42a34cbec9cd4f38bafaa2ea901bf1f1"
            }
          },
          "metadata": {}
        },
        {
          "output_type": "display_data",
          "data": {
            "text/plain": [
              "Downloading:   0%|          | 0.00/2.26M [00:00<?, ?B/s]"
            ],
            "application/vnd.jupyter.widget-view+json": {
              "version_major": 2,
              "version_minor": 0,
              "model_id": "4d5de2cf27a549aebe6bec3f3d8eec53"
            }
          },
          "metadata": {}
        },
        {
          "output_type": "display_data",
          "data": {
            "text/plain": [
              "Downloading:   0%|          | 0.00/112 [00:00<?, ?B/s]"
            ],
            "application/vnd.jupyter.widget-view+json": {
              "version_major": 2,
              "version_minor": 0,
              "model_id": "70f0a1a11bea47ca8196c520bf88417a"
            }
          },
          "metadata": {}
        },
        {
          "output_type": "display_data",
          "data": {
            "text/plain": [
              "Downloading:   0%|          | 0.00/578 [00:00<?, ?B/s]"
            ],
            "application/vnd.jupyter.widget-view+json": {
              "version_major": 2,
              "version_minor": 0,
              "model_id": "b51861f043d94dffa5a35cffea1c7d3a"
            }
          },
          "metadata": {}
        }
      ]
    },
    {
      "cell_type": "code",
      "source": [
        "Model_checkpoint = AutoModelForSequenceClassification.from_pretrained(\"/content/kaggle/working/all_checkpoint524/\")\n",
        "inf_trainer = Trainer(\n",
        "    model=Model_checkpoint,                       \n",
        "    args=training_args,                 \n",
        "    train_dataset=ds_train,        \n",
        "    eval_dataset=ds_val,             \n",
        "    compute_metrics=compute_metrics\n",
        ")\n",
        "inf_preds = inf_trainer.predict(ds_test)"
      ],
      "metadata": {
        "execution": {
          "iopub.status.busy": "2023-01-18T08:44:00.827546Z",
          "iopub.execute_input": "2023-01-18T08:44:00.828393Z",
          "iopub.status.idle": "2023-01-18T08:44:14.177425Z",
          "shell.execute_reply.started": "2023-01-18T08:44:00.828355Z",
          "shell.execute_reply": "2023-01-18T08:44:14.176500Z"
        },
        "trusted": true,
        "colab": {
          "base_uri": "https://localhost:8080/",
          "height": 1000
        },
        "id": "gcEChTCxFXrn",
        "outputId": "d97735bd-6792-4fe2-aee5-efe1452bd186"
      },
      "execution_count": 35,
      "outputs": [
        {
          "output_type": "stream",
          "name": "stderr",
          "text": [
            "loading configuration file /content/kaggle/working/all_checkpoint524/config.json\n",
            "Model config BertConfig {\n",
            "  \"_name_or_path\": \"/content/kaggle/working/all_checkpoint524/\",\n",
            "  \"architectures\": [\n",
            "    \"BertForSequenceClassification\"\n",
            "  ],\n",
            "  \"attention_probs_dropout_prob\": 0.1,\n",
            "  \"classifier_dropout\": null,\n",
            "  \"directionality\": \"bidi\",\n",
            "  \"hidden_act\": \"gelu\",\n",
            "  \"hidden_dropout_prob\": 0.1,\n",
            "  \"hidden_size\": 768,\n",
            "  \"id2label\": {\n",
            "    \"0\": \"LABEL_0\",\n",
            "    \"1\": \"LABEL_1\",\n",
            "    \"2\": \"LABEL_2\",\n",
            "    \"3\": \"LABEL_3\",\n",
            "    \"4\": \"LABEL_4\",\n",
            "    \"5\": \"LABEL_5\",\n",
            "    \"6\": \"LABEL_6\",\n",
            "    \"7\": \"LABEL_7\",\n",
            "    \"8\": \"LABEL_8\",\n",
            "    \"9\": \"LABEL_9\",\n",
            "    \"10\": \"LABEL_10\",\n",
            "    \"11\": \"LABEL_11\",\n",
            "    \"12\": \"LABEL_12\",\n",
            "    \"13\": \"LABEL_13\",\n",
            "    \"14\": \"LABEL_14\",\n",
            "    \"15\": \"LABEL_15\",\n",
            "    \"16\": \"LABEL_16\",\n",
            "    \"17\": \"LABEL_17\"\n",
            "  },\n",
            "  \"initializer_range\": 0.02,\n",
            "  \"intermediate_size\": 3072,\n",
            "  \"label2id\": {\n",
            "    \"LABEL_0\": 0,\n",
            "    \"LABEL_1\": 1,\n",
            "    \"LABEL_10\": 10,\n",
            "    \"LABEL_11\": 11,\n",
            "    \"LABEL_12\": 12,\n",
            "    \"LABEL_13\": 13,\n",
            "    \"LABEL_14\": 14,\n",
            "    \"LABEL_15\": 15,\n",
            "    \"LABEL_16\": 16,\n",
            "    \"LABEL_17\": 17,\n",
            "    \"LABEL_2\": 2,\n",
            "    \"LABEL_3\": 3,\n",
            "    \"LABEL_4\": 4,\n",
            "    \"LABEL_5\": 5,\n",
            "    \"LABEL_6\": 6,\n",
            "    \"LABEL_7\": 7,\n",
            "    \"LABEL_8\": 8,\n",
            "    \"LABEL_9\": 9\n",
            "  },\n",
            "  \"layer_norm_eps\": 1e-12,\n",
            "  \"max_position_embeddings\": 512,\n",
            "  \"model_type\": \"bert\",\n",
            "  \"num_attention_heads\": 12,\n",
            "  \"num_hidden_layers\": 12,\n",
            "  \"pad_token_id\": 0,\n",
            "  \"pooler_fc_size\": 768,\n",
            "  \"pooler_num_attention_heads\": 12,\n",
            "  \"pooler_num_fc_layers\": 3,\n",
            "  \"pooler_size_per_head\": 128,\n",
            "  \"pooler_type\": \"first_token_transform\",\n",
            "  \"position_embedding_type\": \"absolute\",\n",
            "  \"problem_type\": \"single_label_classification\",\n",
            "  \"torch_dtype\": \"float32\",\n",
            "  \"transformers_version\": \"4.25.1\",\n",
            "  \"type_vocab_size\": 2,\n",
            "  \"use_cache\": true,\n",
            "  \"vocab_size\": 64000\n",
            "}\n",
            "\n",
            "loading weights file /content/kaggle/working/all_checkpoint524/pytorch_model.bin\n",
            "All model checkpoint weights were used when initializing BertForSequenceClassification.\n",
            "\n",
            "All the weights of BertForSequenceClassification were initialized from the model checkpoint at /content/kaggle/working/all_checkpoint524/.\n",
            "If your task is similar to the task the model of the checkpoint was trained on, you can already use BertForSequenceClassification for predictions without further training.\n",
            "***** Running Prediction *****\n",
            "  Num examples = 2729\n",
            "  Batch size = 64\n"
          ]
        },
        {
          "output_type": "display_data",
          "data": {
            "text/plain": [
              "<IPython.core.display.HTML object>"
            ],
            "text/html": []
          },
          "metadata": {}
        }
      ]
    },
    {
      "cell_type": "code",
      "source": [
        "y_pred = [ np.argmax(i, axis=-1) for i  in inf_preds[0]]\n",
        "y_test = ds_test.labels"
      ],
      "metadata": {
        "execution": {
          "iopub.status.busy": "2023-01-18T08:44:14.180157Z",
          "iopub.execute_input": "2023-01-18T08:44:14.180478Z",
          "iopub.status.idle": "2023-01-18T08:44:14.197780Z",
          "shell.execute_reply.started": "2023-01-18T08:44:14.180451Z",
          "shell.execute_reply": "2023-01-18T08:44:14.196972Z"
        },
        "trusted": true,
        "id": "PK10F1grFXro"
      },
      "execution_count": 36,
      "outputs": []
    },
    {
      "cell_type": "code",
      "source": [
        "print('F1-Score =  ',f1_score(y_test, y_pred, average='macro')*100,\"%\")\n",
        "print('Accuracy = ',accuracy_score(y_test, y_pred)*100,\"%\")"
      ],
      "metadata": {
        "execution": {
          "iopub.status.busy": "2023-01-18T08:44:18.713814Z",
          "iopub.execute_input": "2023-01-18T08:44:18.714186Z",
          "iopub.status.idle": "2023-01-18T08:44:18.734320Z",
          "shell.execute_reply.started": "2023-01-18T08:44:18.714156Z",
          "shell.execute_reply": "2023-01-18T08:44:18.731906Z"
        },
        "trusted": true,
        "colab": {
          "base_uri": "https://localhost:8080/"
        },
        "id": "dADAy8VjFXro",
        "outputId": "d54b8f4d-48bc-433f-c4b2-7a02b3f0c8c7"
      },
      "execution_count": 37,
      "outputs": [
        {
          "output_type": "stream",
          "name": "stdout",
          "text": [
            "F1-Score =   52.43593469093176 %\n",
            "Accuracy =  55.03847563209967 %\n"
          ]
        }
      ]
    },
    {
      "cell_type": "code",
      "source": [
        "def predict(Trainer,tokenizer,sentence):\n",
        "  countries = {'AE':'United Arab Emirates','BH':'Bahrain','DZ':'Algeria','EG':'Egypt',\n",
        " 'IQ':'Iraq','JO':'Jordan','KW':'Kuwait','LB':'Lebanon','LY':'Libya','MA':'Morocco','OM':'Oman','PL':'Palastine','QA':'Qatar',\n",
        " 'SA':'Saudi Arabia','SD':'Sudan','SY':'Syria','TN':'Tunisia','YE':'YEMEN'}\n",
        "  data = [[0, sentence]]\n",
        "  inf_df = pd.DataFrame(data, columns = ['dialect', 'text'])\n",
        "  test_labels = inf_df['dialect']\n",
        "  test_encodings = tokenizer(inf_df['text'].to_list(), truncation=True, padding=True, max_length=max_seq_len)\n",
        "  test_dataset = QadiDataset(test_encodings, test_labels)\n",
        "  pred = Trainer.predict(test_dataset)\n",
        "  pred = np.argmax(pred[0],axis=-1)\n",
        "  return countries[list(encode_labels.keys())[list(encode_labels.values()).index(pred[0])]]"
      ],
      "metadata": {
        "execution": {
          "iopub.status.busy": "2023-01-18T08:44:25.724216Z",
          "iopub.execute_input": "2023-01-18T08:44:25.724586Z",
          "iopub.status.idle": "2023-01-18T08:44:25.735524Z",
          "shell.execute_reply.started": "2023-01-18T08:44:25.724554Z",
          "shell.execute_reply": "2023-01-18T08:44:25.734009Z"
        },
        "trusted": true,
        "id": "dPE79hB4FXro"
      },
      "execution_count": 38,
      "outputs": []
    },
    {
      "cell_type": "code",
      "source": [
        "predict(inf_trainer,tokenizer,\"والنبي انتي عسل ودمك زي السكر\")"
      ],
      "metadata": {
        "execution": {
          "iopub.status.busy": "2023-01-18T08:44:34.498761Z",
          "iopub.execute_input": "2023-01-18T08:44:34.499307Z",
          "iopub.status.idle": "2023-01-18T08:44:34.592183Z",
          "shell.execute_reply.started": "2023-01-18T08:44:34.499267Z",
          "shell.execute_reply": "2023-01-18T08:44:34.590028Z"
        },
        "trusted": true,
        "colab": {
          "base_uri": "https://localhost:8080/",
          "height": 91
        },
        "id": "b9ll3pUYFXrp",
        "outputId": "2e17fb48-9ed8-4334-f458-675dcab3a87a"
      },
      "execution_count": 39,
      "outputs": [
        {
          "output_type": "stream",
          "name": "stderr",
          "text": [
            "***** Running Prediction *****\n",
            "  Num examples = 1\n",
            "  Batch size = 64\n"
          ]
        },
        {
          "output_type": "display_data",
          "data": {
            "text/plain": [
              "<IPython.core.display.HTML object>"
            ],
            "text/html": []
          },
          "metadata": {}
        },
        {
          "output_type": "execute_result",
          "data": {
            "text/plain": [
              "'Egypt'"
            ],
            "application/vnd.google.colaboratory.intrinsic+json": {
              "type": "string"
            }
          },
          "metadata": {},
          "execution_count": 39
        }
      ]
    },
    {
      "cell_type": "code",
      "source": [
        "predict(inf_trainer,tokenizer,\"ثمكي شكله زي هيك\")"
      ],
      "metadata": {
        "execution": {
          "iopub.status.busy": "2023-01-18T08:44:39.053391Z",
          "iopub.execute_input": "2023-01-18T08:44:39.054338Z",
          "iopub.status.idle": "2023-01-18T08:44:39.100206Z",
          "shell.execute_reply.started": "2023-01-18T08:44:39.054290Z",
          "shell.execute_reply": "2023-01-18T08:44:39.099318Z"
        },
        "trusted": true,
        "colab": {
          "base_uri": "https://localhost:8080/",
          "height": 91
        },
        "id": "xC82KD-XFXrp",
        "outputId": "c285e207-f5d4-4d53-dc2b-89c0bf9161c1"
      },
      "execution_count": 40,
      "outputs": [
        {
          "output_type": "stream",
          "name": "stderr",
          "text": [
            "***** Running Prediction *****\n",
            "  Num examples = 1\n",
            "  Batch size = 64\n"
          ]
        },
        {
          "output_type": "display_data",
          "data": {
            "text/plain": [
              "<IPython.core.display.HTML object>"
            ],
            "text/html": []
          },
          "metadata": {}
        },
        {
          "output_type": "execute_result",
          "data": {
            "text/plain": [
              "'Jordan'"
            ],
            "application/vnd.google.colaboratory.intrinsic+json": {
              "type": "string"
            }
          },
          "metadata": {},
          "execution_count": 40
        }
      ]
    }
  ]
}